{
 "cells": [
  {
   "cell_type": "markdown",
   "metadata": {},
   "source": [
    "# Tara delmont eval\n",
    "\n",
    "relaxed parameters:\n",
    "```\n",
    "match_rank: genus\n",
    "```\n",
    "\n",
    "strict_parameters:\n",
    "```\n",
    " match_rank: order\n",
    "```"
   ]
  },
  {
   "cell_type": "code",
   "execution_count": 34,
   "metadata": {},
   "outputs": [
    {
     "name": "stdout",
     "output_type": "stream",
     "text": [
      "... loading ../eval.output.tara-delmont.strict/ file 0 of 957\n",
      "... loading ../eval.output.tara-delmont.strict/ file 100 of 957\n",
      "... loading ../eval.output.tara-delmont.strict/ file 200 of 957\n",
      "... loading ../eval.output.tara-delmont.strict/ file 300 of 957\n",
      "... loading ../eval.output.tara-delmont.strict/ file 400 of 957\n",
      "... loading ../eval.output.tara-delmont.strict/ file 500 of 957\n",
      "... loading ../eval.output.tara-delmont.strict/ file 600 of 957\n",
      "... loading ../eval.output.tara-delmont.strict/ file 700 of 957\n",
      "... loading ../eval.output.tara-delmont.strict/ file 800 of 957\n",
      "... loading ../eval.output.tara-delmont.strict/ file 900 of 957\n",
      "... loading ../eval.output.tara-delmont.relaxed/ file 0 of 957\n",
      "... loading ../eval.output.tara-delmont.relaxed/ file 100 of 957\n",
      "... loading ../eval.output.tara-delmont.relaxed/ file 200 of 957\n",
      "... loading ../eval.output.tara-delmont.relaxed/ file 300 of 957\n",
      "... loading ../eval.output.tara-delmont.relaxed/ file 400 of 957\n",
      "... loading ../eval.output.tara-delmont.relaxed/ file 500 of 957\n",
      "... loading ../eval.output.tara-delmont.relaxed/ file 600 of 957\n",
      "... loading ../eval.output.tara-delmont.relaxed/ file 700 of 957\n",
      "... loading ../eval.output.tara-delmont.relaxed/ file 800 of 957\n",
      "... loading ../eval.output.tara-delmont.relaxed/ file 900 of 957\n"
     ]
    }
   ],
   "source": [
    "# code to load contig reports\n",
    "import glob\n",
    "import csv\n",
    "import os\n",
    "\n",
    "def load_contig_reports(dirname):\n",
    "    report_csvs = glob.glob(os.path.join(dirname, '*.contigs.csv'))\n",
    "    d = {}\n",
    "    for n, filename in enumerate(report_csvs):\n",
    "        if n % 100 == 0:\n",
    "            print(f'... loading {dirname} file {n} of {len(report_csvs)}')\n",
    "        with open(filename, 'rt') as fp:\n",
    "            for row in csv.DictReader(fp):\n",
    "                key = (row['genomefile'], row['contig_name'])\n",
    "                d[key] = row\n",
    "    return d\n",
    "    \n",
    "strict = load_contig_reports('../eval.output.tara-delmont.strict/')\n",
    "relaxed = load_contig_reports('../eval.output.tara-delmont.relaxed/')"
   ]
  },
  {
   "cell_type": "code",
   "execution_count": 35,
   "metadata": {},
   "outputs": [
    {
     "name": "stdout",
     "output_type": "stream",
     "text": [
      "removed 3627 of 239519 during strict\n",
      "removed 4799 of 238843 during relaxed\n"
     ]
    }
   ],
   "source": [
    "# calculate those with explicit \"dirty\" flags\n",
    "\n",
    "removed_strict = set()\n",
    "for k, row in strict.items():\n",
    "    if row['decision'] == 'ContigInfo.DIRTY':\n",
    "        removed_strict.add(k)\n",
    "print(f'removed {len(removed_strict)} of {len(strict)} during strict')\n",
    "\n",
    "removed_relaxed = set()\n",
    "for k, row in relaxed.items():\n",
    "    if row['decision'] == 'ContigInfo.DIRTY':\n",
    "        removed_relaxed.add(k)\n",
    "print(f'removed {len(removed_relaxed)} of {len(relaxed)} during relaxed')"
   ]
  },
  {
   "cell_type": "code",
   "execution_count": 36,
   "metadata": {},
   "outputs": [
    {
     "name": "stdout",
     "output_type": "stream",
     "text": [
      "Populating the interactive namespace from numpy and matplotlib\n"
     ]
    }
   ],
   "source": [
    "%pylab inline\n",
    "import matplotlib_venn"
   ]
  },
  {
   "cell_type": "code",
   "execution_count": 37,
   "metadata": {},
   "outputs": [
    {
     "data": {
      "text/plain": [
       "<matplotlib_venn._common.VennDiagram at 0x159cdb950>"
      ]
     },
     "execution_count": 37,
     "metadata": {},
     "output_type": "execute_result"
    },
    {
     "data": {
      "image/png": "[encoded data removed]",
      "text/plain": [
       "<Figure size 432x288 with 1 Axes>"
      ]
     },
     "metadata": {},
     "output_type": "display_data"
    }
   ],
   "source": [
    "matplotlib_venn.venn2([removed_strict, removed_relaxed], set_labels=['strict', 'relaxed'])"
   ]
  },
  {
   "cell_type": "code",
   "execution_count": 38,
   "metadata": {},
   "outputs": [
    {
     "name": "stdout",
     "output_type": "stream",
     "text": [
      "72.4% in intersection\n",
      "1.8% only in strict\n",
      "25.8% only in relaxed\n"
     ]
    }
   ],
   "source": [
    "intersection = removed_strict.intersection(removed_relaxed)\n",
    "union = removed_strict.union(removed_relaxed)\n",
    "only_strict = removed_strict - removed_relaxed \n",
    "only_relaxed = removed_relaxed - removed_strict\n",
    "\n",
    "print(f'{len(intersection) / len(union) * 100:.1f}% in intersection')\n",
    "print(f'{len(only_strict) / len(union) * 100:.1f}% only in strict')\n",
    "print(f'{len(only_relaxed) / len(union) * 100:.1f}% only in relaxed')"
   ]
  },
  {
   "cell_type": "markdown",
   "metadata": {},
   "source": [
    "## First round questions/observations:\n",
    "\n",
    "Only a ~25% difference between genus and order level decontam!! Seems good.\n",
    "\n",
    "Q: why are there some that are only in strict? perhaps because genus level assignments are required for relaxed, but not all contigs can get genus level assignments? this seems like something to fix."
   ]
  },
  {
   "cell_type": "code",
   "execution_count": null,
   "metadata": {},
   "outputs": [],
   "source": []
  }
 ],
 "metadata": {
  "kernelspec": {
   "display_name": "Python (myenv)",
   "language": "python",
   "name": "myenv"
  },
  "language_info": {
   "codemirror_mode": {
    "name": "ipython",
    "version": 3
   },
   "file_extension": ".py",
   "mimetype": "text/x-python",
   "name": "python",
   "nbconvert_exporter": "python",
   "pygments_lexer": "ipython3",
   "version": "3.7.6"
  }
 },
 "nbformat": 4,
 "nbformat_minor": 4
}
