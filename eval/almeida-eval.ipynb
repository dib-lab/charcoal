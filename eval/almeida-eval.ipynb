{
 "cells": [
  {
   "cell_type": "markdown",
   "metadata": {},
   "source": [
    "# Almeida 2k random eval\n",
    "\n",
    "\n",
    "match_rank: order"
   ]
  },
  {
   "cell_type": "code",
   "execution_count": 1,
   "metadata": {},
   "outputs": [
    {
     "name": "stdout",
     "output_type": "stream",
     "text": [
      "... loading ../eval.output.almeida/ file 0 of 2000\n",
      "... loading ../eval.output.almeida/ file 100 of 2000\n",
      "... loading ../eval.output.almeida/ file 200 of 2000\n",
      "... loading ../eval.output.almeida/ file 300 of 2000\n",
      "... loading ../eval.output.almeida/ file 400 of 2000\n",
      "... loading ../eval.output.almeida/ file 500 of 2000\n",
      "... loading ../eval.output.almeida/ file 600 of 2000\n",
      "... loading ../eval.output.almeida/ file 700 of 2000\n",
      "... loading ../eval.output.almeida/ file 800 of 2000\n",
      "... loading ../eval.output.almeida/ file 900 of 2000\n",
      "... loading ../eval.output.almeida/ file 1000 of 2000\n",
      "... loading ../eval.output.almeida/ file 1100 of 2000\n",
      "... loading ../eval.output.almeida/ file 1200 of 2000\n",
      "... loading ../eval.output.almeida/ file 1300 of 2000\n",
      "... loading ../eval.output.almeida/ file 1400 of 2000\n",
      "... loading ../eval.output.almeida/ file 1500 of 2000\n",
      "... loading ../eval.output.almeida/ file 1600 of 2000\n",
      "... loading ../eval.output.almeida/ file 1700 of 2000\n",
      "... loading ../eval.output.almeida/ file 1800 of 2000\n",
      "... loading ../eval.output.almeida/ file 1900 of 2000\n"
     ]
    }
   ],
   "source": [
    "# code to load contig reports\n",
    "import glob\n",
    "import csv\n",
    "import os\n",
    "\n",
    "def load_contig_reports(dirname):\n",
    "    report_csvs = glob.glob(os.path.join(dirname, '*.contigs.csv'))\n",
    "    d = {}\n",
    "    for n, filename in enumerate(report_csvs):\n",
    "        if n % 100 == 0:\n",
    "            print(f'... loading {dirname} file {n} of {len(report_csvs)}')\n",
    "        with open(filename, 'rt') as fp:\n",
    "            for row in csv.DictReader(fp):\n",
    "                key = (row['genomefile'], row['contig_name'])\n",
    "                d[key] = row\n",
    "    return d\n",
    "    \n",
    "almeida = load_contig_reports('../eval.output.almeida/')\n"
   ]
  },
  {
   "cell_type": "code",
   "execution_count": 2,
   "metadata": {},
   "outputs": [
    {
     "name": "stdout",
     "output_type": "stream",
     "text": [
      "removed 2947 of 246531\n"
     ]
    }
   ],
   "source": [
    "# calculate those with explicit \"dirty\" flags\n",
    "\n",
    "removed = set()\n",
    "for k, row in almeida.items():\n",
    "    if row['decision'] == 'ContigInfo.DIRTY':\n",
    "        removed.add(k)\n",
    "print(f'removed {len(removed)} of {len(almeida)}')\n"
   ]
  },
  {
   "cell_type": "code",
   "execution_count": 4,
   "metadata": {},
   "outputs": [
    {
     "name": "stdout",
     "output_type": "stream",
     "text": [
      "contig info:\n",
      "ContigInfo.CLEAN 223120 contigs / 4983.3 Mbp\n",
      "ContigInfo.NO_IDENT 15797 contigs / 82.5 Mbp\n",
      "ContigInfo.NO_HASH 4667 contigs / 13.1 Mbp\n",
      "ContigInfo.DIRTY 2947 contigs / 22.2 Mbp\n"
     ]
    }
   ],
   "source": [
    "import collections\n",
    "\n",
    "def count_contig_info(d):\n",
    "    counts = collections.Counter()\n",
    "    counts_bp = collections.Counter()\n",
    "\n",
    "    for k, row in d.items():\n",
    "        decision = row['decision']\n",
    "        bp = int(row['bp'])\n",
    "        counts[decision] += 1\n",
    "        counts_bp[decision] += bp\n",
    "        \n",
    "    return counts, counts_bp\n",
    "\n",
    "counts, counts_bp = count_contig_info(almeida)\n",
    "print('contig info:')\n",
    "for k, v in counts.most_common():\n",
    "    print(f'{k} {counts[k]} contigs / {counts_bp[k]/1e6:.1f} Mbp')\n"
   ]
  },
  {
   "cell_type": "code",
   "execution_count": 5,
   "metadata": {},
   "outputs": [
    {
     "name": "stdout",
     "output_type": "stream",
     "text": [
      "reasons:\n",
      "3 1649 contigs / 10.2 Mbp\n",
      "1 1010 contigs / 9.3 Mbp\n",
      "2 288 contigs / 2.7 Mbp\n"
     ]
    }
   ],
   "source": [
    "import collections\n",
    "\n",
    "def count_reasons(d):\n",
    "    counts = collections.Counter()\n",
    "    counts_bp = collections.Counter()\n",
    "\n",
    "    for k, row in d.items():\n",
    "        if row['decision'] == 'ContigInfo.DIRTY':\n",
    "            reason = int(row['reason'])\n",
    "            assert reason > 0\n",
    "            bp = int(row['bp'])\n",
    "            counts[reason] += 1\n",
    "            counts_bp[reason] += bp\n",
    "        \n",
    "    return counts, counts_bp\n",
    "\n",
    "rcounts, rcounts_bp = count_reasons(almeida)\n",
    "print('reasons:')\n",
    "for k, v in rcounts.most_common():\n",
    "    print(f'{k} {rcounts[k]} contigs / {rcounts_bp[k]/1e6:.1f} Mbp')\n"
   ]
  },
  {
   "cell_type": "code",
   "execution_count": null,
   "metadata": {},
   "outputs": [],
   "source": []
  }
 ],
 "metadata": {
  "kernelspec": {
   "display_name": "Python (myenv)",
   "language": "python",
   "name": "myenv"
  },
  "language_info": {
   "codemirror_mode": {
    "name": "ipython",
    "version": 3
   },
   "file_extension": ".py",
   "mimetype": "text/x-python",
   "name": "python",
   "nbconvert_exporter": "python",
   "pygments_lexer": "ipython3",
   "version": "3.7.6"
  }
 },
 "nbformat": 4,
 "nbformat_minor": 4
}
