{
 "cells": [
  {
   "cell_type": "code",
   "execution_count": 1,
   "metadata": {
    "tags": [
     "parameters"
    ]
   },
   "outputs": [],
   "source": [
    "# example parameters\n",
    "directory = '../../output.nigoni'\n",
    "#name = 'SRS104400_110.fna.gz'\n",
    "name = 'nigoni_canu_2018.09.14.01.fa.gz'\n",
    "render='svg'"
   ]
  },
  {
   "cell_type": "code",
   "execution_count": 2,
   "metadata": {},
   "outputs": [],
   "source": [
    "if not render: render_name = None\n",
    "else: render_name = render"
   ]
  },
  {
   "cell_type": "code",
   "execution_count": 3,
   "metadata": {},
   "outputs": [],
   "source": [
    "import sys\n",
    "import os.path\n",
    "import collections\n",
    "\n",
    "import plotly.graph_objects as go\n",
    "\n",
    "import sourmash\n",
    "from charcoal import utils\n",
    "from charcoal.figs.sourmash_sankey import GenomeSankeyFlow"
   ]
  },
  {
   "cell_type": "code",
   "execution_count": 4,
   "metadata": {},
   "outputs": [
    {
     "data": {
      "text/markdown": [
       "# Charcoal summary report for genome `nigoni_canu_2018.09.14.01.fa.gz`"
      ],
      "text/plain": [
       "<IPython.core.display.Markdown object>"
      ]
     },
     "execution_count": 4,
     "metadata": {},
     "output_type": "execute_result"
    }
   ],
   "source": [
    "from IPython.display import Markdown as md\n",
    "from IPython.display import display\n",
    "md(f\"# Charcoal summary report for genome `{name}`\")"
   ]
  },
  {
   "cell_type": "code",
   "execution_count": 5,
   "metadata": {},
   "outputs": [],
   "source": [
    "import os\n",
    "from charcoal import utils"
   ]
  },
  {
   "cell_type": "code",
   "execution_count": 6,
   "metadata": {},
   "outputs": [],
   "source": [
    "summary_csv = f'{directory}/genome_summary.csv'\n",
    "summary = utils.CSV_DictHelper(summary_csv, 'genome')"
   ]
  },
  {
   "cell_type": "code",
   "execution_count": 10,
   "metadata": {},
   "outputs": [
    {
     "data": {
      "text/markdown": [
       " Genome lineage: `d__Eukaryota`"
      ],
      "text/plain": [
       "<IPython.core.display.Markdown object>"
      ]
     },
     "metadata": {},
     "output_type": "display_data"
    }
   ],
   "source": [
    "info = summary[name]\n",
    "\n",
    "def bp(num):\n",
    "    num = int(num)\n",
    "    if num > 2e6:\n",
    "        return f\"{num / 1e6:.1f} Mbp\"\n",
    "    elif num > 2e3:\n",
    "        return f\"{num / 1e3:.1f} kb\"\n",
    "    else:\n",
    "        return f\"{num} bp\"\n",
    "\n",
    "x = []\n",
    "\n",
    "lineage = info['lineage'].strip()\n",
    "no_lineage = False\n",
    "if not lineage:\n",
    "    lineage = '*none available*'\n",
    "    no_lineage = True\n",
    "x.append(f\" Genome lineage: `{lineage}`\")\n",
    "display(md(\"\\n\".join(x)))\n",
    "\n",
    "if no_lineage:\n",
    "    raise SystemExit(0)  "
   ]
  },
  {
   "cell_type": "code",
   "execution_count": 8,
   "metadata": {},
   "outputs": [
    {
     "data": {
      "text/markdown": [
       "### estimated clean / contaminated bp at each taxonomic rank\n",
       "* superkingdom: good 142.8 Mbp / bad 3.4 Mbp\n",
       "* phylum: good 142.8 Mbp / bad 3.4 Mbp\n",
       "* class: good 142.8 Mbp / bad 3.4 Mbp\n",
       "* order: good 142.8 Mbp / bad 3.4 Mbp\n",
       "* family: good 142.8 Mbp / bad 3.4 Mbp\n",
       "* genus: good 142.8 Mbp / bad 3.4 Mbp\n",
       "\n",
       "\n",
       "Of the total 146.2 Mbp in the genome file,\n",
       "142.8 Mbp could not be identified with the database used, and\n",
       "0 bp was ignored by sourmash due to the scaled/ksize values used.\n"
      ],
      "text/plain": [
       "<IPython.core.display.Markdown object>"
      ]
     },
     "metadata": {},
     "output_type": "display_data"
    }
   ],
   "source": [
    "x = []\n",
    "\n",
    "x.append(\"### estimated clean / contaminated bp at each taxonomic rank\")\n",
    "for rank in ['superkingdom', 'phylum', 'class', 'order', 'family', 'genus']:\n",
    "    bad_name = f'bad_{rank}_bp'\n",
    "    good_name = f'good_{rank}_bp'\n",
    "\n",
    "    x.append(f\"* {rank}: good {bp(info[good_name])} / bad {bp(info[bad_name])}\")\n",
    "\n",
    "x.append(f\"\"\"\n",
    "\n",
    "Of the total {bp(info['total_contigs_bp'])} in the genome file,\n",
    "{bp(info['noident_contigs_bp'])} could not be identified with the database used, and\n",
    "{bp(info['ignored_contigs_bp'])} was ignored by sourmash due to the scaled/ksize values used.\n",
    "\"\"\")\n",
    "    \n",
    "    \n",
    "display(md(\"\\n\".join(x)))"
   ]
  },
  {
   "cell_type": "markdown",
   "metadata": {},
   "source": [
    "## How clean and dirty content changes by taxon"
   ]
  },
  {
   "cell_type": "code",
   "execution_count": 9,
   "metadata": {},
   "outputs": [],
   "source": [
    "def plot_genome_area_chart(genome, summary):\n",
    "    row = summary[genome]\n",
    "\n",
    "    x=['superkingdom', 'phylum', 'class', 'order', 'family', 'genus']\n",
    "\n",
    "    y_ignored_bp = []\n",
    "    y_noident_bp = []\n",
    "    y_clean_bp = []\n",
    "    y_dirty_bp = []\n",
    "\n",
    "    ignored_bp = int(row['ignored_contigs_bp'])\n",
    "    noident_bp = int(row['noident_contigs_bp'])\n",
    "\n",
    "    for rank in x:\n",
    "        # adjust good_bp for unidentified bp and ignored bp.\n",
    "        tax_good_bp = int(row[f'good_{rank}_bp']) - noident_bp - ignored_bp\n",
    "        tax_bad_bp = int(row[f'bad_{rank}_bp'])\n",
    "        # double check calculations, 'cause why not?\n",
    "        assert ignored_bp + noident_bp + tax_good_bp + tax_bad_bp == int(row['total_contigs_bp'])\n",
    "\n",
    "        y_ignored_bp.append(ignored_bp)\n",
    "        y_noident_bp.append(noident_bp)\n",
    "        y_clean_bp.append(tax_good_bp)\n",
    "        y_dirty_bp.append(tax_bad_bp)\n",
    "\n",
    "    fig = go.Figure()\n",
    "\n",
    "    fig.add_trace(go.Scatter(\n",
    "        x=x, y=y_clean_bp,\n",
    "        mode='lines',\n",
    "        line=dict(width=0.5, color='rgb(184, 247, 212)'),\n",
    "        stackgroup='one',\n",
    "        name='clean bp',\n",
    "        groupnorm='percent' # sets the normalization for the sum of the stackgroup\n",
    "    ))\n",
    "    fig.add_trace(go.Scatter(\n",
    "        x=x, y=y_noident_bp,\n",
    "        mode='lines',\n",
    "        line=dict(width=0.5, color='rgb(111, 231, 219)'),\n",
    "        stackgroup='one',\n",
    "        name='no ident'\n",
    "    ))\n",
    "    fig.add_trace(go.Scatter(\n",
    "        x=x, y=y_ignored_bp,\n",
    "        mode='lines',\n",
    "        line=dict(width=0.5, color='rgb(127, 166, 238)'),\n",
    "        stackgroup='one',\n",
    "        name='no hashes (ignored)'\n",
    "    ))\n",
    "    fig.add_trace(go.Scatter(\n",
    "        x=x, y=y_dirty_bp,\n",
    "        mode='lines',\n",
    "        line=dict(width=0.5, color='rgb(131, 90, 241)'),\n",
    "        stackgroup='one',\n",
    "        name='dirty bp'\n",
    "    ))\n",
    "\n",
    "    fig.update_layout(\n",
    "        showlegend=True,\n",
    "        xaxis_type='category',\n",
    "        yaxis=dict(\n",
    "            type='linear',\n",
    "            range=[1, 100],\n",
    "            ticksuffix='%'))\n",
    "    \n",
    "    title = genome\n",
    "    fig.update_layout(template='plotly',\n",
    "                      title=title)\n",
    "\n",
    "    return fig"
   ]
  },
  {
   "cell_type": "code",
   "execution_count": 9,
   "metadata": {
    "scrolled": false
   },
   "outputs": [
    {
     "data": {
      "image/svg+xml": [
       "<svg class=\"main-svg\" xmlns=\"http://www.w3.org/2000/svg\" xmlns:xlink=\"http://www.w3.org/1999/xlink\" width=\"700\" height=\"450\" style=\"\" viewBox=\"0 0 700 450\"><rect x=\"0\" y=\"0\" width=\"700\" height=\"450\" style=\"fill: rgb(255, 255, 255); fill-opacity: 1;\"/><defs id=\"defs-f6023b\"><g class=\"clips\"><clipPath id=\"clipf6023bxyplot\" class=\"plotclip\"><rect width=\"432\" height=\"270\"/></clipPath><clipPath class=\"axesclip\" id=\"clipf6023bx\"><rect x=\"80\" y=\"0\" width=\"432\" height=\"450\"/></clipPath><clipPath class=\"axesclip\" id=\"clipf6023by\"><rect x=\"0\" y=\"100\" width=\"700\" height=\"270\"/></clipPath><clipPath class=\"axesclip\" id=\"clipf6023bxy\"><rect x=\"80\" y=\"100\" width=\"432\" height=\"270\"/></clipPath></g><g class=\"gradients\"/></defs><g class=\"bglayer\"><rect class=\"bg\" x=\"80\" y=\"100\" width=\"432\" height=\"270\" style=\"fill: rgb(229, 236, 246); fill-opacity: 1; stroke-width: 0;\"/></g><g class=\"layer-below\"><g class=\"imagelayer\"/><g class=\"shapelayer\"/></g><g class=\"cartesianlayer\"><g class=\"subplot xy\"><g class=\"layer-subplot\"><g class=\"shapelayer\"/><g class=\"imagelayer\"/></g><g class=\"gridlayer\"><g class=\"x\"><path class=\"xgrid crisp\" transform=\"translate(166.4,0)\" d=\"M0,100v270\" style=\"stroke: rgb(255, 255, 255); stroke-opacity: 1; stroke-width: 1px;\"/><path class=\"xgrid crisp\" transform=\"translate(252.8,0)\" d=\"M0,100v270\" style=\"stroke: rgb(255, 255, 255); stroke-opacity: 1; stroke-width: 1px;\"/><path class=\"xgrid crisp\" transform=\"translate(339.2,0)\" d=\"M0,100v270\" style=\"stroke: rgb(255, 255, 255); stroke-opacity: 1; stroke-width: 1px;\"/><path class=\"xgrid crisp\" transform=\"translate(425.6,0)\" d=\"M0,100v270\" style=\"stroke: rgb(255, 255, 255); stroke-opacity: 1; stroke-width: 1px;\"/></g><g class=\"y\"><path class=\"ygrid crisp\" transform=\"translate(0,318.18)\" d=\"M80,0h432\" style=\"stroke: rgb(255, 255, 255); stroke-opacity: 1; stroke-width: 1px;\"/><path class=\"ygrid crisp\" transform=\"translate(0,263.64)\" d=\"M80,0h432\" style=\"stroke: rgb(255, 255, 255); stroke-opacity: 1; stroke-width: 1px;\"/><path class=\"ygrid crisp\" transform=\"translate(0,209.09)\" d=\"M80,0h432\" style=\"stroke: rgb(255, 255, 255); stroke-opacity: 1; stroke-width: 1px;\"/><path class=\"ygrid crisp\" transform=\"translate(0,154.55)\" d=\"M80,0h432\" style=\"stroke: rgb(255, 255, 255); stroke-opacity: 1; stroke-width: 1px;\"/></g></g><g class=\"zerolinelayer\"/><path class=\"xlines-below\"/><path class=\"ylines-below\"/><g class=\"overlines-below\"/><g class=\"xaxislayer-below\"/><g class=\"yaxislayer-below\"/><g class=\"overaxes-below\"/><g class=\"plot\" transform=\"translate(80, 100)\" clip-path=\"url('#clipf6023bxyplot')\"><g class=\"scatterlayer mlayer\"><g class=\"trace scatter trace859f04\" style=\"stroke-miterlimit: 2;\"><g class=\"fills\"><g><path class=\"js-fill\" d=\"M432,272.73L0,272.73L0,272.72L432,272.72\" style=\"fill: rgb(184, 247, 212); fill-opacity: 0.5; stroke-width: 0;\"/></g><g><path class=\"js-fill\" d=\"M0,6.4L432,6.4L432,272.72L0,272.72Z\" style=\"fill: rgb(111, 231, 219); fill-opacity: 0.5; stroke-width: 0;\"/></g></g><g class=\"errorbars\"/><g class=\"lines\"><path class=\"js-line\" d=\"M0,272.72L432,272.72\" style=\"vector-effect: non-scaling-stroke; fill: none; stroke: rgb(184, 247, 212); stroke-opacity: 1; stroke-width: 0.5px; opacity: 1;\"/></g><g class=\"points\"/><g class=\"text\"/></g><g class=\"trace scatter tracede40d6\" style=\"stroke-miterlimit: 2;\"><g class=\"fills\"><g><path class=\"js-fill\" d=\"M0,6.4L432,6.4L432,6.4L0,6.4Z\" style=\"fill: rgb(127, 166, 238); fill-opacity: 0.5; stroke-width: 0;\"/></g></g><g class=\"errorbars\"/><g class=\"lines\"><path class=\"js-line\" d=\"M0,6.4L432,6.4\" style=\"vector-effect: non-scaling-stroke; fill: none; stroke: rgb(111, 231, 219); stroke-opacity: 1; stroke-width: 0.5px; opacity: 1;\"/></g><g class=\"points\"/><g class=\"text\"/></g><g class=\"trace scatter trace060192\" style=\"stroke-miterlimit: 2;\"><g class=\"fills\"><g><path class=\"js-fill\" d=\"M0,0L432,0L432,6.4L0,6.4Z\" style=\"fill: rgb(131, 90, 241); fill-opacity: 0.5; stroke-width: 0;\"/></g></g><g class=\"errorbars\"/><g class=\"lines\"><path class=\"js-line\" d=\"M0,6.4L432,6.4\" style=\"vector-effect: non-scaling-stroke; fill: none; stroke: rgb(127, 166, 238); stroke-opacity: 1; stroke-width: 0.5px; opacity: 1;\"/></g><g class=\"points\"/><g class=\"text\"/></g><g class=\"trace scatter trace7672ff\" style=\"stroke-miterlimit: 2;\"><g class=\"fills\"/><g class=\"errorbars\"/><g class=\"lines\"><path class=\"js-line\" d=\"M0,0L432,0\" style=\"vector-effect: non-scaling-stroke; fill: none; stroke: rgb(131, 90, 241); stroke-opacity: 1; stroke-width: 0.5px; opacity: 1;\"/></g><g class=\"points\"/><g class=\"text\"/></g></g></g><g class=\"overplot\"/><path class=\"xlines-above crisp\" d=\"M79,370.5H512\" style=\"fill: none; stroke-width: 1px; stroke: rgb(255, 255, 255); stroke-opacity: 1;\"/><path class=\"ylines-above crisp\" d=\"M79.5,100V370\" style=\"fill: none; stroke-width: 1px; stroke: rgb(255, 255, 255); stroke-opacity: 1;\"/><g class=\"overlines-above\"/><g class=\"xaxislayer-above\"><g class=\"xtick\"><text text-anchor=\"middle\" x=\"0\" y=\"385.4\" transform=\"translate(80,0)\" style=\"font-family: 'Open Sans', verdana, arial, sans-serif; font-size: 12px; fill: rgb(42, 63, 95); fill-opacity: 1; white-space: pre;\">superkingdom</text></g><g class=\"xtick\"><text text-anchor=\"middle\" x=\"0\" y=\"385.4\" transform=\"translate(166.4,0)\" style=\"font-family: 'Open Sans', verdana, arial, sans-serif; font-size: 12px; fill: rgb(42, 63, 95); fill-opacity: 1; white-space: pre;\">phylum</text></g><g class=\"xtick\"><text text-anchor=\"middle\" x=\"0\" y=\"385.4\" transform=\"translate(252.8,0)\" style=\"font-family: 'Open Sans', verdana, arial, sans-serif; font-size: 12px; fill: rgb(42, 63, 95); fill-opacity: 1; white-space: pre;\">class</text></g><g class=\"xtick\"><text text-anchor=\"middle\" x=\"0\" y=\"385.4\" transform=\"translate(339.2,0)\" style=\"font-family: 'Open Sans', verdana, arial, sans-serif; font-size: 12px; fill: rgb(42, 63, 95); fill-opacity: 1; white-space: pre;\">order</text></g><g class=\"xtick\"><text text-anchor=\"middle\" x=\"0\" y=\"385.4\" transform=\"translate(425.6,0)\" style=\"font-family: 'Open Sans', verdana, arial, sans-serif; font-size: 12px; fill: rgb(42, 63, 95); fill-opacity: 1; white-space: pre;\">family</text></g><g class=\"xtick\"><text text-anchor=\"middle\" x=\"0\" y=\"385.4\" transform=\"translate(512,0)\" style=\"font-family: 'Open Sans', verdana, arial, sans-serif; font-size: 12px; fill: rgb(42, 63, 95); fill-opacity: 1; white-space: pre;\">genus</text></g></g><g class=\"yaxislayer-above\"><g class=\"ytick\"><text text-anchor=\"end\" x=\"76.6\" y=\"4.199999999999999\" transform=\"translate(0,318.18)\" style=\"font-family: 'Open Sans', verdana, arial, sans-serif; font-size: 12px; fill: rgb(42, 63, 95); fill-opacity: 1; white-space: pre;\">20%</text></g><g class=\"ytick\"><text text-anchor=\"end\" x=\"76.6\" y=\"4.199999999999999\" transform=\"translate(0,263.64)\" style=\"font-family: 'Open Sans', verdana, arial, sans-serif; font-size: 12px; fill: rgb(42, 63, 95); fill-opacity: 1; white-space: pre;\">40%</text></g><g class=\"ytick\"><text text-anchor=\"end\" x=\"76.6\" y=\"4.199999999999999\" transform=\"translate(0,209.09)\" style=\"font-family: 'Open Sans', verdana, arial, sans-serif; font-size: 12px; fill: rgb(42, 63, 95); fill-opacity: 1; white-space: pre;\">60%</text></g><g class=\"ytick\"><text text-anchor=\"end\" x=\"76.6\" y=\"4.199999999999999\" transform=\"translate(0,154.55)\" style=\"font-family: 'Open Sans', verdana, arial, sans-serif; font-size: 12px; fill: rgb(42, 63, 95); fill-opacity: 1; white-space: pre;\">80%</text></g><g class=\"ytick\"><text text-anchor=\"end\" x=\"76.6\" y=\"4.199999999999999\" transform=\"translate(0,100)\" style=\"font-family: 'Open Sans', verdana, arial, sans-serif; font-size: 12px; fill: rgb(42, 63, 95); fill-opacity: 1; white-space: pre;\">100%</text></g></g><g class=\"overaxes-above\"/></g></g><g class=\"polarlayer\"/><g class=\"ternarylayer\"/><g class=\"geolayer\"/><g class=\"funnelarealayer\"/><g class=\"pielayer\"/><g class=\"treemaplayer\"/><g class=\"sunburstlayer\"/><g class=\"glimages\"/><defs id=\"topdefs-f6023b\"><g class=\"clips\"/><clipPath id=\"legendf6023b\"><rect width=\"167\" height=\"86\" x=\"0\" y=\"0\"/></clipPath></defs><g class=\"layer-above\"><g class=\"imagelayer\"/><g class=\"shapelayer\"/></g><g class=\"infolayer\"><g class=\"legend\" pointer-events=\"all\" transform=\"translate(520.64, 100)\"><rect class=\"bg\" shape-rendering=\"crispEdges\" style=\"stroke: rgb(68, 68, 68); stroke-opacity: 1; fill: rgb(255, 255, 255); fill-opacity: 1; stroke-width: 0px;\" width=\"167\" height=\"86\" x=\"0\" y=\"0\"/><g class=\"scrollbox\" transform=\"translate(0, 0)\" clip-path=\"url('#legendf6023b')\"><g class=\"groups\"><g class=\"traces\" transform=\"translate(0, 14.5)\" style=\"opacity: 1;\"><text class=\"legendtext user-select-none\" text-anchor=\"start\" x=\"40\" y=\"4.680000000000001\" style=\"font-family: 'Open Sans', verdana, arial, sans-serif; font-size: 12px; fill: rgb(42, 63, 95); fill-opacity: 1; white-space: pre;\">dirty bp</text><g class=\"layers\"><g class=\"legendfill\"><path class=\"js-fill\" d=\"M5,-2h30v6h-30z\" style=\"stroke-width: 0; fill: rgb(131, 90, 241); fill-opacity: 0.5;\"/></g><g class=\"legendlines\"><path class=\"js-line\" d=\"M5,-2h30\" style=\"fill: none; stroke: rgb(131, 90, 241); stroke-opacity: 1; stroke-width: 0.5px;\"/></g><g class=\"legendsymbols\"><g class=\"legendpoints\"/></g></g><rect class=\"legendtoggle\" pointer-events=\"all\" x=\"0\" y=\"-9.5\" width=\"161.65625\" height=\"19\" style=\"cursor: pointer; fill: rgb(0, 0, 0); fill-opacity: 0;\"/></g><g class=\"traces\" transform=\"translate(0, 33.5)\" style=\"opacity: 1;\"><text class=\"legendtext user-select-none\" text-anchor=\"start\" x=\"40\" y=\"4.680000000000001\" style=\"font-family: 'Open Sans', verdana, arial, sans-serif; font-size: 12px; fill: rgb(42, 63, 95); fill-opacity: 1; white-space: pre;\">no hashes (ignored)</text><g class=\"layers\"><g class=\"legendfill\"><path class=\"js-fill\" d=\"M5,-2h30v6h-30z\" style=\"stroke-width: 0; fill: rgb(127, 166, 238); fill-opacity: 0.5;\"/></g><g class=\"legendlines\"><path class=\"js-line\" d=\"M5,-2h30\" style=\"fill: none; stroke: rgb(127, 166, 238); stroke-opacity: 1; stroke-width: 0.5px;\"/></g><g class=\"legendsymbols\"><g class=\"legendpoints\"/></g></g><rect class=\"legendtoggle\" pointer-events=\"all\" x=\"0\" y=\"-9.5\" width=\"161.65625\" height=\"19\" style=\"cursor: pointer; fill: rgb(0, 0, 0); fill-opacity: 0;\"/></g><g class=\"traces\" transform=\"translate(0, 52.5)\" style=\"opacity: 1;\"><text class=\"legendtext user-select-none\" text-anchor=\"start\" x=\"40\" y=\"4.680000000000001\" style=\"font-family: 'Open Sans', verdana, arial, sans-serif; font-size: 12px; fill: rgb(42, 63, 95); fill-opacity: 1; white-space: pre;\">no ident</text><g class=\"layers\"><g class=\"legendfill\"><path class=\"js-fill\" d=\"M5,-2h30v6h-30z\" style=\"stroke-width: 0; fill: rgb(111, 231, 219); fill-opacity: 0.5;\"/></g><g class=\"legendlines\"><path class=\"js-line\" d=\"M5,-2h30\" style=\"fill: none; stroke: rgb(111, 231, 219); stroke-opacity: 1; stroke-width: 0.5px;\"/></g><g class=\"legendsymbols\"><g class=\"legendpoints\"/></g></g><rect class=\"legendtoggle\" pointer-events=\"all\" x=\"0\" y=\"-9.5\" width=\"161.65625\" height=\"19\" style=\"cursor: pointer; fill: rgb(0, 0, 0); fill-opacity: 0;\"/></g><g class=\"traces\" transform=\"translate(0, 71.5)\" style=\"opacity: 1;\"><text class=\"legendtext user-select-none\" text-anchor=\"start\" x=\"40\" y=\"4.680000000000001\" style=\"font-family: 'Open Sans', verdana, arial, sans-serif; font-size: 12px; fill: rgb(42, 63, 95); fill-opacity: 1; white-space: pre;\">clean bp</text><g class=\"layers\"><g class=\"legendfill\"><path class=\"js-fill\" d=\"M5,-2h30v6h-30z\" style=\"stroke-width: 0; fill: rgb(184, 247, 212); fill-opacity: 0.5;\"/></g><g class=\"legendlines\"><path class=\"js-line\" d=\"M5,-2h30\" style=\"fill: none; stroke: rgb(184, 247, 212); stroke-opacity: 1; stroke-width: 0.5px;\"/></g><g class=\"legendsymbols\"><g class=\"legendpoints\"/></g></g><rect class=\"legendtoggle\" pointer-events=\"all\" x=\"0\" y=\"-9.5\" width=\"161.65625\" height=\"19\" style=\"cursor: pointer; fill: rgb(0, 0, 0); fill-opacity: 0;\"/></g></g></g><rect class=\"scrollbar\" rx=\"20\" ry=\"3\" width=\"0\" height=\"0\" style=\"fill: rgb(128, 139, 164); fill-opacity: 1;\" x=\"0\" y=\"0\"/></g><g class=\"g-gtitle\"><text class=\"gtitle\" x=\"35\" y=\"50\" text-anchor=\"start\" dy=\"0em\" style=\"font-family: 'Open Sans', verdana, arial, sans-serif; font-size: 17px; fill: rgb(42, 63, 95); opacity: 1; font-weight: normal; white-space: pre;\">nigoni_canu_2018.09.14.01.fa.gz</text></g><g class=\"g-xtitle\"/><g class=\"g-ytitle\"/></g></svg>"
      ]
     },
     "metadata": {},
     "output_type": "display_data"
    }
   ],
   "source": [
    "fig = plot_genome_area_chart(name, summary)\n",
    "fig.show(render_name)"
   ]
  },
  {
   "cell_type": "markdown",
   "metadata": {},
   "source": [
    "## Taxonomic assignments across ranks"
   ]
  },
  {
   "cell_type": "code",
   "execution_count": 10,
   "metadata": {},
   "outputs": [],
   "source": [
    "def make_plotly_fig(obj, title):\n",
    "    \"Build a plotly figure/sankey diagram.\"\n",
    "    # make the data to go into the sankey figure.\n",
    "    labels = obj.make_labels()\n",
    "    src_l, dest_l, cnt_l, color_l, label_l = obj.make_lists()\n",
    "\n",
    "    # build figure\n",
    "    fig = go.Figure(data=[go.Sankey(\n",
    "        node = dict(\n",
    "          pad = 15,\n",
    "          thickness = 20,\n",
    "          line = dict(color = \"black\", width = 0.5),\n",
    "          label = labels,\n",
    "          color = \"blue\"\n",
    "        ),\n",
    "        link = dict(\n",
    "          source = src_l,\n",
    "          target = dest_l,\n",
    "          value = cnt_l,\n",
    "          color = color_l,\n",
    "          label = label_l,\n",
    "      ))])\n",
    "\n",
    "    if title:\n",
    "        fig.update_layout(title_text=title, font_size=10)\n",
    "\n",
    "    return fig"
   ]
  },
  {
   "cell_type": "code",
   "execution_count": 11,
   "metadata": {},
   "outputs": [],
   "source": [
    "def make_plotly_fig(obj, title):\n",
    "    \"Build a plotly figure/sankey diagram.\"\n",
    "    # make the data to go into the sankey figure.\n",
    "    labels = obj.make_labels()\n",
    "    src_l, dest_l, cnt_l, color_l, label_l = obj.make_lists()\n",
    "\n",
    "    # build figure\n",
    "    fig = go.Figure(data=[go.Sankey(\n",
    "        node = dict(\n",
    "          pad = 15,\n",
    "          thickness = 20,\n",
    "          line = dict(color = \"black\", width = 0.5),\n",
    "          label = labels,\n",
    "          color = \"blue\"\n",
    "        ),\n",
    "        link = dict(\n",
    "          source = src_l,\n",
    "          target = dest_l,\n",
    "          value = cnt_l,\n",
    "          color = color_l,\n",
    "          label = label_l,\n",
    "      ))])\n",
    "\n",
    "    if title:\n",
    "        fig.update_layout(title_text=title, font_size=10)\n",
    "\n",
    "    return fig\n",
    "\n",
    "\n",
    "def make_flow_fig(title, genome_lineage, contigs_info):\n",
    "    obj = GenomeSankeyFlow()\n",
    "    \n",
    "    counts = collections.Counter()\n",
    "    for contig_name, gather_info in contigs_info.items():\n",
    "        contig_taxlist = gather_info.gather_tax\n",
    "\n",
    "        # iterate over each contig match and summarize counts.              \n",
    "        # note - here we can stop at first one, or track them all.          \n",
    "        # note - b/c gather counts each hash only once, these               \n",
    "        #     are non-overlapping                                           \n",
    "        total_hashcount = 0\n",
    "        for lin, hashcount in contig_taxlist:\n",
    "            counts[lin] += hashcount\n",
    "            total_hashcount += hashcount\n",
    "            break # display only first\n",
    "\n",
    "        # track missing => unassigned lineage\n",
    "        unident = gather_info.num_hashes - total_hashcount\n",
    "        counts[obj.unassigned_lin] += unident\n",
    "\n",
    "    # extend genome_lineage ranks\n",
    "    last_genome_rank = genome_lineage[-1].rank\n",
    "    taxlist = list(sourmash.lca.taxlist())[:-2]\n",
    "    assert taxlist[-1] == 'genus', taxlist\n",
    "    \n",
    "    if genome_lineage[-1].rank != 'genus':\n",
    "        genome_lineage = list(genome_lineage)\n",
    "        for rank in taxlist[len(genome_lineage):]:\n",
    "            genome_lineage.append(sourmash.lca.LineagePair(rank=rank, name='unassigned'))\n",
    "    \n",
    "    # set the color of the main lineage\n",
    "    genome_lineage = tuple(genome_lineage)\n",
    "    obj.colors[genome_lineage] = \"lightseagreen\"\n",
    "    \n",
    "    # for phylum level disagreements, let's go with palevioletred\n",
    "    for lin in counts:\n",
    "        if not utils.is_lineage_match(lin, genome_lineage, 'phylum'):\n",
    "            obj.colors[lin] = 'palevioletred'\n",
    "            \n",
    "    # assign unassigned to good lineage, maybe?\n",
    "    counts[genome_lineage] += counts[obj.unassigned_lin]\n",
    "    del counts[obj.unassigned_lin]\n",
    "    \n",
    "    obj.make_links(genome_lineage, counts)\n",
    "    fig = make_plotly_fig(obj, title)\n",
    "    \n",
    "    return fig"
   ]
  },
  {
   "cell_type": "code",
   "execution_count": 12,
   "metadata": {},
   "outputs": [
    {
     "data": {
      "image/svg+xml": [
       "<svg class=\"main-svg\" xmlns=\"http://www.w3.org/2000/svg\" xmlns:xlink=\"http://www.w3.org/1999/xlink\" width=\"700\" height=\"450\" style=\"\" viewBox=\"0 0 700 450\"><rect x=\"0\" y=\"0\" width=\"700\" height=\"450\" style=\"fill: rgb(255, 255, 255); fill-opacity: 1;\"/><defs id=\"defs-647e8e\"><g class=\"clips\"/><g class=\"gradients\"/></defs><g class=\"bglayer\"/><g class=\"layer-below\"><g class=\"imagelayer\"/><g class=\"shapelayer\"/></g><g class=\"cartesianlayer\"/><g class=\"polarlayer\"/><g class=\"ternarylayer\"/><g class=\"geolayer\"/><g class=\"funnelarealayer\"/><g class=\"pielayer\"/><g class=\"treemaplayer\"/><g class=\"sunburstlayer\"/><g class=\"glimages\"/><g class=\"sankey\" transform=\"translate(80,100)matrix(1 0 0 1 0 0)\" style=\"box-sizing: content-box; position: absolute; left: 0px; shape-rendering: geometricprecision; pointer-events: auto;\"><g class=\"sankey-links\" style=\"fill: none;\"><path class=\"sankey-link\" d=\"M124,0C166,0 166,0 208,0L208,250.0739313693703C166,250.0739313693703 166,250.0739313693703 124,250.0739313693703Z\" style=\"stroke: rgb(68, 68, 68); stroke-opacity: 1; fill: rgb(32, 178, 170); fill-opacity: 1; stroke-width: 0; opacity: 1;\"/><path class=\"sankey-link\" d=\"M20,0C62,0 62,0 104,0L104,250.0739313693703C62,250.0739313693703 62,250.0739313693703 20,250.0739313693703Z\" style=\"stroke: rgb(68, 68, 68); stroke-opacity: 1; fill: rgb(32, 178, 170); fill-opacity: 1; stroke-width: 0; opacity: 1;\"/><path class=\"sankey-link\" d=\"M228,0C270,0 270,0 312,0L312,250.0739313693703C270,250.0739313693703 270,250.0739313693703 228,250.0739313693703Z\" style=\"stroke: rgb(68, 68, 68); stroke-opacity: 1; fill: rgb(32, 178, 170); fill-opacity: 1; stroke-width: 0; opacity: 1;\"/><path class=\"sankey-link\" d=\"M332,0C374,0 374,0 416,0L416,250.0739313693703C374,250.0739313693703 374,250.0739313693703 332,250.0739313693703Z\" style=\"stroke: rgb(68, 68, 68); stroke-opacity: 1; fill: rgb(32, 178, 170); fill-opacity: 1; stroke-width: 0; opacity: 1;\"/><path class=\"sankey-link\" d=\"M436,0C478,0 478,0 520,0L520,250.0739313693703C478,250.0739313693703 478,250.0739313693703 436,250.0739313693703Z\" style=\"stroke: rgb(68, 68, 68); stroke-opacity: 1; fill: rgb(32, 178, 170); fill-opacity: 1; stroke-width: 0; opacity: 1;\"/><path class=\"sankey-link\" d=\"M124,265.0739313693703C166,265.0739313693703 166,265.0739313693703 208,265.0739313693703L208,269.99999999999994C166,269.99999999999994 166,269.99999999999994 124,269.99999999999994Z\" style=\"stroke: rgb(68, 68, 68); stroke-opacity: 1; fill: rgb(219, 112, 147); fill-opacity: 1; stroke-width: 0; opacity: 1;\"/><path class=\"sankey-link\" d=\"M20,265.0739313693703C62,265.0739313693703 62,265.0739313693703 104,265.0739313693703L104,269.99999999999994C62,269.99999999999994 62,269.99999999999994 20,269.99999999999994Z\" style=\"stroke: rgb(68, 68, 68); stroke-opacity: 1; fill: rgb(219, 112, 147); fill-opacity: 1; stroke-width: 0; opacity: 1;\"/><path class=\"sankey-link\" d=\"M228,265.0739313693703C270,265.0739313693703 270,265.0739313693703 312,265.0739313693703L312,269.99999999999994C270,269.99999999999994 270,269.99999999999994 228,269.99999999999994Z\" style=\"stroke: rgb(68, 68, 68); stroke-opacity: 1; fill: rgb(219, 112, 147); fill-opacity: 1; stroke-width: 0; opacity: 1;\"/><path class=\"sankey-link\" d=\"M332,265.0739313693703C374,265.0739313693703 374,265.0739313693703 416,265.0739313693703L416,269.99999999999994C374,269.99999999999994 374,269.99999999999994 332,269.99999999999994Z\" style=\"stroke: rgb(68, 68, 68); stroke-opacity: 1; fill: rgb(219, 112, 147); fill-opacity: 1; stroke-width: 0; opacity: 1;\"/><path class=\"sankey-link\" d=\"M436,265.0739313693703C478,265.0739313693703 478,265.0739313693703 520,265.0739313693703L520,269.99999999999994C478,269.99999999999994 478,269.99999999999994 436,269.99999999999994Z\" style=\"stroke: rgb(68, 68, 68); stroke-opacity: 1; fill: rgb(219, 112, 147); fill-opacity: 1; stroke-width: 0; opacity: 1;\"/></g><g class=\"sankey-node-set\" style=\"cursor: move;\"><g class=\"sankey-node\" transform=\"translate(104.000, 0.000)\" style=\"opacity: 1;\"><rect class=\"node-rect\" width=\"20\" height=\"250.0739313693703\" style=\"stroke-width: 0.5; stroke: rgb(0, 0, 0); stroke-opacity: 1; fill: rgb(0, 0, 255); fill-opacity: 1;\"/><rect class=\"node-capture\" x=\"-10\" y=\"-7.5\" width=\"40\" height=\"265.0739313693703\" style=\"fill-opacity: 0;\"/><g class=\"node-entered\" transform=\"translate(0 126.03696568468516)\"><path class=\"node-label-guide\" id=\"1cd5a1_0_node_0\" d=\"M24,0L540,0\" transform=\"matrix(1 0 0 1 0 0)\"/><text class=\"node-label\" transform=\"scale(1 1)\" style=\"user-select: none; cursor: default; fill: rgb(42, 63, 95); text-shadow: rgb(255, 255, 255) -1px 1px 1px, rgb(255, 255, 255) 1px 1px 1px, rgb(255, 255, 255) 1px -1px 1px, rgb(255, 255, 255) -1px -1px 1px; font-family: 'Open Sans', verdana, arial, sans-serif; font-size: 10px; fill-opacity: 1;\"><textPath class=\"node-label-text-path\" alignment-baseline=\"middle\" xlink:href=\"#1cd5a1_0_node_0\" startOffset=\"0%\" text-anchor=\"start\" style=\"fill: rgb(0, 0, 0);\">unassigned</textPath></text></g></g><g class=\"sankey-node\" transform=\"translate(0.000, 0.000)\" style=\"opacity: 1;\"><rect class=\"node-rect\" width=\"20\" height=\"250.0739313693703\" style=\"stroke-width: 0.5; stroke: rgb(0, 0, 0); stroke-opacity: 1; fill: rgb(0, 0, 255); fill-opacity: 1;\"/><rect class=\"node-capture\" x=\"-10\" y=\"-7.5\" width=\"40\" height=\"265.0739313693703\" style=\"fill-opacity: 0;\"/><g class=\"node-entered\" transform=\"translate(0 126.03696568468516)\"><path class=\"node-label-guide\" id=\"1cd5a1_0_node_1\" d=\"M24,0L540,0\" transform=\"matrix(1 0 0 1 0 0)\"/><text class=\"node-label\" transform=\"scale(1 1)\" style=\"user-select: none; cursor: default; fill: rgb(42, 63, 95); text-shadow: rgb(255, 255, 255) -1px 1px 1px, rgb(255, 255, 255) 1px 1px 1px, rgb(255, 255, 255) 1px -1px 1px, rgb(255, 255, 255) -1px -1px 1px; font-family: 'Open Sans', verdana, arial, sans-serif; font-size: 10px; fill-opacity: 1;\"><textPath class=\"node-label-text-path\" alignment-baseline=\"middle\" xlink:href=\"#1cd5a1_0_node_1\" startOffset=\"0%\" text-anchor=\"start\" style=\"fill: rgb(0, 0, 0);\">d__Eukaryota</textPath></text></g></g><g class=\"sankey-node\" transform=\"translate(208.000, 0.000)\" style=\"opacity: 1;\"><rect class=\"node-rect\" width=\"20\" height=\"250.0739313693703\" style=\"stroke-width: 0.5; stroke: rgb(0, 0, 0); stroke-opacity: 1; fill: rgb(0, 0, 255); fill-opacity: 1;\"/><rect class=\"node-capture\" x=\"-10\" y=\"-7.5\" width=\"40\" height=\"265.0739313693703\" style=\"fill-opacity: 0;\"/><g class=\"node-entered\" transform=\"translate(0 126.03696568468516)\"><path class=\"node-label-guide\" id=\"1cd5a1_0_node_2\" d=\"M24,0L540,0\" transform=\"matrix(1 0 0 1 0 0)\"/><text class=\"node-label\" transform=\"scale(1 1)\" style=\"user-select: none; cursor: default; fill: rgb(42, 63, 95); text-shadow: rgb(255, 255, 255) -1px 1px 1px, rgb(255, 255, 255) 1px 1px 1px, rgb(255, 255, 255) 1px -1px 1px, rgb(255, 255, 255) -1px -1px 1px; font-family: 'Open Sans', verdana, arial, sans-serif; font-size: 10px; fill-opacity: 1;\"><textPath class=\"node-label-text-path\" alignment-baseline=\"middle\" xlink:href=\"#1cd5a1_0_node_2\" startOffset=\"0%\" text-anchor=\"start\" style=\"fill: rgb(0, 0, 0);\">unassigned</textPath></text></g></g><g class=\"sankey-node\" transform=\"translate(312.000, 0.000)\" style=\"opacity: 1;\"><rect class=\"node-rect\" width=\"20\" height=\"250.0739313693703\" style=\"stroke-width: 0.5; stroke: rgb(0, 0, 0); stroke-opacity: 1; fill: rgb(0, 0, 255); fill-opacity: 1;\"/><rect class=\"node-capture\" x=\"-10\" y=\"-7.5\" width=\"40\" height=\"265.0739313693703\" style=\"fill-opacity: 0;\"/><g class=\"node-entered\" transform=\"translate(0 126.03696568468516)\"><path class=\"node-label-guide\" id=\"1cd5a1_0_node_3\" d=\"M24,0L540,0\" transform=\"matrix(1 0 0 1 0 0)\"/><text class=\"node-label\" transform=\"scale(1 1)\" style=\"user-select: none; cursor: default; fill: rgb(42, 63, 95); text-shadow: rgb(255, 255, 255) -1px 1px 1px, rgb(255, 255, 255) 1px 1px 1px, rgb(255, 255, 255) 1px -1px 1px, rgb(255, 255, 255) -1px -1px 1px; font-family: 'Open Sans', verdana, arial, sans-serif; font-size: 10px; fill-opacity: 1;\"><textPath class=\"node-label-text-path\" alignment-baseline=\"middle\" xlink:href=\"#1cd5a1_0_node_3\" startOffset=\"0%\" text-anchor=\"start\" style=\"fill: rgb(0, 0, 0);\">unassigned</textPath></text></g></g><g class=\"sankey-node\" transform=\"translate(416.000, 0.000)\" style=\"opacity: 1;\"><rect class=\"node-rect\" width=\"20\" height=\"250.0739313693703\" style=\"stroke-width: 0.5; stroke: rgb(0, 0, 0); stroke-opacity: 1; fill: rgb(0, 0, 255); fill-opacity: 1;\"/><rect class=\"node-capture\" x=\"-10\" y=\"-7.5\" width=\"40\" height=\"265.0739313693703\" style=\"fill-opacity: 0;\"/><g class=\"node-entered\" transform=\"translate(0 126.03696568468516)\"><path class=\"node-label-guide\" id=\"1cd5a1_0_node_4\" d=\"M24,0L540,0\" transform=\"matrix(1 0 0 1 0 0)\"/><text class=\"node-label\" transform=\"scale(1 1)\" style=\"user-select: none; cursor: default; fill: rgb(42, 63, 95); text-shadow: rgb(255, 255, 255) -1px 1px 1px, rgb(255, 255, 255) 1px 1px 1px, rgb(255, 255, 255) 1px -1px 1px, rgb(255, 255, 255) -1px -1px 1px; font-family: 'Open Sans', verdana, arial, sans-serif; font-size: 10px; fill-opacity: 1;\"><textPath class=\"node-label-text-path\" alignment-baseline=\"middle\" xlink:href=\"#1cd5a1_0_node_4\" startOffset=\"0%\" text-anchor=\"start\" style=\"fill: rgb(0, 0, 0);\">unassigned</textPath></text></g></g><g class=\"sankey-node\" transform=\"translate(520.000, 0.000)\" style=\"opacity: 1;\"><rect class=\"node-rect\" width=\"20\" height=\"250.0739313693703\" style=\"stroke-width: 0.5; stroke: rgb(0, 0, 0); stroke-opacity: 1; fill: rgb(0, 0, 255); fill-opacity: 1;\"/><rect class=\"node-capture\" x=\"-10\" y=\"-7.5\" width=\"40\" height=\"265.0739313693703\" style=\"fill-opacity: 0;\"/><g class=\"node-entered\" transform=\"translate(0 126.03696568468516)\"><path class=\"node-label-guide\" id=\"1cd5a1_0_node_5\" d=\"M-540,0L-4,0\" transform=\"matrix(1 0 0 1 0 0)\"/><text class=\"node-label\" transform=\"scale(1 1)\" style=\"user-select: none; cursor: default; fill: rgb(42, 63, 95); text-shadow: rgb(255, 255, 255) -1px 1px 1px, rgb(255, 255, 255) 1px 1px 1px, rgb(255, 255, 255) 1px -1px 1px, rgb(255, 255, 255) -1px -1px 1px; font-family: 'Open Sans', verdana, arial, sans-serif; font-size: 10px; fill-opacity: 1;\"><textPath class=\"node-label-text-path\" alignment-baseline=\"middle\" xlink:href=\"#1cd5a1_0_node_5\" startOffset=\"100%\" text-anchor=\"end\" style=\"fill: rgb(0, 0, 0);\">unassigned</textPath></text></g></g><g class=\"sankey-node\" transform=\"translate(104.000, 265.074)\" style=\"opacity: 1;\"><rect class=\"node-rect\" width=\"20\" height=\"4.926068630629686\" style=\"stroke-width: 0.5; stroke: rgb(0, 0, 0); stroke-opacity: 1; fill: rgb(0, 0, 255); fill-opacity: 1;\"/><rect class=\"node-capture\" x=\"-10\" y=\"-7.5\" width=\"40\" height=\"19.926068630629686\" style=\"fill-opacity: 0;\"/><g class=\"node-entered\" transform=\"translate(0 3.463034315314843)\"><path class=\"node-label-guide\" id=\"1cd5a1_0_node_6\" d=\"M24,0L540,0\" transform=\"matrix(1 0 0 1 0 0)\"/><text class=\"node-label\" transform=\"scale(1 1)\" style=\"user-select: none; cursor: default; fill: rgb(42, 63, 95); text-shadow: rgb(255, 255, 255) -1px 1px 1px, rgb(255, 255, 255) 1px 1px 1px, rgb(255, 255, 255) 1px -1px 1px, rgb(255, 255, 255) -1px -1px 1px; font-family: 'Open Sans', verdana, arial, sans-serif; font-size: 10px; fill-opacity: 1;\"><textPath class=\"node-label-text-path\" alignment-baseline=\"middle\" xlink:href=\"#1cd5a1_0_node_6\" startOffset=\"0%\" text-anchor=\"start\" style=\"fill: rgb(0, 0, 0);\">p__Proteobacteria</textPath></text></g></g><g class=\"sankey-node\" transform=\"translate(0.000, 265.074)\" style=\"opacity: 1;\"><rect class=\"node-rect\" width=\"20\" height=\"4.926068630629686\" style=\"stroke-width: 0.5; stroke: rgb(0, 0, 0); stroke-opacity: 1; fill: rgb(0, 0, 255); fill-opacity: 1;\"/><rect class=\"node-capture\" x=\"-10\" y=\"-7.5\" width=\"40\" height=\"19.926068630629686\" style=\"fill-opacity: 0;\"/><g class=\"node-entered\" transform=\"translate(0 3.463034315314843)\"><path class=\"node-label-guide\" id=\"1cd5a1_0_node_7\" d=\"M24,0L540,0\" transform=\"matrix(1 0 0 1 0 0)\"/><text class=\"node-label\" transform=\"scale(1 1)\" style=\"user-select: none; cursor: default; fill: rgb(42, 63, 95); text-shadow: rgb(255, 255, 255) -1px 1px 1px, rgb(255, 255, 255) 1px 1px 1px, rgb(255, 255, 255) 1px -1px 1px, rgb(255, 255, 255) -1px -1px 1px; font-family: 'Open Sans', verdana, arial, sans-serif; font-size: 10px; fill-opacity: 1;\"><textPath class=\"node-label-text-path\" alignment-baseline=\"middle\" xlink:href=\"#1cd5a1_0_node_7\" startOffset=\"0%\" text-anchor=\"start\" style=\"fill: rgb(0, 0, 0);\">d__Bacteria</textPath></text></g></g><g class=\"sankey-node\" transform=\"translate(208.000, 265.074)\" style=\"opacity: 1;\"><rect class=\"node-rect\" width=\"20\" height=\"4.926068630629686\" style=\"stroke-width: 0.5; stroke: rgb(0, 0, 0); stroke-opacity: 1; fill: rgb(0, 0, 255); fill-opacity: 1;\"/><rect class=\"node-capture\" x=\"-10\" y=\"-7.5\" width=\"40\" height=\"19.926068630629686\" style=\"fill-opacity: 0;\"/><g class=\"node-entered\" transform=\"translate(0 3.463034315314843)\"><path class=\"node-label-guide\" id=\"1cd5a1_0_node_8\" d=\"M24,0L540,0\" transform=\"matrix(1 0 0 1 0 0)\"/><text class=\"node-label\" transform=\"scale(1 1)\" style=\"user-select: none; cursor: default; fill: rgb(42, 63, 95); text-shadow: rgb(255, 255, 255) -1px 1px 1px, rgb(255, 255, 255) 1px 1px 1px, rgb(255, 255, 255) 1px -1px 1px, rgb(255, 255, 255) -1px -1px 1px; font-family: 'Open Sans', verdana, arial, sans-serif; font-size: 10px; fill-opacity: 1;\"><textPath class=\"node-label-text-path\" alignment-baseline=\"middle\" xlink:href=\"#1cd5a1_0_node_8\" startOffset=\"0%\" text-anchor=\"start\" style=\"fill: rgb(0, 0, 0);\">c__Gammaproteobacteria</textPath></text></g></g><g class=\"sankey-node\" transform=\"translate(312.000, 265.074)\" style=\"opacity: 1;\"><rect class=\"node-rect\" width=\"20\" height=\"4.926068630629686\" style=\"stroke-width: 0.5; stroke: rgb(0, 0, 0); stroke-opacity: 1; fill: rgb(0, 0, 255); fill-opacity: 1;\"/><rect class=\"node-capture\" x=\"-10\" y=\"-7.5\" width=\"40\" height=\"19.926068630629686\" style=\"fill-opacity: 0;\"/><g class=\"node-entered\" transform=\"translate(0 3.463034315314843)\"><path class=\"node-label-guide\" id=\"1cd5a1_0_node_9\" d=\"M24,0L540,0\" transform=\"matrix(1 0 0 1 0 0)\"/><text class=\"node-label\" transform=\"scale(1 1)\" style=\"user-select: none; cursor: default; fill: rgb(42, 63, 95); text-shadow: rgb(255, 255, 255) -1px 1px 1px, rgb(255, 255, 255) 1px 1px 1px, rgb(255, 255, 255) 1px -1px 1px, rgb(255, 255, 255) -1px -1px 1px; font-family: 'Open Sans', verdana, arial, sans-serif; font-size: 10px; fill-opacity: 1;\"><textPath class=\"node-label-text-path\" alignment-baseline=\"middle\" xlink:href=\"#1cd5a1_0_node_9\" startOffset=\"0%\" text-anchor=\"start\" style=\"fill: rgb(0, 0, 0);\">o__Enterobacterales</textPath></text></g></g><g class=\"sankey-node\" transform=\"translate(416.000, 265.074)\" style=\"opacity: 1;\"><rect class=\"node-rect\" width=\"20\" height=\"4.926068630629686\" style=\"stroke-width: 0.5; stroke: rgb(0, 0, 0); stroke-opacity: 1; fill: rgb(0, 0, 255); fill-opacity: 1;\"/><rect class=\"node-capture\" x=\"-10\" y=\"-7.5\" width=\"40\" height=\"19.926068630629686\" style=\"fill-opacity: 0;\"/><g class=\"node-entered\" transform=\"translate(0 3.463034315314843)\"><path class=\"node-label-guide\" id=\"1cd5a1_0_node_10\" d=\"M24,0L540,0\" transform=\"matrix(1 0 0 1 0 0)\"/><text class=\"node-label\" transform=\"scale(1 1)\" style=\"user-select: none; cursor: default; fill: rgb(42, 63, 95); text-shadow: rgb(255, 255, 255) -1px 1px 1px, rgb(255, 255, 255) 1px 1px 1px, rgb(255, 255, 255) 1px -1px 1px, rgb(255, 255, 255) -1px -1px 1px; font-family: 'Open Sans', verdana, arial, sans-serif; font-size: 10px; fill-opacity: 1;\"><textPath class=\"node-label-text-path\" alignment-baseline=\"middle\" xlink:href=\"#1cd5a1_0_node_10\" startOffset=\"0%\" text-anchor=\"start\" style=\"fill: rgb(0, 0, 0);\">f__Enterobacteriaceae</textPath></text></g></g><g class=\"sankey-node\" transform=\"translate(520.000, 265.074)\" style=\"opacity: 1;\"><rect class=\"node-rect\" width=\"20\" height=\"4.926068630629686\" style=\"stroke-width: 0.5; stroke: rgb(0, 0, 0); stroke-opacity: 1; fill: rgb(0, 0, 255); fill-opacity: 1;\"/><rect class=\"node-capture\" x=\"-10\" y=\"-7.5\" width=\"40\" height=\"19.926068630629686\" style=\"fill-opacity: 0;\"/><g class=\"node-entered\" transform=\"translate(0 3.463034315314843)\"><path class=\"node-label-guide\" id=\"1cd5a1_0_node_11\" d=\"M-540,0L-4,0\" transform=\"matrix(1 0 0 1 0 0)\"/><text class=\"node-label\" transform=\"scale(1 1)\" style=\"user-select: none; cursor: default; fill: rgb(42, 63, 95); text-shadow: rgb(255, 255, 255) -1px 1px 1px, rgb(255, 255, 255) 1px 1px 1px, rgb(255, 255, 255) 1px -1px 1px, rgb(255, 255, 255) -1px -1px 1px; font-family: 'Open Sans', verdana, arial, sans-serif; font-size: 10px; fill-opacity: 1;\"><textPath class=\"node-label-text-path\" alignment-baseline=\"middle\" xlink:href=\"#1cd5a1_0_node_11\" startOffset=\"100%\" text-anchor=\"end\" style=\"fill: rgb(0, 0, 0);\">g__Escherichia</textPath></text></g></g></g></g><defs id=\"topdefs-647e8e\"><g class=\"clips\"/></defs><g class=\"layer-above\"><g class=\"imagelayer\"/><g class=\"shapelayer\"/></g><g class=\"infolayer\"><g class=\"g-gtitle\"><text class=\"gtitle\" x=\"35\" y=\"50\" text-anchor=\"start\" dy=\"0em\" style=\"font-family: 'Open Sans', verdana, arial, sans-serif; font-size: 14px; fill: rgb(42, 63, 95); opacity: 1; font-weight: normal; white-space: pre;\">d__Eukaryota</text></g><g class=\"first-render\"/></g></svg>"
      ]
     },
     "metadata": {},
     "output_type": "display_data"
    }
   ],
   "source": [
    "contigs_filename = f'{directory}/{name}.contigs-tax.json'\n",
    "\n",
    "summary = utils.CSV_DictHelper(summary_csv, 'genome')\n",
    "row = summary[name]\n",
    "genome_lineage = utils.make_lineage(row.lineage)\n",
    "\n",
    "contigs_info = utils.load_contigs_gather_json(contigs_filename)\n",
    "\n",
    "title = sourmash.lca.display_lineage(genome_lineage)\n",
    "fig = make_flow_fig(title, genome_lineage, contigs_info)\n",
    "fig.show(render_name)"
   ]
  }
 ],
 "metadata": {
  "kernelspec": {
   "display_name": "Python (myenv)",
   "language": "python",
   "name": "myenv"
  },
  "language_info": {
   "codemirror_mode": {
    "name": "ipython",
    "version": 3
   },
   "file_extension": ".py",
   "mimetype": "text/x-python",
   "name": "python",
   "nbconvert_exporter": "python",
   "pygments_lexer": "ipython3",
   "version": "3.7.6"
  }
 },
 "nbformat": 4,
 "nbformat_minor": 4
}
