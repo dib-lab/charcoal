{
 "cells": [
  {
   "cell_type": "code",
   "execution_count": null,
   "metadata": {
    "tags": [
     "parameters"
    ]
   },
   "outputs": [],
   "source": [
    "import os\n",
    "\n",
    "genome_dir = '../../gtdb-contam-dna'\n",
    "output_dir = '../../output.gtdb-contam-dna'\n",
    "genbank_genomes = '../../genbank_genomes'\n",
    "name = 'GCF_002154655.1_genomic.fna.gz'"
   ]
  },
  {
   "cell_type": "code",
   "execution_count": null,
   "metadata": {},
   "outputs": [],
   "source": [
    "%matplotlib inline"
   ]
  },
  {
   "cell_type": "code",
   "execution_count": null,
   "metadata": {},
   "outputs": [],
   "source": [
    "import matplotlib.pyplot as plt\n",
    "import importlib\n",
    "import pprint\n",
    "import yaml\n",
    "import glob\n",
    "\n",
    "import charcoal.alignplot\n",
    "importlib.reload(charcoal.alignplot)\n",
    "\n",
    "from charcoal import alignplot\n",
    "from charcoal.alignplot import AlignmentContainer, StackedDotPlot, AlignmentSlopeDiagram\n",
    "from charcoal import utils"
   ]
  },
  {
   "cell_type": "code",
   "execution_count": null,
   "metadata": {},
   "outputs": [],
   "source": [
    "# configure paths to files based on parameters\n",
    "genomebase = name\n",
    "queryfile = f'{genome_dir}/{genomebase}'\n",
    "matches_info_file = f'{output_dir}/{genomebase}.hitlist.matches.yaml'"
   ]
  },
  {
   "cell_type": "code",
   "execution_count": null,
   "metadata": {},
   "outputs": [],
   "source": [
    "from IPython.display import Markdown as md\n",
    "from IPython.display import display\n",
    "md(f\"# Charcoal alignment report for genome `{genomebase}`\")"
   ]
  },
  {
   "cell_type": "code",
   "execution_count": null,
   "metadata": {},
   "outputs": [],
   "source": [
    "with open(matches_info_file, 'rt') as fp:\n",
    "    matches_info = yaml.safe_load(fp)\n",
    "matches_info\n",
    "\n",
    "genome_lin = matches_info['query_info']['genome_lineage']\n",
    "match_rank = matches_info['query_info']['match_rank']\n",
    "scaled = matches_info['query_info']['scaled']\n",
    "\n",
    "clean_accs = []\n",
    "dirty_accs = []\n",
    "for match_acc, acc_info in matches_info['matches'].items():\n",
    "    match_counts = acc_info['counts']\n",
    "    match_type = acc_info['match_type']\n",
    "    match_lineage = acc_info['lineage']\n",
    "\n",
    "    if match_type == 'clean':\n",
    "        clean_accs.append((match_acc, match_lineage, match_counts))\n",
    "    elif match_type == 'dirty':\n",
    "        dirty_accs.append((match_acc, match_lineage, match_counts))\n",
    "        \n",
    "clean_accs.sort(key=lambda x: -x[2])\n",
    "dirty_accs.sort(key=lambda x: -x[2])\n",
    "\n",
    "output = []\n",
    "\n",
    "output.append(f'loaded {len(clean_accs)} clean accs and {len(dirty_accs)} dirty accs')\n",
    "output.append('')\n",
    "output.append(f'query genome lineage: `{genome_lin}`\\n')\n",
    "\n",
    "output.append(f'genomes that match the lineage at {match_rank}:')\n",
    "for (match_acc, match_lineage, match_counts) in clean_accs:\n",
    "    output.append(f'* `{match_acc}` with est {match_counts*scaled} kb;\\n`{match_lineage}`')\n",
    "\n",
    "output.append('')\n",
    "output.append('genomes that do NOT match the lineage:')\n",
    "for (match_acc, match_lineage, match_counts) in dirty_accs:\n",
    "    output.append(f'* `{match_acc}` with est {match_counts*scaled} kb;\\n`{match_lineage}`')\n",
    "\n",
    "display(md(\"\\n\".join(output)))"
   ]
  },
  {
   "cell_type": "code",
   "execution_count": null,
   "metadata": {},
   "outputs": [],
   "source": [
    "def load_target_pairs(match_list):\n",
    "    pairs = []\n",
    "    for acc, _, _ in match_list:\n",
    "        filename = glob.glob(f'{genbank_genomes}/{acc}*.fna.gz')\n",
    "        #assert len(filename) == 1, filename # @CTB\n",
    "        filename = filename[0]\n",
    "        pairs.append((acc, filename))\n",
    "        \n",
    "    return pairs\n",
    "\n",
    "contaminant_pairs = load_target_pairs(dirty_accs)\n",
    "clean_pairs = load_target_pairs(clean_accs)"
   ]
  },
  {
   "cell_type": "code",
   "execution_count": null,
   "metadata": {},
   "outputs": [],
   "source": [
    "dirty_alignment = AlignmentContainer(genomebase, queryfile, contaminant_pairs, f'{output_dir}/hitlist-accessions.info.csv')\n",
    "\n",
    "results = {}\n",
    "for t_acc, _ in contaminant_pairs:\n",
    "    mashmap_file = f'{output_dir}/{genomebase}.x.{t_acc}.mashmap.out'\n",
    "    results[t_acc] = dirty_alignment._read_mashmap(mashmap_file)\n",
    "dirty_alignment.results = results\n",
    "\n",
    "display(md('filtering dirty alignments to query size >= 500 and identity >= 95%'))\n",
    "dirty_alignment.filter(query_size=0.5, pident=95)\n",
    "\n",
    "sum_dirty_kb = sum(dirty_alignment.calc_shared().values())\n",
    "display(md(f'**dirty bases: {sum_dirty_kb:.1f}kb of alignments to query genome, across all targets.**'))"
   ]
  },
  {
   "cell_type": "code",
   "execution_count": null,
   "metadata": {},
   "outputs": [],
   "source": [
    "clean_alignment = AlignmentContainer(genomebase, queryfile, clean_pairs, f'{output_dir}/hitlist-accessions.info.csv')\n",
    "\n",
    "results = {}\n",
    "for t_acc, _ in clean_pairs:\n",
    "    mashmap_file = f'{output_dir}/{genomebase}.x.{t_acc}.mashmap.out'\n",
    "    results[t_acc] = clean_alignment._read_mashmap(mashmap_file)\n",
    "clean_alignment.results = results\n",
    "\n",
    "display(md('filtering clean alignments to query size >= 500 and identity >= 95%'))\n",
    "clean_alignment.filter(query_size=0.5, pident=95)\n",
    "\n",
    "sum_clean_kb = sum(clean_alignment.calc_shared().values())\n",
    "display(md(f'**clean bases: {sum_clean_kb:.1f}kb of alignments to query genome, across all targets.**'))"
   ]
  },
  {
   "cell_type": "code",
   "execution_count": null,
   "metadata": {},
   "outputs": [],
   "source": [
    "x = []\n",
    "y = []\n",
    "for i in range (1, 21):\n",
    "    f = i / 20\n",
    "    a = dirty_alignment.filter_by_query_coverage(f)\n",
    "\n",
    "    sum_dirty_kb = sum(a.calc_shared().values())\n",
    "    x.append(f)\n",
    "    y.append(sum_dirty_kb)\n",
    "    \n",
    "plt.plot(x, y, '.-')\n",
    "plt.xlabel('fraction of contig that must be covered')\n",
    "_ = plt.ylabel('kb covered in dirty contigs')\n"
   ]
  },
  {
   "cell_type": "code",
   "execution_count": null,
   "metadata": {},
   "outputs": [],
   "source": [
    "dirty_alignment = dirty_alignment.filter_by_query_coverage(0.5)\n",
    "clean_alignment = clean_alignment.filter_by_query_coverage(0.5)"
   ]
  },
  {
   "cell_type": "markdown",
   "metadata": {},
   "source": [
    "## Stacked DotPlot view\n",
    "\n",
    "(this is an n-ary dotplot)"
   ]
  },
  {
   "cell_type": "code",
   "execution_count": null,
   "metadata": {},
   "outputs": [],
   "source": [
    "clean_dotplot = StackedDotPlot(clean_alignment)\n",
    "_ = clean_dotplot.plot()\n",
    "_ = plt.title('Alignments to clean genomes')"
   ]
  },
  {
   "cell_type": "code",
   "execution_count": null,
   "metadata": {},
   "outputs": [],
   "source": [
    "dirty_dotplot = StackedDotPlot(dirty_alignment)\n",
    "_ = dirty_dotplot.plot()\n",
    "_ = plt.title('Alignments to dirty genomes')"
   ]
  },
  {
   "cell_type": "code",
   "execution_count": null,
   "metadata": {},
   "outputs": [],
   "source": [
    "clean_slope = AlignmentSlopeDiagram(clean_alignment)\n",
    "_ = clean_slope.plot()\n",
    "\n",
    "_ = plt.title('Alignments to clean genomes')"
   ]
  },
  {
   "cell_type": "code",
   "execution_count": null,
   "metadata": {},
   "outputs": [],
   "source": [
    "dirty_slope = AlignmentSlopeDiagram(dirty_alignment)\n",
    "_ = dirty_slope.plot()\n",
    "\n",
    "_ = plt.title('Alignments to dirty genomes')"
   ]
  },
  {
   "cell_type": "markdown",
   "metadata": {},
   "source": [
    "## region response curve\n",
    "\n",
    "underlying logic:\n",
    "\n",
    "* for our primary use case here (contamination/legitimate \"shared\" nucleotides), we can consider nt alignments of >= 95% to be contamination to be removed\n",
    "* we want to remove as many bp of contamination as possible with as little \"legit\" non-shared nt as possible.\n",
    "* what's the response curve for that, and can we use it to figure out which genome(s) have the likely contaminants?"
   ]
  },
  {
   "cell_type": "code",
   "execution_count": null,
   "metadata": {},
   "outputs": [],
   "source": [
    "for t_acc, _ in contaminant_pairs:\n",
    "    x, y, sat1 = dirty_dotplot.target_response_curve(t_acc)\n",
    "    if max(y):\n",
    "        plt.plot(x, y / max(y)) #, label=f'target loss ({t_acc})')\n",
    "\n",
    "x3, y3, sat3 = dirty_dotplot.query_response_curve()\n",
    "plt.plot(x3, y3 / max(y3), label='query loss (non-contaminated genome)')\n",
    "\n",
    "plt.xlabel('kb in genome contigs removed')\n",
    "plt.ylabel('fraction of alignments removed')\n",
    "plt.legend(loc='lower right')"
   ]
  },
  {
   "cell_type": "code",
   "execution_count": null,
   "metadata": {},
   "outputs": [],
   "source": [
    "for t_acc, _ in clean_pairs:\n",
    "    x, y, sat1 = clean_dotplot.target_response_curve(t_acc)\n",
    "    if max(y):\n",
    "        plt.plot(x, y / max(y)) #, label=f'target loss ({t_acc})')\n",
    "\n",
    "x3, y3, sat3 = clean_dotplot.query_response_curve()\n",
    "plt.plot(x3, y3 / max(y3), label='query loss (non-contaminated genome)')\n",
    "\n",
    "plt.xlabel('kb in genome contigs removed')\n",
    "plt.ylabel('fraction of alignments removed')\n",
    "plt.legend(loc='lower right')\n",
    "print(f'{sat1:.1f}kb, {sat3:.1f}kb')"
   ]
  },
  {
   "cell_type": "markdown",
   "metadata": {},
   "source": [
    "## Reporting alignments"
   ]
  },
  {
   "cell_type": "code",
   "execution_count": null,
   "metadata": {},
   "outputs": [],
   "source": [
    "regions = []\n",
    "for k, v in dirty_alignment.results.items():\n",
    "    regions.extend(v)\n",
    "\n",
    "queryfile = dirty_alignment.queryfile\n",
    "\n",
    "# calculate and sort region summed kb in alignments over 95%            \n",
    "regions_by_query = alignplot.group_regions_by(regions, \"query\")\n",
    "regions_aligned_kb = alignplot.calc_regions_aligned_bp(\n",
    "    regions_by_query, \"query\", filter_by=lambda r: r.pident >= 95\n",
    ")\n",
    "region_items = list(regions_aligned_kb.items())\n",
    "region_items.sort(key=lambda x: -x[1])"
   ]
  },
  {
   "cell_type": "code",
   "execution_count": null,
   "metadata": {},
   "outputs": [],
   "source": [
    "print('Top 5 dirty contigs w/all alignments b/t query and matches --')\n",
    "for n, (name, aligned_kb) in enumerate(region_items[:5]):\n",
    "    print(f'contig #{n+1} in query - contig name {name}')\n",
    "    for i, a in enumerate(regions_by_query[name]):\n",
    "        print(f\"* alignment {i}: {a.pident:.1f}% identity across {abs(a.qend - a.qstart):.0f} kb\\n  {a.query}[{int(a.qstart*1000)}:{int(a.qend*1000)}] aligns to {a.target}[{int(a.tstart*1000)}:{int(a.tend*1000)}]\")\n",
    "    print('')"
   ]
  }
 ],
 "metadata": {
  "kernelspec": {
   "display_name": "Python (myenv)",
   "language": "python",
   "name": "myenv"
  },
  "language_info": {
   "codemirror_mode": {
    "name": "ipython",
    "version": 3
   },
   "file_extension": ".py",
   "mimetype": "text/x-python",
   "name": "python",
   "nbconvert_exporter": "python",
   "pygments_lexer": "ipython3",
   "version": "3.7.6"
  }
 },
 "nbformat": 4,
 "nbformat_minor": 4
}
