{
 "cells": [
  {
   "cell_type": "code",
   "execution_count": null,
   "metadata": {
    "tags": [
     "parameters"
    ]
   },
   "outputs": [],
   "source": [
    "import os\n",
    "\n",
    "genome_dir = '../../gtdb-contam-dna'\n",
    "output_dir = '../../output.gtdb-contam-dna'\n",
    "genbank_genomes = '../../genbank_genomes'\n",
    "name = 'GCF_001683825.1_genomic.fna.gz'"
   ]
  },
  {
   "cell_type": "code",
   "execution_count": null,
   "metadata": {},
   "outputs": [],
   "source": [
    "%matplotlib inline"
   ]
  },
  {
   "cell_type": "code",
   "execution_count": null,
   "metadata": {},
   "outputs": [],
   "source": [
    "import matplotlib.pyplot as plt\n",
    "import importlib\n",
    "import pprint\n",
    "import json\n",
    "import glob\n",
    "import itertools\n",
    "\n",
    "import charcoal.alignplot\n",
    "importlib.reload(charcoal.alignplot)\n",
    "\n",
    "from charcoal import alignplot\n",
    "from charcoal.alignplot import AlignmentContainer, StackedDotPlot, AlignmentSlopeDiagram\n",
    "from charcoal import utils"
   ]
  },
  {
   "cell_type": "code",
   "execution_count": null,
   "metadata": {},
   "outputs": [],
   "source": [
    "# configure paths to files based on parameters\n",
    "genomebase = name\n",
    "queryfile = f'{genome_dir}/{genomebase}'\n",
    "matches_info_file = f'{output_dir}/stage2/{genomebase}.matches.json'"
   ]
  },
  {
   "cell_type": "code",
   "execution_count": null,
   "metadata": {},
   "outputs": [],
   "source": [
    "from IPython.display import Markdown as md\n",
    "from IPython.display import display\n",
    "md(f\"# Charcoal alignment report for genome `{genomebase}`\")"
   ]
  },
  {
   "cell_type": "code",
   "execution_count": null,
   "metadata": {},
   "outputs": [],
   "source": [
    "with open(matches_info_file, 'rt') as fp:\n",
    "    matches_info = json.load(fp)\n",
    "matches_info\n",
    "\n",
    "genome_lin = utils.make_lineage(matches_info['query_info']['genome_lineage'])\n",
    "match_rank = matches_info['query_info']['match_rank']\n",
    "scaled = matches_info['query_info']['scaled']\n",
    "\n",
    "clean_accs = []\n",
    "clean_accs_d = {}\n",
    "dirty_accs = []\n",
    "dirty_accs_d = {}\n",
    "for match_acc, acc_info in matches_info['matches'].items():\n",
    "    match_counts = acc_info['counts']\n",
    "    match_type = acc_info['match_type']\n",
    "    match_lineage = acc_info['lineage']\n",
    "\n",
    "    if match_type == 'clean':\n",
    "        clean_accs.append((match_acc, match_lineage, match_counts))\n",
    "        clean_accs_d[match_acc] = (match_lineage, match_counts)\n",
    "    elif match_type == 'dirty':\n",
    "        dirty_accs.append((match_acc, match_lineage, match_counts))\n",
    "        dirty_accs_d[match_acc] = (match_lineage, match_counts)\n",
    "        \n",
    "clean_accs.sort(key=lambda x: -x[2])\n",
    "dirty_accs.sort(key=lambda x: -x[2])"
   ]
  },
  {
   "cell_type": "code",
   "execution_count": null,
   "metadata": {},
   "outputs": [],
   "source": [
    "def load_target_pairs(match_list):\n",
    "    pairs = []\n",
    "    for acc, _, _ in match_list:\n",
    "        filename = glob.glob(f'{genbank_genomes}/{acc}*.fna.gz')\n",
    "        #assert len(filename) == 1, filename # @CTB\n",
    "        filename = filename[0]\n",
    "        pairs.append((acc, filename))\n",
    "        \n",
    "    return pairs\n",
    "\n",
    "contaminant_pairs = load_target_pairs(dirty_accs)\n",
    "clean_pairs = load_target_pairs(clean_accs)"
   ]
  },
  {
   "cell_type": "code",
   "execution_count": null,
   "metadata": {},
   "outputs": [],
   "source": [
    "dirty_alignment = AlignmentContainer(genomebase, queryfile, contaminant_pairs, f'{output_dir}/stage2/hitlist-accessions.info.csv')\n",
    "\n",
    "results = {}\n",
    "for t_acc, _ in contaminant_pairs:\n",
    "    mashmap_file = f'{output_dir}/stage2/{genomebase}.x.{t_acc}.mashmap.align'\n",
    "    results[t_acc] = dirty_alignment._read_mashmap(mashmap_file)\n",
    "dirty_alignment.results = results\n",
    "\n",
    "display(md('filtering dirty alignments to query size >= 500 and identity >= 95%'))\n",
    "dirty_alignment.filter(query_size=0.5, pident=95)\n",
    "\n",
    "sum_dirty_kb = sum(dirty_alignment.calc_shared().values())\n",
    "display(md(f'**dirty bases: {sum_dirty_kb:.1f}kb of alignments to query genome, across all targets.**'))"
   ]
  },
  {
   "cell_type": "code",
   "execution_count": null,
   "metadata": {},
   "outputs": [],
   "source": [
    "clean_alignment = AlignmentContainer(genomebase, queryfile, clean_pairs, f'{output_dir}/stage2/hitlist-accessions.info.csv')\n",
    "\n",
    "results = {}\n",
    "for t_acc, _ in clean_pairs:\n",
    "    mashmap_file = f'{output_dir}/stage2/{genomebase}.x.{t_acc}.mashmap.align'\n",
    "    results[t_acc] = clean_alignment._read_mashmap(mashmap_file)\n",
    "clean_alignment.results = results\n",
    "\n",
    "display(md('filtering clean alignments to query size >= 500 and identity >= 95%'))\n",
    "clean_alignment.filter(query_size=0.5, pident=95)\n",
    "\n",
    "sum_clean_kb = sum(clean_alignment.calc_shared().values())\n",
    "display(md(f'**clean bases: {sum_clean_kb:.1f}kb of alignments to query genome, across all targets.**'))"
   ]
  },
  {
   "cell_type": "code",
   "execution_count": null,
   "metadata": {},
   "outputs": [],
   "source": [
    "dirty_alignment = dirty_alignment.filter_by_query_coverage(0.5)\n",
    "clean_alignment = clean_alignment.filter_by_query_coverage(0.5)"
   ]
  },
  {
   "cell_type": "code",
   "execution_count": null,
   "metadata": {},
   "outputs": [],
   "source": [
    "contigs_by_acc = {}\n",
    "contigs_to_acc = {}\n",
    "all_sizes = {}\n",
    "all_sizes.update(alignplot.load_contig_sizes(queryfile))\n",
    "for acc, _, _ in itertools.chain(clean_accs, dirty_accs):\n",
    "    filename = glob.glob(f'{genbank_genomes}/{acc}*.fna.gz')\n",
    "    filename = filename[0]\n",
    "    sizes = alignplot.load_contig_sizes(filename)\n",
    "    all_sizes.update(sizes)\n",
    "    contigs_by_acc[acc] = sizes\n",
    "    for contig_name in sizes:\n",
    "        assert contig_name not in contigs_to_acc\n",
    "        contigs_to_acc[contig_name] = acc\n",
    "\n",
    "dirty_alignment = AlignmentContainer(genomebase, queryfile, contaminant_pairs, f'{output_dir}/stage2/hitlist-accessions.info.csv')\n",
    "\n",
    "results = {}\n",
    "for t_acc, _ in contaminant_pairs:\n",
    "    mashmap_file = f'{output_dir}/stage2/{genomebase}.x.{t_acc}.mashmap.align'\n",
    "    results[t_acc] = dirty_alignment._read_mashmap(mashmap_file)\n",
    "dirty_alignment.results = results\n",
    "\n",
    "output = []\n",
    "\n",
    "output.append(f'filtering dirty alignments to query size >= 500 and identity >= 95%')\n",
    "dirty_alignment.filter(query_size=0.5, pident=95)\n",
    "output.append(f'filtering dirty alignments to min query coverage 50%')\n",
    "dirty_alignment = dirty_alignment.filter_by_query_coverage(0.5)\n",
    "\n",
    "sum_dirty_kb = sum(dirty_alignment.calc_shared().values())\n",
    "#output.append(f'query genome lineage: {utils.display_lineage(genome_lin)}')\n",
    "output.append(f'**dirty bases: {sum_dirty_kb:.1f}kb of alignments to query genome, across all targets.**')\n",
    "\n",
    "all_regions = []\n",
    "for t_acc, vv in dirty_alignment.results.items():\n",
    "    all_regions.extend(vv)\n",
    "regions_by_query = alignplot.group_regions_by(all_regions, 'query')\n",
    "query_shared = dirty_alignment.calc_shared()\n",
    "\n",
    "sum_to_remove = 0\n",
    "for k, covered_bases in query_shared.items():\n",
    "    sum_to_remove += all_sizes[k]\n",
    "    #output.append(f'removing {all_sizes[k]:.0f}kb with {covered_bases:.0f}kb dirty, contig name {k}.')\n",
    "    for region in regions_by_query[k]:\n",
    "        source_acc = contigs_to_acc[region.target]\n",
    "        source_lin = utils.make_lineage(dirty_accs_d[source_acc][0])\n",
    "        query_aligned = alignplot.region_size(region, 'query')\n",
    "        #print(f'   {query_aligned:.0f}kb aligns to {source_acc}:{region.target} at {region.pident:.1f}%')\n",
    "        #print(f'   ({utils.display_lineage(source_lin)})')\n",
    "        disagree_rank = utils.find_disagree_rank(genome_lin, source_lin)\n",
    "        query_at_rank = utils.pop_to_rank(genome_lin, disagree_rank)[-1].name\n",
    "        source_at_rank = utils.pop_to_rank(source_lin, disagree_rank)[-1].name\n",
    "        #print(f\"   ** disagreement at rank '{disagree_rank}'; query lineage {query_at_rank}, database lineage {source_at_rank}\")\n",
    "\n",
    "output.append(f'**removing {sum_to_remove:.0f}kb total in contigs >= 50% dirty, based on alignments at 95% identity over 0.5kb or more**')\n",
    "\n",
    "display(md(\"\\n\\n\".join(output)))\n"
   ]
  },
  {
   "cell_type": "markdown",
   "metadata": {},
   "source": [
    "## Alignment views"
   ]
  },
  {
   "cell_type": "code",
   "execution_count": null,
   "metadata": {},
   "outputs": [],
   "source": [
    "if clean_alignment:\n",
    "    display(md(f\"showing {len(clean_alignment)} clean alignments total.\"))\n",
    "\n",
    "    clean_dotplot = StackedDotPlot(clean_alignment)\n",
    "    fig = clean_dotplot.plot()\n",
    "    fig.set_size_inches(10, 8)\n",
    "    _ = plt.title('Alignments to clean genomes')\n",
    "    \n",
    "    clean_slope = AlignmentSlopeDiagram(clean_alignment)\n",
    "    fig = clean_slope.plot()\n",
    "    fig.set_size_inches(10, 8)\n",
    "\n",
    "    _ = plt.title('Alignments to clean genomes')\n",
    "else:\n",
    "    display(md(\"**no alignments to clean genomes to show!**\"))"
   ]
  },
  {
   "cell_type": "code",
   "execution_count": null,
   "metadata": {},
   "outputs": [],
   "source": [
    "if dirty_alignment:\n",
    "    display(md(f\"showing {len(dirty_alignment)} dirty alignments total.\"))\n",
    "    dirty_dotplot = StackedDotPlot(dirty_alignment)\n",
    "    fig = dirty_dotplot.plot()\n",
    "    fig.set_size_inches(10, 8)\n",
    "\n",
    "    _ = plt.title('Alignments to dirty genomes')\n",
    "\n",
    "    dirty_slope = AlignmentSlopeDiagram(dirty_alignment)\n",
    "    fig = dirty_slope.plot()\n",
    "    fig.set_size_inches(10,8)\n",
    "\n",
    "    _ = plt.title('Alignments to dirty genomes')    \n",
    "else:\n",
    "    display(md(\"**no alignments to clean genomes to show!**\"))"
   ]
  },
  {
   "cell_type": "markdown",
   "metadata": {},
   "source": [
    "## Contig alignment report"
   ]
  },
  {
   "cell_type": "code",
   "execution_count": null,
   "metadata": {},
   "outputs": [],
   "source": [
    "output = []\n",
    "\n",
    "sum_dirty_kb = sum(dirty_alignment.calc_shared().values())\n",
    "#output.append(f'query genome lineage: {utils.display_lineage(genome_lin)}')\n",
    "output.append(f'**dirty bases: {sum_dirty_kb:.1f}kb of alignments to query genome, across all targets.**')\n",
    "\n",
    "all_regions = []\n",
    "for t_acc, vv in dirty_alignment.results.items():\n",
    "    all_regions.extend(vv)\n",
    "regions_by_query = alignplot.group_regions_by(all_regions, 'query')\n",
    "query_shared = dirty_alignment.calc_shared()\n",
    "\n",
    "sum_to_remove = 0\n",
    "for k, covered_bases in query_shared.items():\n",
    "    sum_to_remove += all_sizes[k]\n",
    "    output.append(f'\\ncontig name {k}, total size {all_sizes[k]:.0f}kb, of which {covered_bases:.0f}kb ({covered_bases / all_sizes[k]*100:.0f}%) aligns to other genomes with a taxonomic mismatch.')\n",
    "    for region in regions_by_query[k]:\n",
    "        source_acc = contigs_to_acc[region.target]\n",
    "        source_lin = utils.make_lineage(dirty_accs_d[source_acc][0])\n",
    "        query_aligned = alignplot.region_size(region, 'query')\n",
    "        output.append(f'\\n * {query_aligned:.0f}kb aligns to genome `{source_acc}`, contig `{region.target}` at {region.pident:.1f}% identity')\n",
    "        #output.append(f'   ({utils.display_lineage(source_lin)})')\n",
    "        output.append(f'\\n   * alignment from query `{region.query}[{int(region.qstart*1000)}:{int(region.qend*1000)}]` to database `{region.target}[{int(region.tstart*1000)}:{int(region.tend*1000)}]`')\n",
    "        disagree_rank = utils.find_disagree_rank(genome_lin, source_lin)\n",
    "        query_at_rank = utils.pop_to_rank(genome_lin, disagree_rank)[-1].name\n",
    "        source_at_rank = utils.pop_to_rank(source_lin, disagree_rank)[-1].name\n",
    "        output.append(f\"   * disagreement at rank '{disagree_rank}'; query lineage `{query_at_rank}`, database lineage `{source_at_rank}`\")\n",
    "\n",
    "display(md(\"\\n\".join(output)))\n"
   ]
  },
  {
   "cell_type": "code",
   "execution_count": null,
   "metadata": {},
   "outputs": [],
   "source": []
  }
 ],
 "metadata": {
  "kernelspec": {
   "display_name": "Python (myenv)",
   "language": "python",
   "name": "myenv"
  },
  "language_info": {
   "codemirror_mode": {
    "name": "ipython",
    "version": 3
   },
   "file_extension": ".py",
   "mimetype": "text/x-python",
   "name": "python",
   "nbconvert_exporter": "python",
   "pygments_lexer": "ipython3",
   "version": "3.7.6"
  }
 },
 "nbformat": 4,
 "nbformat_minor": 4
}
