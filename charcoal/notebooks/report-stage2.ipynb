{
 "cells": [
  {
   "cell_type": "code",
   "execution_count": null,
   "metadata": {
    "tags": [
     "parameters"
    ]
   },
   "outputs": [],
   "source": [
    "import os\n",
    "directory = '../../output.gtdb-contam-dna'\n",
    "render='svg'\n",
    "name=os.path.basename(directory)"
   ]
  },
  {
   "cell_type": "code",
   "execution_count": null,
   "metadata": {},
   "outputs": [],
   "source": [
    "from charcoal.utils import CSV_DictHelper\n",
    "from IPython.display import display, Markdown\n",
    "\n",
    "summary = CSV_DictHelper(f'{directory}/stage2_summary.csv', 'genome')\n",
    "display(Markdown(f\"# charcoal stage 2 summary report for `{name}`\"))\n"
   ]
  },
  {
   "cell_type": "code",
   "execution_count": null,
   "metadata": {},
   "outputs": [],
   "source": [
    "lines = []\n",
    "for g in summary:\n",
    "    row = summary[g]\n",
    "    lines.append(f\"* `{row.genome}` - {row.dirty_kb}kb dirty, {row.remove_kb}kb removed - [alignment report]({row.genome}.align.html)\")\n",
    "\n",
    "display(Markdown(\"\\n\".join(lines)))"
   ]
  },
  {
   "cell_type": "code",
   "execution_count": null,
   "metadata": {},
   "outputs": [],
   "source": []
  }
 ],
 "metadata": {
  "kernelspec": {
   "display_name": "Python (myenv)",
   "language": "python",
   "name": "myenv"
  },
  "language_info": {
   "codemirror_mode": {
    "name": "ipython",
    "version": 3
   },
   "file_extension": ".py",
   "mimetype": "text/x-python",
   "name": "python",
   "nbconvert_exporter": "python",
   "pygments_lexer": "ipython3",
   "version": "3.7.6"
  }
 },
 "nbformat": 4,
 "nbformat_minor": 4
}
