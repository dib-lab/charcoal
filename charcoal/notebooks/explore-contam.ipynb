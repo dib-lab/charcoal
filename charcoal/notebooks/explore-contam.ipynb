{
 "cells": [
  {
   "cell_type": "code",
   "execution_count": 1,
   "metadata": {},
   "outputs": [],
   "source": [
    "render = 0"
   ]
  },
  {
   "cell_type": "code",
   "execution_count": 2,
   "metadata": {
    "tags": [
     "parameters"
    ]
   },
   "outputs": [],
   "source": [
    "import os\n",
    "directory = '../../output.tara-delmont'\n",
    "render='svg'\n",
    "name=os.path.basename(directory)"
   ]
  },
  {
   "cell_type": "code",
   "execution_count": 3,
   "metadata": {},
   "outputs": [],
   "source": [
    "if not render: render_name = None\n",
    "else: render_name = render"
   ]
  },
  {
   "cell_type": "code",
   "execution_count": 4,
   "metadata": {},
   "outputs": [],
   "source": [
    "from collections import defaultdict\n",
    "import json\n",
    "from sourmash.lca import LineagePair, display_lineage\n",
    "from charcoal.utils import make_lineage, load_contamination_summary\n",
    "import numpy\n",
    "\n",
    "import plotly.graph_objects as go"
   ]
  },
  {
   "cell_type": "code",
   "execution_count": 5,
   "metadata": {},
   "outputs": [],
   "source": [
    "# load contamination summary from given directory!\n",
    "with open(f'{directory}/contam_summary.json', 'rt') as fp:\n",
    "    source_d = load_contamination_summary(fp)"
   ]
  },
  {
   "cell_type": "code",
   "execution_count": 6,
   "metadata": {},
   "outputs": [
    {
     "name": "stdout",
     "output_type": "stream",
     "text": [
      "2692 - genome d__Eukaryota <- contam d__Bacteria\n",
      "396 - genome d__Eukaryota <- contam d__Archaea\n",
      "259 - genome d__Archaea <- contam d__Bacteria\n",
      "245 - genome d__Bacteria;p__Proteobacteria <- contam d__Bacteria;p__Gemmatimonadota\n",
      "212 - genome d__Bacteria <- contam d__Archaea\n",
      "203 - genome d__Bacteria;p__Proteobacteria <- contam d__Bacteria;p__Latescibacterota\n",
      "194 - genome d__Bacteria;p__Nitrospinota <- contam d__Bacteria;p__Chloroflexota\n",
      "175 - genome d__Bacteria;p__Proteobacteria <- contam d__Bacteria;p__Bacteroidota\n",
      "167 - genome d__Bacteria;p__Planctomycetota <- contam d__Bacteria;p__Proteobacteria\n",
      "160 - genome d__Bacteria;p__Margulisbacteria <- contam d__Bacteria;p__Proteobacteria\n",
      "147 - genome d__Bacteria;p__Bacteroidota <- contam d__Bacteria;p__Proteobacteria\n",
      "124 - genome d__Bacteria;p__Verrucomicrobiota <- contam d__Bacteria;p__Myxococcota\n",
      "118 - genome d__Bacteria;p__Verrucomicrobiota <- contam d__Bacteria;p__Proteobacteria\n",
      "114 - genome d__Bacteria;p__Proteobacteria <- contam d__Bacteria;p__Verrucomicrobiota\n",
      "114 - genome d__Bacteria;p__Proteobacteria <- contam d__Bacteria;p__Planctomycetota\n",
      "102 - genome d__Bacteria;p__Gemmatimonadota <- contam d__Bacteria;p__Proteobacteria\n",
      "99 - genome d__Bacteria;p__Cyanobacteria <- contam d__Bacteria;p__Planctomycetota\n",
      "99 - genome d__Bacteria;p__Actinobacteriota <- contam d__Bacteria;p__Acidobacteriota\n",
      "98 - genome d__Bacteria;p__Actinobacteriota <- contam d__Bacteria;p__Proteobacteria\n",
      "93 - genome d__Bacteria;p__Actinobacteriota <- contam d__Bacteria;p__Myxococcota\n",
      "70 - genome d__Bacteria;p__Proteobacteria <- contam d__Bacteria;p__Chloroflexota\n",
      "64 - genome d__Bacteria;p__Bdellovibrionota_B <- contam d__Bacteria;p__Verrucomicrobiota\n",
      "49 - genome d__Bacteria;p__Verrucomicrobiota <- contam d__Bacteria;p__Planctomycetota\n",
      "48 - genome d__Bacteria;p__Nitrospinota <- contam d__Bacteria;p__Marinisomatota\n",
      "45 - genome d__Bacteria;p__Chloroflexota <- contam d__Bacteria;p__Proteobacteria\n",
      "42 - genome d__Bacteria;p__Desulfobacterota_A <- contam d__Bacteria;p__Planctomycetota\n",
      "39 - genome d__Bacteria;p__Verrucomicrobiota <- contam d__Bacteria;p__Actinobacteriota\n",
      "35 - genome d__Bacteria;p__Verrucomicrobiota <- contam d__Bacteria;p__Bacteroidota\n",
      "35 - genome d__Bacteria;p__Proteobacteria <- contam d__Bacteria;p__Actinobacteriota\n",
      "35 - genome d__Bacteria;p__Proteobacteria <- contam d__Bacteria;p__Acidobacteriota\n",
      "33 - genome d__Bacteria;p__Acidobacteriota <- contam d__Bacteria;p__Latescibacterota\n",
      "32 - genome d__Bacteria;p__Myxococcota <- contam d__Bacteria;p__Verrucomicrobiota\n",
      "30 - genome d__Bacteria;p__Proteobacteria <- contam d__Bacteria;p__Cyanobacteria\n",
      "29 - genome d__Bacteria;p__Myxococcota <- contam d__Bacteria;p__Proteobacteria\n",
      "25 - genome d__Bacteria;p__Proteobacteria <- contam d__Bacteria;p__Poribacteria\n",
      "25 - genome d__Bacteria;p__Planctomycetota <- contam d__Bacteria;p__Bacteroidota\n",
      "23 - genome d__Bacteria;p__Bacteroidota <- contam d__Bacteria;p__Verrucomicrobiota\n",
      "21 - genome d__Bacteria;p__Nitrospinota <- contam d__Bacteria;p__Proteobacteria\n",
      "21 - genome d__Bacteria;p__Gemmatimonadota <- contam d__Bacteria;p__Chloroflexota\n",
      "20 - genome d__Bacteria;p__Bacteroidota <- contam d__Bacteria;p__Marinisomatota\n",
      "16 - genome d__Bacteria;p__Proteobacteria <- contam d__Bacteria;p__Myxococcota\n",
      "16 - genome d__Bacteria;p__Latescibacterota <- contam d__Bacteria;p__Chloroflexota\n",
      "15 - genome d__Bacteria;p__Planctomycetota <- contam d__Bacteria;p__Gemmatimonadota\n",
      "13 - genome d__Bacteria;p__Verrucomicrobiota <- contam d__Bacteria;p__Cyanobacteria\n",
      "13 - genome d__Bacteria;p__Verrucomicrobiota <- contam d__Bacteria;p__Chloroflexota\n",
      "13 - genome d__Bacteria;p__Planctomycetota <- contam d__Bacteria;p__Verrucomicrobiota\n",
      "13 - genome d__Bacteria;p__Actinobacteriota <- contam d__Bacteria;p__Marinisomatota\n",
      "12 - genome d__Bacteria;p__Nitrospinota <- contam d__Bacteria;p__SAR324\n",
      "12 - genome d__Bacteria;p__Chloroflexota <- contam d__Bacteria;p__UBA8248\n",
      "12 - genome d__Bacteria;p__Bdellovibrionota_B <- contam d__Bacteria;p__Actinobacteriota\n",
      "11 - genome d__Bacteria;p__Planctomycetota <- contam d__Bacteria;p__Chloroflexota\n",
      "11 - genome d__Bacteria;p__Actinobacteriota <- contam d__Bacteria;p__Planctomycetota\n",
      "10 - genome d__Bacteria;p__Proteobacteria <- contam d__Bacteria;p__Nitrospinota\n",
      "9 - genome d__Bacteria;p__Planctomycetota <- contam d__Bacteria;p__Actinobacteriota\n",
      "9 - genome d__Bacteria;p__Marinisomatota <- contam d__Bacteria;p__Poribacteria\n",
      "9 - genome d__Bacteria;p__Bdellovibrionota <- contam d__Bacteria;p__Proteobacteria\n",
      "9 - genome d__Bacteria;p__Actinobacteriota <- contam d__Bacteria;p__Chloroflexota\n",
      "7 - genome d__Bacteria;p__SAR324 <- contam d__Bacteria;p__Proteobacteria\n",
      "5 - genome d__Bacteria;p__Nitrospinota <- contam d__Bacteria;p__Patescibacteria\n",
      "5 - genome d__Bacteria;p__Nitrospinota <- contam d__Bacteria;p__Nitrospirota\n",
      "5 - genome d__Bacteria;p__Myxococcota <- contam d__Bacteria;p__Gemmatimonadota\n",
      "5 - genome d__Bacteria;p__Chloroflexota <- contam d__Bacteria;p__Bacteroidota\n",
      "5 - genome d__Bacteria;p__Bacteroidota <- contam d__Bacteria;p__Actinobacteriota\n",
      "5 - genome d__Archaea;p__Halobacterota <- contam d__Archaea;p__Thermoplasmatota\n",
      "4 - genome d__Bacteria;p__Proteobacteria <- contam d__Bacteria;p__Dadabacteria\n",
      "4 - genome d__Bacteria;p__Proteobacteria <- contam d__Bacteria;p__Campylobacterota\n",
      "4 - genome d__Bacteria;p__Latescibacterota <- contam d__Bacteria;p__Myxococcota\n",
      "4 - genome d__Bacteria;p__Gemmatimonadota <- contam d__Bacteria;p__Myxococcota\n",
      "4 - genome d__Bacteria;p__Chloroflexota_B <- contam d__Bacteria;p__Gemmatimonadota\n",
      "4 - genome d__Bacteria;p__Acidobacteriota <- contam d__Bacteria;p__Chloroflexota\n",
      "3 - genome d__Bacteria;p__Acidobacteriota <- contam d__Bacteria;p__SAR324\n",
      "2 - genome d__Bacteria;p__Proteobacteria <- contam d__Bacteria;p__SAR324\n",
      "2 - genome d__Bacteria;p__Proteobacteria <- contam d__Bacteria;p__Marinisomatota\n",
      "2 - genome d__Bacteria;p__Proteobacteria <- contam d__Bacteria;p__Desulfuromonadota\n",
      "2 - genome d__Bacteria;p__Nitrospinota <- contam d__Bacteria;p__Planctomycetota\n",
      "2 - genome d__Bacteria;p__Marinisomatota <- contam d__Bacteria;p__Proteobacteria\n",
      "2 - genome d__Bacteria;p__Cyanobacteria <- contam d__Bacteria;p__Proteobacteria\n",
      "2 - genome d__Bacteria;p__Bacteroidota <- contam d__Bacteria;p__Planctomycetota\n",
      "2 - genome d__Bacteria;p__Actinobacteriota <- contam d__Bacteria;p__SAR324\n",
      "2 - genome d__Bacteria;p__Acidobacteriota <- contam d__Bacteria;p__Gemmatimonadota\n",
      "1 - genome d__Bacteria;p__Verrucomicrobiota <- contam d__Bacteria;p__Firmicutes_A\n",
      "1 - genome d__Bacteria;p__SAR324 <- contam d__Bacteria;p__Chloroflexota\n",
      "1 - genome d__Bacteria;p__Proteobacteria <- contam d__Bacteria;p__Patescibacteria\n",
      "1 - genome d__Bacteria;p__Dadabacteria <- contam d__Bacteria;p__Chloroflexota\n",
      "1 - genome d__Bacteria;p__Chloroflexota <- contam d__Bacteria;p__Actinobacteriota\n",
      "1 - genome d__Bacteria;p__Bacteroidota <- contam d__Bacteria;p__Patescibacteria\n",
      "1 - genome d__Bacteria;p__Actinobacteriota <- contam d__Bacteria;p__Verrucomicrobiota\n",
      "1 - genome d__Bacteria;p__Actinobacteriota <- contam d__Bacteria;p__Cyanobacteria\n",
      "1 - genome d__Bacteria;p__Actinobacteriota <- contam d__Bacteria;p__Bacteroidota\n"
     ]
    }
   ],
   "source": [
    "# do sorting and maybe some filtering by rank\n",
    "\n",
    "filter_rank = set()\n",
    "filter_rank = set(['superkingdom', 'phylum'])\n",
    "\n",
    "pairtup_list = []\n",
    "for k, target_d in source_d.items():\n",
    "    if filter_rank and k[-1].rank not in filter_rank: continue\n",
    "    for lin, count in target_d.items():\n",
    "        if filter_rank and lin[-1].rank not in filter_rank: continue\n",
    "        \n",
    "        keytup = (k, lin)\n",
    "        pairtup_list.append((count, keytup))\n",
    "\n",
    "pairtup_list.sort(reverse=True)\n",
    "\n",
    "for count, (k, lin) in pairtup_list:\n",
    "    print(f\"{count} - genome {display_lineage(k)} <- contam {display_lineage(lin)}\")"
   ]
  },
  {
   "cell_type": "code",
   "execution_count": 7,
   "metadata": {},
   "outputs": [],
   "source": [
    "## construct \n",
    "\n",
    "# subselect list down to 20 items\n",
    "sub_list = pairtup_list[:20]\n",
    "\n",
    "class NextIndex:\n",
    "    def __init__(self):\n",
    "        self.idx = -1\n",
    "        \n",
    "    def __call__(self):\n",
    "        self.idx += 1\n",
    "        return self.idx\n",
    "    \n",
    "    def __len__(self):\n",
    "        return self.idx + 1\n",
    "    \n",
    "source_idx = NextIndex()\n",
    "source_indices = defaultdict(source_idx)\n",
    "\n",
    "target_idx = NextIndex()\n",
    "target_indices = defaultdict(target_idx)\n",
    "\n",
    "for count, (source, target) in sub_list:\n",
    "    _ = source_indices[source]\n",
    "    _ = target_indices[target]\n",
    "    \n",
    "mat = numpy.zeros((len(source_idx), len(target_idx)))\n",
    "\n",
    "for count, (source, target) in sub_list:\n",
    "    i = source_indices[source]\n",
    "    j = target_indices[target]\n",
    "\n",
    "    mat[i,j] += count\n",
    "#    print(display_lineage(source), display_lineage(target), count)\n",
    "    \n",
    "source_labels = [\"\"] * len(source_idx)\n",
    "for k, idx in source_indices.items():\n",
    "    source_labels[idx] = display_lineage(k)\n",
    "    \n",
    "target_labels = [\"\"] * len(target_idx)\n",
    "for k, idx in target_indices.items():\n",
    "    target_labels[idx] = display_lineage(k)\n",
    "    \n",
    "    \n",
    "mat_l = []\n",
    "for j in range(len(target_idx)):\n",
    "    x = []\n",
    "    for i in range(len(source_idx)):\n",
    "#        print('XXX', source_labels[i], target_labels[j], mat[i, j])\n",
    "        x.append(mat[i, j])\n",
    "    mat_l.append(x)"
   ]
  },
  {
   "cell_type": "code",
   "execution_count": 8,
   "metadata": {},
   "outputs": [
    {
     "data": {
      "image/svg+xml": [
       "<svg class=\"main-svg\" xmlns=\"http://www.w3.org/2000/svg\" xmlns:xlink=\"http://www.w3.org/1999/xlink\" width=\"800\" height=\"600\" style=\"\" viewBox=\"0 0 800 600\"><rect x=\"0\" y=\"0\" width=\"800\" height=\"600\" style=\"fill: rgb(255, 255, 255); fill-opacity: 1;\"/><defs id=\"defs-7d052f\"><g class=\"clips\"><clipPath id=\"clip7d052fxyplot\" class=\"plotclip\"><rect width=\"374\" height=\"339\"/></clipPath><clipPath class=\"axesclip\" id=\"clip7d052fx\"><rect x=\"256\" y=\"0\" width=\"374\" height=\"600\"/></clipPath><clipPath class=\"axesclip\" id=\"clip7d052fy\"><rect x=\"0\" y=\"100\" width=\"800\" height=\"339\"/></clipPath><clipPath class=\"axesclip\" id=\"clip7d052fxy\"><rect x=\"256\" y=\"100\" width=\"374\" height=\"339\"/></clipPath></g><g class=\"gradients\"><linearGradient x1=\"0\" x2=\"0\" y1=\"1\" y2=\"0\" id=\"g7d052f-cbd2c150\"><stop offset=\"0%\" stop-color=\"rgb(68, 1, 84)\" stop-opacity=\"1\"/><stop offset=\"11.11111111111111%\" stop-color=\"rgb(72, 40, 120)\" stop-opacity=\"1\"/><stop offset=\"22.22222222222222%\" stop-color=\"rgb(62, 73, 137)\" stop-opacity=\"1\"/><stop offset=\"33.33333333333333%\" stop-color=\"rgb(49, 104, 142)\" stop-opacity=\"1\"/><stop offset=\"44.44444444444444%\" stop-color=\"rgb(38, 130, 142)\" stop-opacity=\"1\"/><stop offset=\"55.55555555555556%\" stop-color=\"rgb(31, 158, 137)\" stop-opacity=\"1\"/><stop offset=\"66.66666666666666%\" stop-color=\"rgb(53, 183, 121)\" stop-opacity=\"1\"/><stop offset=\"77.77777777777779%\" stop-color=\"rgb(110, 206, 88)\" stop-opacity=\"1\"/><stop offset=\"88.88888888888889%\" stop-color=\"rgb(181, 222, 43)\" stop-opacity=\"1\"/><stop offset=\"100%\" stop-color=\"rgb(253, 231, 37)\" stop-opacity=\"1\"/></linearGradient></g></defs><g class=\"bglayer\"><rect class=\"bg\" x=\"256\" y=\"100\" width=\"374\" height=\"339\" style=\"fill: rgb(229, 236, 246); fill-opacity: 1; stroke-width: 0;\"/></g><g class=\"layer-below\"><g class=\"imagelayer\"/><g class=\"shapelayer\"/></g><g class=\"cartesianlayer\"><g class=\"subplot xy\"><g class=\"layer-subplot\"><g class=\"shapelayer\"/><g class=\"imagelayer\"/></g><g class=\"gridlayer\"><g class=\"x\"><path class=\"xgrid crisp\" transform=\"translate(271.58,0)\" d=\"M0,100v339\" style=\"stroke: rgb(255, 255, 255); stroke-opacity: 1; stroke-width: 1px;\"/><path class=\"xgrid crisp\" transform=\"translate(302.75,0)\" d=\"M0,100v339\" style=\"stroke: rgb(255, 255, 255); stroke-opacity: 1; stroke-width: 1px;\"/><path class=\"xgrid crisp\" transform=\"translate(333.92,0)\" d=\"M0,100v339\" style=\"stroke: rgb(255, 255, 255); stroke-opacity: 1; stroke-width: 1px;\"/><path class=\"xgrid crisp\" transform=\"translate(365.08,0)\" d=\"M0,100v339\" style=\"stroke: rgb(255, 255, 255); stroke-opacity: 1; stroke-width: 1px;\"/><path class=\"xgrid crisp\" transform=\"translate(396.25,0)\" d=\"M0,100v339\" style=\"stroke: rgb(255, 255, 255); stroke-opacity: 1; stroke-width: 1px;\"/><path class=\"xgrid crisp\" transform=\"translate(427.41999999999996,0)\" d=\"M0,100v339\" style=\"stroke: rgb(255, 255, 255); stroke-opacity: 1; stroke-width: 1px;\"/><path class=\"xgrid crisp\" transform=\"translate(458.58000000000004,0)\" d=\"M0,100v339\" style=\"stroke: rgb(255, 255, 255); stroke-opacity: 1; stroke-width: 1px;\"/><path class=\"xgrid crisp\" transform=\"translate(489.75,0)\" d=\"M0,100v339\" style=\"stroke: rgb(255, 255, 255); stroke-opacity: 1; stroke-width: 1px;\"/><path class=\"xgrid crisp\" transform=\"translate(520.9200000000001,0)\" d=\"M0,100v339\" style=\"stroke: rgb(255, 255, 255); stroke-opacity: 1; stroke-width: 1px;\"/><path class=\"xgrid crisp\" transform=\"translate(552.0799999999999,0)\" d=\"M0,100v339\" style=\"stroke: rgb(255, 255, 255); stroke-opacity: 1; stroke-width: 1px;\"/><path class=\"xgrid crisp\" transform=\"translate(583.25,0)\" d=\"M0,100v339\" style=\"stroke: rgb(255, 255, 255); stroke-opacity: 1; stroke-width: 1px;\"/><path class=\"xgrid crisp\" transform=\"translate(614.4200000000001,0)\" d=\"M0,100v339\" style=\"stroke: rgb(255, 255, 255); stroke-opacity: 1; stroke-width: 1px;\"/></g><g class=\"y\"><path class=\"ygrid crisp\" transform=\"translate(0,423.59)\" d=\"M256,0h374\" style=\"stroke: rgb(255, 255, 255); stroke-opacity: 1; stroke-width: 1px;\"/><path class=\"ygrid crisp\" transform=\"translate(0,392.77)\" d=\"M256,0h374\" style=\"stroke: rgb(255, 255, 255); stroke-opacity: 1; stroke-width: 1px;\"/><path class=\"ygrid crisp\" transform=\"translate(0,361.95)\" d=\"M256,0h374\" style=\"stroke: rgb(255, 255, 255); stroke-opacity: 1; stroke-width: 1px;\"/><path class=\"ygrid crisp\" transform=\"translate(0,331.14)\" d=\"M256,0h374\" style=\"stroke: rgb(255, 255, 255); stroke-opacity: 1; stroke-width: 1px;\"/><path class=\"ygrid crisp\" transform=\"translate(0,300.32)\" d=\"M256,0h374\" style=\"stroke: rgb(255, 255, 255); stroke-opacity: 1; stroke-width: 1px;\"/><path class=\"ygrid crisp\" transform=\"translate(0,269.5)\" d=\"M256,0h374\" style=\"stroke: rgb(255, 255, 255); stroke-opacity: 1; stroke-width: 1px;\"/><path class=\"ygrid crisp\" transform=\"translate(0,238.68)\" d=\"M256,0h374\" style=\"stroke: rgb(255, 255, 255); stroke-opacity: 1; stroke-width: 1px;\"/><path class=\"ygrid crisp\" transform=\"translate(0,207.86)\" d=\"M256,0h374\" style=\"stroke: rgb(255, 255, 255); stroke-opacity: 1; stroke-width: 1px;\"/><path class=\"ygrid crisp\" transform=\"translate(0,177.05)\" d=\"M256,0h374\" style=\"stroke: rgb(255, 255, 255); stroke-opacity: 1; stroke-width: 1px;\"/><path class=\"ygrid crisp\" transform=\"translate(0,146.23)\" d=\"M256,0h374\" style=\"stroke: rgb(255, 255, 255); stroke-opacity: 1; stroke-width: 1px;\"/><path class=\"ygrid crisp\" transform=\"translate(0,115.41)\" d=\"M256,0h374\" style=\"stroke: rgb(255, 255, 255); stroke-opacity: 1; stroke-width: 1px;\"/></g></g><g class=\"zerolinelayer\"/><path class=\"xlines-below\"/><path class=\"ylines-below\"/><g class=\"overlines-below\"/><g class=\"xaxislayer-below\"/><g class=\"yaxislayer-below\"/><g class=\"overaxes-below\"/><g class=\"plot\" transform=\"translate(256, 100)\" clip-path=\"url('#clip7d052fxyplot')\"><g class=\"heatmaplayer mlayer\"><g class=\"hm\"><image xmlns=\"http://www.w3.org/2000/svg\" preserveAspectRatio=\"none\" height=\"339\" width=\"374\" x=\"0\" y=\"0\" xlink:href=\"data:image/png;base64,iVBORw0KGgoAAAANSUhEUgAAAXYAAAFTCAYAAAAtPyfgAAAQGUlEQVR4Xu3WvY5dZxmG4dl2iUMogEAEEg1HQEtpGgoqHw+HSEmJQKCEiAYnKeMZJP6FiLSSePmeNc+VerLf/V2PdWvfXt5ePdz5jwABAgTeqsDtvRdv9fO+yofdhP2rcPlbAgQIHBMQ9mNO/ooAAQKXERD2y0zlixIgQOCYgLAfc/JXBAgQuIyAsF9mKl+UAAECxwSE/ZiTvyJAgMBlBIT9MlP5ogQIEDgmIOzHnPwVAQIELiMg7JeZyhclQIDAMQFhP+bkrwgQIHAZAWG/zFS+KAECBI4JCPsxJ39FgACBywgI+2Wm8kUJECBwTEDYjzn5KwIECFxGQNgvM5UvSoAAgWMCwn7MyV8RIEDgMgLCfpmpfFECBAgcExD2Y07+igABApcREPbLTOWLEiBA4JiAsB9z8lcECBC4jICwX2YqX5QAAQLHBIT9mJO/IkCAwGUEhP0yU/miBAgQOCYg7Mec/BUBAgQuIyDsl5nKFyVAgMAxAWE/5uSvCBAgcBkBYb/MVL4oAQIEjgkI+zEnf0WAAIHLCAj7ZabyRQkQIHBMQNiPOfkrAgQIXEZA2IOpnr3/7eDqf07ev/40ve84gQWBMq4Pn32eEd9e3l49ZNfDw8Ie4jtN4B0JCPs7gn4sZ4T9sSzhexA4T0DYz7N9lJ8s7I9yFl+KwFsVEPa3yvn4P0zYH/9GviGBbyog7N9U8GL/v7BfbDBfl8DXEBD2r4F25f9F2K+8nu9O4JiAsB9zejJ/JexPZkoPIfClAsI+9o9D2McG99xJAWEfm13Yxwb33EkBYR+bXdjHBvfcSQFhH5td2McG99xJAWEfm13Yxwb33EkBYR+bXdjHBvfcSQFhH5td2McG99xJAWEfm13Yxwb33EkBYR+bXdjHBvfcSQFhH5td2McG99xJAWEfm13Yxwb33EkBYR+bXdjHBvfcSQFhH5td2McG99xJAWEfm13Yxwb33EkBYR+bXdjHBvfcSQFhH5td2McG99xJAWEfm13Yxwb33EkBYR+bXdjHBvfcSQFhH5td2McG99xJAWEfm13Yxwb33EkBYR+bXdjHBvfcSQFhH5td2McG99xJAWEfm13Yxwb33EkBYR+bXdjHBvdcAkMCt5e3Vw9D7/33U4V9cXVvJrAhIOzRzvevP40uO0uAwFMXEPZoYWGP4J0lMCAg7NHIwh7BO0tgQEDYo5GFPYJ3lsCAgLBHIwt7BO8sgQEBYY9GFvYI3lkCAwLCHo0s7BG8swQGBIQ9GlnYI3hnCQwICHs0srBH8M4SGBAQ9mhkYY/gnSUwICDs0cjCHsE7S2BAQNijkYU9gneWwICAsEcjC3sE7yyBAQFhj0YW9gjeWQIDAsIejSzsEbyzBAYEhD0aWdgjeGcJDAgIezSysEfwzhIYEBD2aGRhj+CdJTAgIOzRyMIewTtLYEBA2KORhT2Cd5bAgICwRyMLewTvLIEBAWGPRhb2CN5ZAgMCwh6NLOwRvLMEBgSEPRpZ2CN4ZwkMCAh7NLKwR/DOEhgQEPZoZGGP4J0lMCAg7NHIwh7BO0tgQEDYo5GFPYJ3lsCAwGzYB7b1RAJ/F3j2nfdTifu/vk7vV8dvL75Vnb4T9ozeYQLvRkDY343z/14R9sbdVQITAsLezCzsjburBCYEhL2ZWdgbd1cJTAgIezOzsDfurhKYEBD2ZmZhb9xdJTAhIOzNzMLeuLtKYEJA2JuZhb1xd5XAhICwNzMLe+PuKoEJAWFvZhb2xt1VAhMCwt7MLOyNu6sEJgSEvZlZ2Bt3VwlMCAh7M7OwN+6uEpgQEPZmZmFv3F0lMCEg7M3Mwt64u0pgQkDYm5mFvXF3lcCEgLA3Mwt74+4qgQkBYW9mFvbG3VUCEwLC3sws7I27qwQmBIS9mVnYG3dXCUwICHszs7A37q4SmBAQ9mZmYW/cXSUwISDszczC3ri7SmBCQNibmYW9cXeVwISAsDczC3vj7iqBCQFhb2YW9sbdVQITAsLezCzsjburBCYEhL2ZWdgbd1cJTAgIezOzsDfurhKYEBD2ZmZhb9xdJTAhIOzNzMLeuLsaCDz7/neDq/88+fDQ3b4Pb3/xRffuu7u7h/v77P7DZ59nt2/vvehuv7y9Cv/FZe92OBIQ9gBe2AP0uzthT9gdLQSEPVAX9gBd2BN0RxsBYQ/chT1AF/YE3dFGQNgDd2EP0IU9QXe0ERD2wF3YA3RhT9AdbQSEPXAX9gBd2BN0RxsBYQ/chT1AF/YE3dFGQNgDd2EP0IU9QXe0ERD2wF3YA3RhT9AdbQSEPXAX9gBd2BN0RxsBYQ/chT1AF/YE3dFGQNgDd2EP0IU9QXe0ERD2wF3YA3RhT9AdbQSEPXAX9gBd2BN0RxsBYQ/chT1AF/YE3dFGQNgDd2EP0IU9QXe0ERD2wF3YA3RhT9AdbQSEPXAX9gBd2BN0RxsBYQ/chT1AF/YE3dFGQNgDd2EP0IU9QXe0ERD2wF3YA3RhT9AdbQSEPXAX9gBd2BN0RxsBYQ/chT1AF/YE3dFGQNgDd2EP0IU9QXe0ERD2wF3YA3RhT9AdbQSEPXAX9gBd2BN0RxsBYQ/chT1AF/YE3dFGQNgDd2EP0IU9QXe0ERD2wF3YA3RhT9AdbQSEPXAX9gBd2BP0Zx98L7n7r6P3n/wlve84AQJPV+D28vbq4ek+78tfJuyLq3szgQ0BYY929os9gneWwICAsEcjC3sE7yyBAQFhj0YW9gjeWQIDAsIejSzsEbyzBAYEhD0aWdgjeGcJDAgIezSysEfwzhIYEBD2aGRhj+CdJTAgIOzRyMIewTtLYEBA2KORhT2Cd5bAgICwRyMLewTvLIEBAWGPRhb2CN5ZAgMCwh6NLOwRvLMEBgSEPRpZ2CN4ZwkMCAh7NLKwR/DOEhgQEPZoZGGP4J0lMCAg7NHIwh7BO0tgQEDYo5GFPYJ3lsCAgLBHIwt7BO8sgQEBYY9GFvYI3lkCAwLCHo0s7BG8swQGBIQ9GlnYI3hnCQwICHs0srBH8M4SGBAQ9mhkYY/gnSUwICDs0cjCHsE7S2BAQNijkYU9gneWwICAsEcjC3sE7yyBAQFhj0YW9gjeWQIDAsIejSzsEbyzBAYEhD0aWdgjeGcJDAjMhn1g2y994vMffpA9/83Hn2S3HSawIiDsK0v/1zuFfXB0T54SEPapuf/xWGEfHN2TpwSEfWpuYR+c25MHBYR9cHS/2AdH9+QpAWGfmtsv9sG5PXlQQNgHR/eLfXB0T54SEPapuf1iH5zbkwcFhH1wdL/YB0f35CkBYZ+a2y/2wbk9eVBA2AdH94t9cHRPnhIQ9qm5/WIfnNuTBwWEfXB0v9gHR/fkKQFhn5rbL/bBuT15UEDYB0f3i31wdE+eEhD2qbn9Yh+c25MHBYR9cHS/2AdH9+QpAWGfmtsv9sG5PXlQQNgHR/eLfXB0T54SEPapuf1iH5zbkwcFhH1wdL/YB0f35CkBYZ+a2y/2wbk9eVBA2AdH94t9cHRPnhIQ9qm5/WIfnNuTBwWEfXB0v9gHR/fkKQFhn5rbL/bBuT15UEDYB0f3i31wdE+eEhD2qbn9Yh+c25MHBYR9cHS/2AdH9+QpAWGfmtsv9sG5PXlQQNgHR/eLfXB0T54SmA378w9/kA795qM/p/cdJ0Dg6QoIe7StsEfwzhIYEBD2aGRhj+CdJTAgIOzRyMIewTtLYEBA2KORhT2Cd5bAgICwRyMLewTvLIEBAWGPRhb2CN5ZAgMCwh6NLOwRvLMEBgSEPRpZ2CN4ZwkMCAh7NLKwR/DOEhgQEPZoZGGP4J0lMCAg7NHIwh7BO0tgQEDYo5GFPYJ3lsCAgLBHIwt7BO8sgQEBYY9GFvYI3lkCAwLCHo0s7BG8swQGBIQ9GlnYI3hnCQwICHs0srBH8M4SGBAQ9mhkYY/gnSUwICDs0cjCHsE7S2BAQNijkYU9gneWwICAsEcjC3sE7yyBAQFhj0YW9gjeWQIDAsIejSzsEbyzBAYEhD0aWdgjeGcJDAgIezSysEfwzhIYEBD2aGRhj+CdJTAgIOzRyMIewTtLYEBA2KORhT2Cd5bAgICwRyMLewTvLIEBAWGPRhb2CN5ZAgMCu2H/yY/Ted/8/o/pfccJEHi6AsIebSvsEbyzBAYEhD0aWdgjeGcJDAgIezSysEfwzhIYEBD2aGRhj+CdJTAgIOzRyMIewTtLYEBA2KORhT2Cd5bAgICwRyMLewTvLIEBAWGPRhb2CN5ZAgMCwh6NLOwRvLMEBgSEPRpZ2CN4ZwkMCAh7NLKwR/DOEhgQEPZoZGGP4J0lMCAg7NHIwh7BO0tgQEDYo5GFPYJ3lsCAgLBHIwt7BO8sgQEBYY9GFvYI3lkCAwLCHo0s7BG8swQGBIQ9GlnYI3hnCQwICHs0srBH8M4SGBAQ9mhkYY/gnSUwICDs0cjCHsE7S2BAQNijkYU9gneWwICAsEcjC3sE7yyBAQFhj0YW9gjeWQIDAsIejSzsEbyzBAYEhD0aWdgjeGcJDAgIezSysEfwzhIYEBD2aGRhj+CdJTAgIOzRyMIewTtLYEDg9ouf/fqheufDb35bnc7vPv/Rh9l3ePOnj7LbDhMgcL6AsJ9v/H8vCHsE7yyBAQFhj0YW9gjeWQIDAsIejSzsEbyzBAYEhD0aWdgjeGcJDAgIezSysEfwzhIYEBD2aGRhj+CdJTAgIOzRyMIewTtLYEBA2KORhT2Cd5bAgICwRyMLewTvLIEBAWGPRhb2CN5ZAgMCwh6NLOwRvLMEBgSEPRpZ2CN4ZwkMCAh7NLKwR/DOEhgQEPZoZGGP4J0lMCAg7NHIwh7BO0tgQEDYo5GFPYJ3lsCAgLBHIwt7BO8sgQEBYY9GFvYI3lkCAwLCHo0s7BG8swQGBIQ9GlnYI3hnCQwICHs0srBH8M4SGBAQ9mhkYY/gnSUwICDs0cjCHsE7S2BAQNijkYU9gneWwICAsEcjC3sE7yyBAQFhj0YW9gjeWQIDAsIejSzsEbyzBAYEhD0aWdgjeGcJDAgIezSysEfwzhIYEBD2aGRhj+CdJTAgcHvz8U8fqnf+8ue/qk7fvfndH7LbDhMgQOBMAWE/U9dnEyBAIBAQ9gDdSQIECJwpIOxn6vpsAgQIBALCHqA7SYAAgTMFhP1MXZ9NgACBQEDYA3QnCRAgcKaAsJ+p67MJECAQCAh7gO4kAQIEzhQQ9jN1fTYBAgQCAWEP0J0kQIDAmQLCfqauzyZAgEAgIOwBupMECBA4U0DYz9T12QQIEAgEhD1Ad5IAAQJnCgj7mbo+mwABAoGAsAfoThIgQOBMAWE/U9dnEyBAIBAQ9gDdSQIECJwpIOxn6vpsAgQIBALCHqA7SYAAgTMFhP1MXZ9NgACBQEDYA3QnCRAgcKaAsJ+p67MJECAQCAh7gO4kAQIEzhQQ9jN1fTYBAgQCAWEP0J0kQIDAmQLCfqauzyZAgEAgIOwBupMECBA4U0DYz9T12QQIEAgEhD1Ad5IAAQJnCvwNK1nSOWxBRLQAAAAASUVORK5CYII=\" style=\"opacity: 1;\"/></g></g></g><g class=\"overplot\"/><path class=\"xlines-above crisp\" d=\"M255,439.5H630\" style=\"fill: none; stroke-width: 1px; stroke: rgb(255, 255, 255); stroke-opacity: 1;\"/><path class=\"ylines-above crisp\" d=\"M255.5,100V439\" style=\"fill: none; stroke-width: 1px; stroke: rgb(255, 255, 255); stroke-opacity: 1;\"/><g class=\"overlines-above\"/><g class=\"xaxislayer-above\"><g class=\"xtick\"><text text-anchor=\"start\" x=\"0\" y=\"454.4\" transform=\"translate(271.58,0) rotate(30,0,448.4)\" style=\"font-family: 'Open Sans', verdana, arial, sans-serif; font-size: 12px; fill: rgb(42, 63, 95); fill-opacity: 1; white-space: pre;\">d__Eukaryota</text></g><g class=\"xtick\"><text text-anchor=\"start\" x=\"0\" y=\"454.4\" transform=\"translate(302.75,0) rotate(30,0,448.4)\" style=\"font-family: 'Open Sans', verdana, arial, sans-serif; font-size: 12px; fill: rgb(42, 63, 95); fill-opacity: 1; white-space: pre;\">d__Archaea</text></g><g class=\"xtick\"><text text-anchor=\"start\" x=\"0\" y=\"454.4\" transform=\"translate(333.92,0) rotate(30,0,448.4)\" style=\"font-family: 'Open Sans', verdana, arial, sans-serif; font-size: 12px; fill: rgb(42, 63, 95); fill-opacity: 1; white-space: pre;\">d__Bacteria;p__Proteobacteria</text></g><g class=\"xtick\"><text text-anchor=\"start\" x=\"0\" y=\"454.4\" transform=\"translate(365.08,0) rotate(30,0,448.4)\" style=\"font-family: 'Open Sans', verdana, arial, sans-serif; font-size: 12px; fill: rgb(42, 63, 95); fill-opacity: 1; white-space: pre;\">d__Bacteria</text></g><g class=\"xtick\"><text text-anchor=\"start\" x=\"0\" y=\"454.4\" transform=\"translate(396.25,0) rotate(30,0,448.4)\" style=\"font-family: 'Open Sans', verdana, arial, sans-serif; font-size: 12px; fill: rgb(42, 63, 95); fill-opacity: 1; white-space: pre;\">d__Bacteria;p__Nitrospinota</text></g><g class=\"xtick\"><text text-anchor=\"start\" x=\"0\" y=\"454.4\" transform=\"translate(427.41999999999996,0) rotate(30,0,448.4)\" style=\"font-family: 'Open Sans', verdana, arial, sans-serif; font-size: 12px; fill: rgb(42, 63, 95); fill-opacity: 1; white-space: pre;\">d__Bacteria;p__Planctomycetota</text></g><g class=\"xtick\"><text text-anchor=\"start\" x=\"0\" y=\"454.4\" transform=\"translate(458.58000000000004,0) rotate(30,0,448.4)\" style=\"font-family: 'Open Sans', verdana, arial, sans-serif; font-size: 12px; fill: rgb(42, 63, 95); fill-opacity: 1; white-space: pre;\">d__Bacteria;p__Margulisbacteria</text></g><g class=\"xtick\"><text text-anchor=\"start\" x=\"0\" y=\"454.4\" transform=\"translate(489.75,0) rotate(30,0,448.4)\" style=\"font-family: 'Open Sans', verdana, arial, sans-serif; font-size: 12px; fill: rgb(42, 63, 95); fill-opacity: 1; white-space: pre;\">d__Bacteria;p__Bacteroidota</text></g><g class=\"xtick\"><text text-anchor=\"start\" x=\"0\" y=\"454.4\" transform=\"translate(520.9200000000001,0) rotate(30,0,448.4)\" style=\"font-family: 'Open Sans', verdana, arial, sans-serif; font-size: 12px; fill: rgb(42, 63, 95); fill-opacity: 1; white-space: pre;\">d__Bacteria;p__Verrucomicrobiota</text></g><g class=\"xtick\"><text text-anchor=\"start\" x=\"0\" y=\"454.4\" transform=\"translate(552.0799999999999,0) rotate(30,0,448.4)\" style=\"font-family: 'Open Sans', verdana, arial, sans-serif; font-size: 12px; fill: rgb(42, 63, 95); fill-opacity: 1; white-space: pre;\">d__Bacteria;p__Gemmatimonadota</text></g><g class=\"xtick\"><text text-anchor=\"start\" x=\"0\" y=\"454.4\" transform=\"translate(583.25,0) rotate(30,0,448.4)\" style=\"font-family: 'Open Sans', verdana, arial, sans-serif; font-size: 12px; fill: rgb(42, 63, 95); fill-opacity: 1; white-space: pre;\">d__Bacteria;p__Cyanobacteria</text></g><g class=\"xtick\"><text text-anchor=\"start\" x=\"0\" y=\"454.4\" transform=\"translate(614.4200000000001,0) rotate(30,0,448.4)\" style=\"font-family: 'Open Sans', verdana, arial, sans-serif; font-size: 12px; fill: rgb(42, 63, 95); fill-opacity: 1; white-space: pre;\">d__Bacteria;p__Actinobacteriota</text></g></g><g class=\"yaxislayer-above\"><g class=\"ytick\"><text text-anchor=\"end\" x=\"252.6\" y=\"4.199999999999999\" transform=\"translate(0,423.59)\" style=\"font-family: 'Open Sans', verdana, arial, sans-serif; font-size: 12px; fill: rgb(42, 63, 95); fill-opacity: 1; white-space: pre;\">d__Bacteria</text></g><g class=\"ytick\"><text text-anchor=\"end\" x=\"252.6\" y=\"4.199999999999999\" transform=\"translate(0,392.77)\" style=\"font-family: 'Open Sans', verdana, arial, sans-serif; font-size: 12px; fill: rgb(42, 63, 95); fill-opacity: 1; white-space: pre;\">d__Archaea</text></g><g class=\"ytick\"><text text-anchor=\"end\" x=\"252.6\" y=\"4.199999999999999\" transform=\"translate(0,361.95)\" style=\"font-family: 'Open Sans', verdana, arial, sans-serif; font-size: 12px; fill: rgb(42, 63, 95); fill-opacity: 1; white-space: pre;\">d__Bacteria;p__Gemmatimonadota</text></g><g class=\"ytick\"><text text-anchor=\"end\" x=\"252.6\" y=\"4.199999999999999\" transform=\"translate(0,331.14)\" style=\"font-family: 'Open Sans', verdana, arial, sans-serif; font-size: 12px; fill: rgb(42, 63, 95); fill-opacity: 1; white-space: pre;\">d__Bacteria;p__Latescibacterota</text></g><g class=\"ytick\"><text text-anchor=\"end\" x=\"252.6\" y=\"4.199999999999999\" transform=\"translate(0,300.32)\" style=\"font-family: 'Open Sans', verdana, arial, sans-serif; font-size: 12px; fill: rgb(42, 63, 95); fill-opacity: 1; white-space: pre;\">d__Bacteria;p__Chloroflexota</text></g><g class=\"ytick\"><text text-anchor=\"end\" x=\"252.6\" y=\"4.199999999999999\" transform=\"translate(0,269.5)\" style=\"font-family: 'Open Sans', verdana, arial, sans-serif; font-size: 12px; fill: rgb(42, 63, 95); fill-opacity: 1; white-space: pre;\">d__Bacteria;p__Bacteroidota</text></g><g class=\"ytick\"><text text-anchor=\"end\" x=\"252.6\" y=\"4.199999999999999\" transform=\"translate(0,238.68)\" style=\"font-family: 'Open Sans', verdana, arial, sans-serif; font-size: 12px; fill: rgb(42, 63, 95); fill-opacity: 1; white-space: pre;\">d__Bacteria;p__Proteobacteria</text></g><g class=\"ytick\"><text text-anchor=\"end\" x=\"252.6\" y=\"4.199999999999999\" transform=\"translate(0,207.86)\" style=\"font-family: 'Open Sans', verdana, arial, sans-serif; font-size: 12px; fill: rgb(42, 63, 95); fill-opacity: 1; white-space: pre;\">d__Bacteria;p__Myxococcota</text></g><g class=\"ytick\"><text text-anchor=\"end\" x=\"252.6\" y=\"4.199999999999999\" transform=\"translate(0,177.05)\" style=\"font-family: 'Open Sans', verdana, arial, sans-serif; font-size: 12px; fill: rgb(42, 63, 95); fill-opacity: 1; white-space: pre;\">d__Bacteria;p__Verrucomicrobiota</text></g><g class=\"ytick\"><text text-anchor=\"end\" x=\"252.6\" y=\"4.199999999999999\" transform=\"translate(0,146.23)\" style=\"font-family: 'Open Sans', verdana, arial, sans-serif; font-size: 12px; fill: rgb(42, 63, 95); fill-opacity: 1; white-space: pre;\">d__Bacteria;p__Planctomycetota</text></g><g class=\"ytick\"><text text-anchor=\"end\" x=\"252.6\" y=\"4.199999999999999\" transform=\"translate(0,115.41)\" style=\"font-family: 'Open Sans', verdana, arial, sans-serif; font-size: 12px; fill: rgb(42, 63, 95); fill-opacity: 1; white-space: pre;\">d__Bacteria;p__Acidobacteriota</text></g></g><g class=\"overaxes-above\"/></g></g><g class=\"polarlayer\"/><g class=\"ternarylayer\"/><g class=\"geolayer\"/><g class=\"funnelarealayer\"/><g class=\"pielayer\"/><g class=\"treemaplayer\"/><g class=\"sunburstlayer\"/><g class=\"glimages\"/><defs id=\"topdefs-7d052f\"><g class=\"clips\"/></defs><g class=\"layer-above\"><g class=\"imagelayer\"/><g class=\"shapelayer\"/></g><g class=\"infolayer\"><g class=\"cbd2c150 colorbar\" transform=\"translate(256,100)\"><rect class=\"cbbg\" x=\"380\" y=\"0\" width=\"80.53125\" height=\"339\" style=\"fill: rgb(0, 0, 0); fill-opacity: 0; stroke: rgb(68, 68, 68); stroke-opacity: 1; stroke-width: 0;\"/><g class=\"cbfills\" transform=\"translate(0,10)\"><rect class=\"cbfill\" x=\"390\" width=\"30\" y=\"0\" height=\"319\" style=\"stroke: none; fill: url('#g7d052f-cbd2c150');\"/></g><g class=\"cblines\" transform=\"translate(0,10)\"/><g class=\"cbaxis crisp\" transform=\"translate(0,-100)\"><g class=\"ycbd2c150tick\"><text text-anchor=\"start\" x=\"422.9\" y=\"4.199999999999999\" transform=\"translate(0,429)\" style=\"font-family: 'Open Sans', verdana, arial, sans-serif; font-size: 12px; fill: rgb(42, 63, 95); fill-opacity: 1; white-space: pre;\">0</text></g><g class=\"ycbd2c150tick\"><text text-anchor=\"start\" x=\"422.9\" y=\"4.199999999999999\" transform=\"translate(0,369.75)\" style=\"font-family: 'Open Sans', verdana, arial, sans-serif; font-size: 12px; fill: rgb(42, 63, 95); fill-opacity: 1; white-space: pre;\">500</text></g><g class=\"ycbd2c150tick\"><text text-anchor=\"start\" x=\"422.9\" y=\"4.199999999999999\" transform=\"translate(0,310.5)\" style=\"font-family: 'Open Sans', verdana, arial, sans-serif; font-size: 12px; fill: rgb(42, 63, 95); fill-opacity: 1; white-space: pre;\">1000</text></g><g class=\"ycbd2c150tick\"><text text-anchor=\"start\" x=\"422.9\" y=\"4.199999999999999\" transform=\"translate(0,251.25)\" style=\"font-family: 'Open Sans', verdana, arial, sans-serif; font-size: 12px; fill: rgb(42, 63, 95); fill-opacity: 1; white-space: pre;\">1500</text></g><g class=\"ycbd2c150tick\"><text text-anchor=\"start\" x=\"422.9\" y=\"4.199999999999999\" transform=\"translate(0,192)\" style=\"font-family: 'Open Sans', verdana, arial, sans-serif; font-size: 12px; fill: rgb(42, 63, 95); fill-opacity: 1; white-space: pre;\">2000</text></g><g class=\"ycbd2c150tick\"><text text-anchor=\"start\" x=\"422.9\" y=\"4.199999999999999\" transform=\"translate(0,132.75)\" style=\"font-family: 'Open Sans', verdana, arial, sans-serif; font-size: 12px; fill: rgb(42, 63, 95); fill-opacity: 1; white-space: pre;\">2500</text></g></g><g class=\"cbtitleunshift\" transform=\"translate(-256,-100)\"><g class=\"cbtitle\"/></g><rect class=\"cboutline\" x=\"390\" y=\"10\" width=\"30\" height=\"319\" style=\"stroke: rgb(68, 68, 68); stroke-opacity: 1; fill: none; stroke-width: 0;\"/></g><g class=\"g-gtitle\"><text class=\"gtitle\" x=\"40\" y=\"50\" text-anchor=\"start\" dy=\"0em\" style=\"font-family: 'Open Sans', verdana, arial, sans-serif; font-size: 17px; fill: rgb(42, 63, 95); opacity: 1; font-weight: normal; white-space: pre;\">tara-delmont</text></g><g class=\"g-xtitle\"><text class=\"xtitle\" x=\"443\" y=\"588.3556640625\" text-anchor=\"middle\" style=\"font-family: 'Open Sans', verdana, arial, sans-serif; font-size: 14px; fill: rgb(42, 63, 95); opacity: 1; font-weight: normal; white-space: pre;\">genome lineage</text></g><g class=\"g-ytitle\" transform=\"translate(1.7841796875,0)\"><text class=\"ytitle\" transform=\"rotate(-90,12.215624999999989,269.5)\" x=\"12.215624999999989\" y=\"269.5\" text-anchor=\"middle\" style=\"font-family: 'Open Sans', verdana, arial, sans-serif; font-size: 14px; fill: rgb(42, 63, 95); opacity: 1; font-weight: normal; white-space: pre;\">contaminant</text></g></g></svg>"
      ]
     },
     "metadata": {},
     "output_type": "display_data"
    }
   ],
   "source": [
    "# make actual plot!\n",
    "fig = go.Figure(data=go.Heatmap(\n",
    "                   z=mat_l,\n",
    "                   x=source_labels,\n",
    "                   y=target_labels,\n",
    "                   hoverongaps = False,\n",
    "                   colorscale=\"Viridis\"))\n",
    "fig.update_layout(xaxis_title='genome lineage', yaxis_title='contaminant',\n",
    "                  title=f'{name[7:]}')\n",
    "fig.show(render_name, width=800, height=600)"
   ]
  },
  {
   "cell_type": "code",
   "execution_count": null,
   "metadata": {},
   "outputs": [],
   "source": []
  }
 ],
 "metadata": {
  "kernelspec": {
   "display_name": "Python (myenv)",
   "language": "python",
   "name": "myenv"
  },
  "language_info": {
   "codemirror_mode": {
    "name": "ipython",
    "version": 3
   },
   "file_extension": ".py",
   "mimetype": "text/x-python",
   "name": "python",
   "nbconvert_exporter": "python",
   "pygments_lexer": "ipython3",
   "version": "3.7.6"
  }
 },
 "nbformat": 4,
 "nbformat_minor": 4
}
