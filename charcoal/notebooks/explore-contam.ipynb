{
 "cells": [
  {
   "cell_type": "code",
   "execution_count": 1,
   "metadata": {},
   "outputs": [],
   "source": [
    "render = 0"
   ]
  },
  {
   "cell_type": "code",
   "execution_count": 2,
   "metadata": {
    "tags": [
     "parameters"
    ]
   },
   "outputs": [],
   "source": [
    "import os\n",
    "directory = '../../output.demo'\n",
    "render='svg'\n",
    "name=os.path.basename(directory)"
   ]
  },
  {
   "cell_type": "code",
   "execution_count": 3,
   "metadata": {},
   "outputs": [],
   "source": [
    "if not render: render_name = None\n",
    "else: render_name = render"
   ]
  },
  {
   "cell_type": "code",
   "execution_count": 4,
   "metadata": {},
   "outputs": [],
   "source": [
    "from charcoal.utils import load_contamination_summary, build_contamination_matrix, filter_contam\n",
    "\n",
    "import plotly.graph_objects as go"
   ]
  },
  {
   "cell_type": "code",
   "execution_count": 5,
   "metadata": {},
   "outputs": [],
   "source": [
    "# load contamination summary from given directory!\n",
    "with open(f'{directory}/contam_summary.json', 'rt') as fp:\n",
    "    source_d = load_contamination_summary(fp)"
   ]
  },
  {
   "cell_type": "code",
   "execution_count": 6,
   "metadata": {},
   "outputs": [
    {
     "data": {
      "text/plain": [
       "{'GCA_001593925.1_ASM159392v1_genomic.fna.gz': [],\n",
       " 'LoombaR_2017__SID1050_bax__bin.11.fa.gz': [((LineagePair(rank='superkingdom', name='d__Bacteria'),\n",
       "    LineagePair(rank='phylum', name='p__Firmicutes_A'),\n",
       "    LineagePair(rank='class', name='c__Clostridia'),\n",
       "    LineagePair(rank='order', name='o__Oscillospirales'),\n",
       "    LineagePair(rank='family', name='f__Acutalibacteraceae'),\n",
       "    LineagePair(rank='genus', name='g__Anaeromassilibacillus')),\n",
       "   (LineagePair(rank='superkingdom', name='d__Bacteria'),\n",
       "    LineagePair(rank='phylum', name='p__Firmicutes_A'),\n",
       "    LineagePair(rank='class', name='c__Clostridia'),\n",
       "    LineagePair(rank='order', name='o__Lachnospirales'),\n",
       "    LineagePair(rank='family', name='f__Anaerotignaceae'),\n",
       "    LineagePair(rank='genus', name='g__Anaerotignum')),\n",
       "   7),\n",
       "  ((LineagePair(rank='superkingdom', name='d__Bacteria'),\n",
       "    LineagePair(rank='phylum', name='p__Firmicutes_A'),\n",
       "    LineagePair(rank='class', name='c__Clostridia'),\n",
       "    LineagePair(rank='order', name='o__Oscillospirales'),\n",
       "    LineagePair(rank='family', name='f__Acutalibacteraceae'),\n",
       "    LineagePair(rank='genus', name='g__Anaeromassilibacillus')),\n",
       "   (LineagePair(rank='superkingdom', name='d__Bacteria'),\n",
       "    LineagePair(rank='phylum', name='p__Firmicutes_A'),\n",
       "    LineagePair(rank='class', name='c__Clostridia'),\n",
       "    LineagePair(rank='order', name='o__Oscillospirales'),\n",
       "    LineagePair(rank='family', name='f__Acutalibacteraceae'),\n",
       "    LineagePair(rank='genus', name='g__An200')),\n",
       "   3),\n",
       "  ((LineagePair(rank='superkingdom', name='d__Bacteria'),\n",
       "    LineagePair(rank='phylum', name='p__Firmicutes_A'),\n",
       "    LineagePair(rank='class', name='c__Clostridia'),\n",
       "    LineagePair(rank='order', name='o__Oscillospirales'),\n",
       "    LineagePair(rank='family', name='f__Acutalibacteraceae'),\n",
       "    LineagePair(rank='genus', name='g__Anaeromassilibacillus')),\n",
       "   (LineagePair(rank='superkingdom', name='d__Bacteria'),\n",
       "    LineagePair(rank='phylum', name='p__Firmicutes_A'),\n",
       "    LineagePair(rank='class', name='c__Clostridia'),\n",
       "    LineagePair(rank='order', name='o__Oscillospirales'),\n",
       "    LineagePair(rank='family', name='f__Oscillospiraceae'),\n",
       "    LineagePair(rank='genus', name='g__Flavonifractor')),\n",
       "   1),\n",
       "  ((LineagePair(rank='superkingdom', name='d__Bacteria'),\n",
       "    LineagePair(rank='phylum', name='p__Firmicutes_A'),\n",
       "    LineagePair(rank='class', name='c__Clostridia'),\n",
       "    LineagePair(rank='order', name='o__Oscillospirales'),\n",
       "    LineagePair(rank='family', name='f__Acutalibacteraceae'),\n",
       "    LineagePair(rank='genus', name='g__Anaeromassilibacillus')),\n",
       "   (LineagePair(rank='superkingdom', name='d__Bacteria'),\n",
       "    LineagePair(rank='phylum', name='p__Firmicutes_A'),\n",
       "    LineagePair(rank='class', name='c__Clostridia'),\n",
       "    LineagePair(rank='order', name='o__Oscillospirales'),\n",
       "    LineagePair(rank='family', name='f__Oscillospiraceae'),\n",
       "    LineagePair(rank='genus', name='g__Flavonifractor')),\n",
       "   3)],\n",
       " 'TARA_PON_MAG_00084.fa.gz': [],\n",
       " 'TARA_ANE_MAG_00014.fa.gz': [],\n",
       " 'GCF_000005845-subset.fa.gz': [],\n",
       " 'TOBG_NAT-167.fna.gz': []}"
      ]
     },
     "execution_count": 6,
     "metadata": {},
     "output_type": "execute_result"
    }
   ],
   "source": [
    "source_d"
   ]
  },
  {
   "cell_type": "code",
   "execution_count": 7,
   "metadata": {},
   "outputs": [],
   "source": [
    "# do sorting and filtering\n",
    "THRESHOLD_F=0.8\n",
    "sub_list = filter_contam(source_d, THRESHOLD_F, display_at_rank='class')\n",
    "source_labels, target_labels, mat_l = build_contamination_matrix(sub_list)"
   ]
  },
  {
   "cell_type": "code",
   "execution_count": 8,
   "metadata": {},
   "outputs": [
    {
     "data": {
      "image/svg+xml": [
       "<svg class=\"main-svg\" xmlns=\"http://www.w3.org/2000/svg\" xmlns:xlink=\"http://www.w3.org/1999/xlink\" width=\"800\" height=\"600\" style=\"\" viewBox=\"0 0 800 600\"><rect x=\"0\" y=\"0\" width=\"800\" height=\"600\" style=\"fill: rgb(255, 255, 255); fill-opacity: 1;\"/><defs id=\"defs-0b0111\"><g class=\"clips\"><clipPath id=\"clip0b0111xyplot\" class=\"plotclip\"><rect width=\"401\" height=\"420\"/></clipPath><clipPath class=\"axesclip\" id=\"clip0b0111x\"><rect x=\"302\" y=\"0\" width=\"401\" height=\"600\"/></clipPath><clipPath class=\"axesclip\" id=\"clip0b0111y\"><rect x=\"0\" y=\"100\" width=\"800\" height=\"420\"/></clipPath><clipPath class=\"axesclip\" id=\"clip0b0111xy\"><rect x=\"302\" y=\"100\" width=\"401\" height=\"420\"/></clipPath></g><g class=\"gradients\"><linearGradient x1=\"0\" x2=\"0\" y1=\"1\" y2=\"0\" id=\"g0b0111-cb82634f\"><stop offset=\"0%\" stop-color=\"rgb(68, 1, 84)\" stop-opacity=\"1\"/><stop offset=\"11.11111111111111%\" stop-color=\"rgb(72, 40, 120)\" stop-opacity=\"1\"/><stop offset=\"22.22222222222222%\" stop-color=\"rgb(62, 73, 137)\" stop-opacity=\"1\"/><stop offset=\"33.33333333333333%\" stop-color=\"rgb(49, 104, 142)\" stop-opacity=\"1\"/><stop offset=\"44.44444444444444%\" stop-color=\"rgb(38, 130, 142)\" stop-opacity=\"1\"/><stop offset=\"55.55555555555556%\" stop-color=\"rgb(31, 158, 137)\" stop-opacity=\"1\"/><stop offset=\"66.66666666666666%\" stop-color=\"rgb(53, 183, 121)\" stop-opacity=\"1\"/><stop offset=\"77.77777777777779%\" stop-color=\"rgb(110, 206, 88)\" stop-opacity=\"1\"/><stop offset=\"88.88888888888889%\" stop-color=\"rgb(181, 222, 43)\" stop-opacity=\"1\"/><stop offset=\"100%\" stop-color=\"rgb(253, 231, 37)\" stop-opacity=\"1\"/></linearGradient></g></defs><g class=\"bglayer\"><rect class=\"bg\" x=\"302\" y=\"100\" width=\"401\" height=\"420\" style=\"fill: rgb(229, 236, 246); fill-opacity: 1; stroke-width: 0;\"/></g><g class=\"layer-below\"><g class=\"imagelayer\"/><g class=\"shapelayer\"/></g><g class=\"cartesianlayer\"><g class=\"subplot xy\"><g class=\"layer-subplot\"><g class=\"shapelayer\"/><g class=\"imagelayer\"/></g><g class=\"gridlayer\"><g class=\"x\"><path class=\"xgrid crisp\" transform=\"translate(502.5,0)\" d=\"M0,100v420\" style=\"stroke: rgb(255, 255, 255); stroke-opacity: 1; stroke-width: 1px;\"/></g><g class=\"y\"><path class=\"ygrid crisp\" transform=\"translate(0,310)\" d=\"M302,0h401\" style=\"stroke: rgb(255, 255, 255); stroke-opacity: 1; stroke-width: 1px;\"/></g></g><g class=\"zerolinelayer\"/><path class=\"xlines-below\"/><path class=\"ylines-below\"/><g class=\"overlines-below\"/><g class=\"xaxislayer-below\"/><g class=\"yaxislayer-below\"/><g class=\"overaxes-below\"/><g class=\"plot\" transform=\"translate(302, 100)\" clip-path=\"url('#clip0b0111xyplot')\"><g class=\"heatmaplayer mlayer\"><g class=\"hm\"><image xmlns=\"http://www.w3.org/2000/svg\" preserveAspectRatio=\"none\" height=\"420\" width=\"401\" x=\"0\" y=\"0\" xlink:href=\"data:image/png;base64,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\" style=\"opacity: 1;\"/></g></g></g><g class=\"overplot\"/><path class=\"xlines-above crisp\" d=\"M301,520.5H703\" style=\"fill: none; stroke-width: 1px; stroke: rgb(255, 255, 255); stroke-opacity: 1;\"/><path class=\"ylines-above crisp\" d=\"M301.5,100V520\" style=\"fill: none; stroke-width: 1px; stroke: rgb(255, 255, 255); stroke-opacity: 1;\"/><g class=\"overlines-above\"/><g class=\"xaxislayer-above\"><g class=\"xtick\"><text text-anchor=\"middle\" x=\"0\" y=\"535.4\" transform=\"translate(502.5,0)\" style=\"font-family: 'Open Sans', verdana, arial, sans-serif; font-size: 12px; fill: rgb(42, 63, 95); fill-opacity: 1; white-space: pre;\">d__Bacteria;p__Firmicutes_A;c__Clostridia</text></g></g><g class=\"yaxislayer-above\"><g class=\"ytick\"><text text-anchor=\"end\" x=\"298.6\" y=\"4.199999999999999\" transform=\"translate(0,310)\" style=\"font-family: 'Open Sans', verdana, arial, sans-serif; font-size: 12px; fill: rgb(42, 63, 95); fill-opacity: 1; white-space: pre;\">d__Bacteria;p__Firmicutes_A;c__Clostridia</text></g></g><g class=\"overaxes-above\"/></g></g><g class=\"polarlayer\"/><g class=\"ternarylayer\"/><g class=\"geolayer\"/><g class=\"funnelarealayer\"/><g class=\"pielayer\"/><g class=\"treemaplayer\"/><g class=\"sunburstlayer\"/><g class=\"glimages\"/><defs id=\"topdefs-0b0111\"><g class=\"clips\"/></defs><g class=\"layer-above\"><g class=\"imagelayer\"/><g class=\"shapelayer\"/></g><g class=\"infolayer\"><g class=\"cb82634f colorbar\" transform=\"translate(302,100)\"><rect class=\"cbbg\" x=\"409\" y=\"0\" width=\"77.265625\" height=\"420\" style=\"fill: rgb(0, 0, 0); fill-opacity: 0; stroke: rgb(68, 68, 68); stroke-opacity: 1; stroke-width: 0;\"/><g class=\"cbfills\" transform=\"translate(0,10)\"><rect class=\"cbfill\" x=\"419\" width=\"30\" y=\"0\" height=\"400\" style=\"stroke: none; fill: url('#g0b0111-cb82634f');\"/></g><g class=\"cblines\" transform=\"translate(0,10)\"/><g class=\"cbaxis crisp\" transform=\"translate(0,-100)\"><g class=\"ycb82634ftick\"><text text-anchor=\"start\" x=\"451.9\" y=\"4.199999999999999\" transform=\"translate(0,470)\" style=\"font-family: 'Open Sans', verdana, arial, sans-serif; font-size: 12px; fill: rgb(42, 63, 95); fill-opacity: 1; white-space: pre;\">9.6</text></g><g class=\"ycb82634ftick\"><text text-anchor=\"start\" x=\"451.9\" y=\"4.199999999999999\" transform=\"translate(0,390)\" style=\"font-family: 'Open Sans', verdana, arial, sans-serif; font-size: 12px; fill: rgb(42, 63, 95); fill-opacity: 1; white-space: pre;\">9.8</text></g><g class=\"ycb82634ftick\"><text text-anchor=\"start\" x=\"451.9\" y=\"4.199999999999999\" transform=\"translate(0,310)\" style=\"font-family: 'Open Sans', verdana, arial, sans-serif; font-size: 12px; fill: rgb(42, 63, 95); fill-opacity: 1; white-space: pre;\">10</text></g><g class=\"ycb82634ftick\"><text text-anchor=\"start\" x=\"451.9\" y=\"4.199999999999999\" transform=\"translate(0,230)\" style=\"font-family: 'Open Sans', verdana, arial, sans-serif; font-size: 12px; fill: rgb(42, 63, 95); fill-opacity: 1; white-space: pre;\">10.2</text></g><g class=\"ycb82634ftick\"><text text-anchor=\"start\" x=\"451.9\" y=\"4.199999999999999\" transform=\"translate(0,150)\" style=\"font-family: 'Open Sans', verdana, arial, sans-serif; font-size: 12px; fill: rgb(42, 63, 95); fill-opacity: 1; white-space: pre;\">10.4</text></g></g><g class=\"cbtitleunshift\" transform=\"translate(-302,-100)\"><g class=\"cbtitle\"/></g><rect class=\"cboutline\" x=\"419\" y=\"10\" width=\"30\" height=\"400\" style=\"stroke: rgb(68, 68, 68); stroke-opacity: 1; fill: none; stroke-width: 0;\"/></g><g class=\"g-gtitle\"><text class=\"gtitle\" x=\"40\" y=\"50\" text-anchor=\"start\" dy=\"0em\" style=\"font-family: 'Open Sans', verdana, arial, sans-serif; font-size: 17px; fill: rgb(42, 63, 95); opacity: 1; font-weight: normal; white-space: pre;\">demo</text></g><g class=\"g-xtitle\"><text class=\"xtitle\" x=\"502.5\" y=\"562.70625\" text-anchor=\"middle\" style=\"font-family: 'Open Sans', verdana, arial, sans-serif; font-size: 14px; fill: rgb(42, 63, 95); opacity: 1; font-weight: normal; white-space: pre;\">genome lineage</text></g><g class=\"g-ytitle\" transform=\"translate(1.6748046875,0)\"><text class=\"ytitle\" transform=\"rotate(-90,12.324999999999989,310)\" x=\"12.324999999999989\" y=\"310\" text-anchor=\"middle\" style=\"font-family: 'Open Sans', verdana, arial, sans-serif; font-size: 14px; fill: rgb(42, 63, 95); opacity: 1; font-weight: normal; white-space: pre;\">contaminant</text></g></g></svg>"
      ]
     },
     "metadata": {},
     "output_type": "display_data"
    }
   ],
   "source": [
    "# make actual plot!\n",
    "fig = go.Figure(data=go.Heatmap(\n",
    "                   z=mat_l,\n",
    "                   x=source_labels,\n",
    "                   y=target_labels,\n",
    "                   hoverongaps = False,\n",
    "                   colorscale=\"Viridis\"))\n",
    "fig.update_layout(xaxis_title='genome lineage', yaxis_title='contaminant',\n",
    "                  title=f'{name[7:]}')\n",
    "fig.show(render_name, width=800, height=600)"
   ]
  },
  {
   "cell_type": "code",
   "execution_count": null,
   "metadata": {},
   "outputs": [],
   "source": []
  }
 ],
 "metadata": {
  "kernelspec": {
   "display_name": "Python (myenv)",
   "language": "python",
   "name": "myenv"
  },
  "language_info": {
   "codemirror_mode": {
    "name": "ipython",
    "version": 3
   },
   "file_extension": ".py",
   "mimetype": "text/x-python",
   "name": "python",
   "nbconvert_exporter": "python",
   "pygments_lexer": "ipython3",
   "version": "3.7.6"
  }
 },
 "nbformat": 4,
 "nbformat_minor": 4
}
