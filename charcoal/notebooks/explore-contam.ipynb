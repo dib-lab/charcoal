{
 "cells": [
  {
   "cell_type": "code",
   "execution_count": 1,
   "metadata": {},
   "outputs": [],
   "source": [
    "render = 0"
   ]
  },
  {
   "cell_type": "code",
   "execution_count": 2,
   "metadata": {
    "tags": [
     "parameters"
    ]
   },
   "outputs": [],
   "source": [
    "import os\n",
    "directory = '../../output.tara-delmont'\n",
    "render='svg'\n",
    "name=os.path.basename(directory)"
   ]
  },
  {
   "cell_type": "code",
   "execution_count": 3,
   "metadata": {},
   "outputs": [],
   "source": [
    "if not render: render_name = None\n",
    "else: render_name = render"
   ]
  },
  {
   "cell_type": "code",
   "execution_count": 4,
   "metadata": {},
   "outputs": [],
   "source": [
    "from charcoal.utils import load_contamination_summary, build_contamination_matrix, filter_contam\n",
    "\n",
    "import plotly.graph_objects as go"
   ]
  },
  {
   "cell_type": "code",
   "execution_count": 5,
   "metadata": {},
   "outputs": [],
   "source": [
    "# load contamination summary from given directory!\n",
    "with open(f'{directory}/contam_summary.json', 'rt') as fp:\n",
    "    source_d = load_contamination_summary(fp)"
   ]
  },
  {
   "cell_type": "code",
   "execution_count": 6,
   "metadata": {},
   "outputs": [],
   "source": [
    "# do sorting and filtering\n",
    "THRESHOLD_F=0.8\n",
    "sub_list = filter_contam(source_d, THRESHOLD_F)\n",
    "source_labels, target_labels, mat_l = build_contamination_matrix(sub_list)"
   ]
  },
  {
   "cell_type": "code",
   "execution_count": 7,
   "metadata": {},
   "outputs": [
    {
     "data": {
      "image/svg+xml": [
       "<svg class=\"main-svg\" xmlns=\"http://www.w3.org/2000/svg\" xmlns:xlink=\"http://www.w3.org/1999/xlink\" width=\"800\" height=\"600\" style=\"\" viewBox=\"0 0 800 600\"><rect x=\"0\" y=\"0\" width=\"800\" height=\"600\" style=\"fill: rgb(255, 255, 255); fill-opacity: 1;\"/><defs id=\"defs-89b142\"><g class=\"clips\"><clipPath id=\"clip89b142xyplot\" class=\"plotclip\"><rect width=\"361\" height=\"339\"/></clipPath><clipPath class=\"axesclip\" id=\"clip89b142x\"><rect x=\"256\" y=\"0\" width=\"361\" height=\"600\"/></clipPath><clipPath class=\"axesclip\" id=\"clip89b142y\"><rect x=\"0\" y=\"100\" width=\"800\" height=\"339\"/></clipPath><clipPath class=\"axesclip\" id=\"clip89b142xy\"><rect x=\"256\" y=\"100\" width=\"361\" height=\"339\"/></clipPath></g><g class=\"gradients\"><linearGradient x1=\"0\" x2=\"0\" y1=\"1\" y2=\"0\" id=\"g89b142-cbb059ef\"><stop offset=\"0%\" stop-color=\"rgb(68, 1, 84)\" stop-opacity=\"1\"/><stop offset=\"11.11111111111111%\" stop-color=\"rgb(72, 40, 120)\" stop-opacity=\"1\"/><stop offset=\"22.22222222222222%\" stop-color=\"rgb(62, 73, 137)\" stop-opacity=\"1\"/><stop offset=\"33.33333333333333%\" stop-color=\"rgb(49, 104, 142)\" stop-opacity=\"1\"/><stop offset=\"44.44444444444444%\" stop-color=\"rgb(38, 130, 142)\" stop-opacity=\"1\"/><stop offset=\"55.55555555555556%\" stop-color=\"rgb(31, 158, 137)\" stop-opacity=\"1\"/><stop offset=\"66.66666666666666%\" stop-color=\"rgb(53, 183, 121)\" stop-opacity=\"1\"/><stop offset=\"77.77777777777779%\" stop-color=\"rgb(110, 206, 88)\" stop-opacity=\"1\"/><stop offset=\"88.88888888888889%\" stop-color=\"rgb(181, 222, 43)\" stop-opacity=\"1\"/><stop offset=\"100%\" stop-color=\"rgb(253, 231, 37)\" stop-opacity=\"1\"/></linearGradient></g></defs><g class=\"bglayer\"><rect class=\"bg\" x=\"256\" y=\"100\" width=\"361\" height=\"339\" style=\"fill: rgb(229, 236, 246); fill-opacity: 1; stroke-width: 0;\"/></g><g class=\"layer-below\"><g class=\"imagelayer\"/><g class=\"shapelayer\"/></g><g class=\"cartesianlayer\"><g class=\"subplot xy\"><g class=\"layer-subplot\"><g class=\"shapelayer\"/><g class=\"imagelayer\"/></g><g class=\"gridlayer\"><g class=\"x\"><path class=\"xgrid crisp\" transform=\"translate(274.05,0)\" d=\"M0,100v339\" style=\"stroke: rgb(255, 255, 255); stroke-opacity: 1; stroke-width: 1px;\"/><path class=\"xgrid crisp\" transform=\"translate(310.15,0)\" d=\"M0,100v339\" style=\"stroke: rgb(255, 255, 255); stroke-opacity: 1; stroke-width: 1px;\"/><path class=\"xgrid crisp\" transform=\"translate(346.25,0)\" d=\"M0,100v339\" style=\"stroke: rgb(255, 255, 255); stroke-opacity: 1; stroke-width: 1px;\"/><path class=\"xgrid crisp\" transform=\"translate(382.35,0)\" d=\"M0,100v339\" style=\"stroke: rgb(255, 255, 255); stroke-opacity: 1; stroke-width: 1px;\"/><path class=\"xgrid crisp\" transform=\"translate(418.45,0)\" d=\"M0,100v339\" style=\"stroke: rgb(255, 255, 255); stroke-opacity: 1; stroke-width: 1px;\"/><path class=\"xgrid crisp\" transform=\"translate(454.55,0)\" d=\"M0,100v339\" style=\"stroke: rgb(255, 255, 255); stroke-opacity: 1; stroke-width: 1px;\"/><path class=\"xgrid crisp\" transform=\"translate(490.65,0)\" d=\"M0,100v339\" style=\"stroke: rgb(255, 255, 255); stroke-opacity: 1; stroke-width: 1px;\"/><path class=\"xgrid crisp\" transform=\"translate(526.75,0)\" d=\"M0,100v339\" style=\"stroke: rgb(255, 255, 255); stroke-opacity: 1; stroke-width: 1px;\"/><path class=\"xgrid crisp\" transform=\"translate(562.85,0)\" d=\"M0,100v339\" style=\"stroke: rgb(255, 255, 255); stroke-opacity: 1; stroke-width: 1px;\"/><path class=\"xgrid crisp\" transform=\"translate(598.95,0)\" d=\"M0,100v339\" style=\"stroke: rgb(255, 255, 255); stroke-opacity: 1; stroke-width: 1px;\"/></g><g class=\"y\"><path class=\"ygrid crisp\" transform=\"translate(0,422.05)\" d=\"M256,0h361\" style=\"stroke: rgb(255, 255, 255); stroke-opacity: 1; stroke-width: 1px;\"/><path class=\"ygrid crisp\" transform=\"translate(0,388.15)\" d=\"M256,0h361\" style=\"stroke: rgb(255, 255, 255); stroke-opacity: 1; stroke-width: 1px;\"/><path class=\"ygrid crisp\" transform=\"translate(0,354.25)\" d=\"M256,0h361\" style=\"stroke: rgb(255, 255, 255); stroke-opacity: 1; stroke-width: 1px;\"/><path class=\"ygrid crisp\" transform=\"translate(0,320.35)\" d=\"M256,0h361\" style=\"stroke: rgb(255, 255, 255); stroke-opacity: 1; stroke-width: 1px;\"/><path class=\"ygrid crisp\" transform=\"translate(0,286.45)\" d=\"M256,0h361\" style=\"stroke: rgb(255, 255, 255); stroke-opacity: 1; stroke-width: 1px;\"/><path class=\"ygrid crisp\" transform=\"translate(0,252.55)\" d=\"M256,0h361\" style=\"stroke: rgb(255, 255, 255); stroke-opacity: 1; stroke-width: 1px;\"/><path class=\"ygrid crisp\" transform=\"translate(0,218.65)\" d=\"M256,0h361\" style=\"stroke: rgb(255, 255, 255); stroke-opacity: 1; stroke-width: 1px;\"/><path class=\"ygrid crisp\" transform=\"translate(0,184.75)\" d=\"M256,0h361\" style=\"stroke: rgb(255, 255, 255); stroke-opacity: 1; stroke-width: 1px;\"/><path class=\"ygrid crisp\" transform=\"translate(0,150.85)\" d=\"M256,0h361\" style=\"stroke: rgb(255, 255, 255); stroke-opacity: 1; stroke-width: 1px;\"/><path class=\"ygrid crisp\" transform=\"translate(0,116.95)\" d=\"M256,0h361\" style=\"stroke: rgb(255, 255, 255); stroke-opacity: 1; stroke-width: 1px;\"/></g></g><g class=\"zerolinelayer\"/><path class=\"xlines-below\"/><path class=\"ylines-below\"/><g class=\"overlines-below\"/><g class=\"xaxislayer-below\"/><g class=\"yaxislayer-below\"/><g class=\"overaxes-below\"/><g class=\"plot\" transform=\"translate(256, 100)\" clip-path=\"url('#clip89b142xyplot')\"><g class=\"heatmaplayer mlayer\"><g class=\"hm\"><image xmlns=\"http://www.w3.org/2000/svg\" preserveAspectRatio=\"none\" height=\"339\" width=\"361\" x=\"0\" y=\"0\" xlink:href=\"data:image/png;base64,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\" style=\"opacity: 1;\"/></g></g></g><g class=\"overplot\"/><path class=\"xlines-above crisp\" d=\"M255,439.5H617\" style=\"fill: none; stroke-width: 1px; stroke: rgb(255, 255, 255); stroke-opacity: 1;\"/><path class=\"ylines-above crisp\" d=\"M255.5,100V439\" style=\"fill: none; stroke-width: 1px; stroke: rgb(255, 255, 255); stroke-opacity: 1;\"/><g class=\"overlines-above\"/><g class=\"xaxislayer-above\"><g class=\"xtick\"><text text-anchor=\"start\" x=\"0\" y=\"454.4\" transform=\"translate(274.05,0) rotate(30,0,448.4)\" style=\"font-family: 'Open Sans', verdana, arial, sans-serif; font-size: 12px; fill: rgb(42, 63, 95); fill-opacity: 1; white-space: pre;\">d__Eukaryota</text></g><g class=\"xtick\"><text text-anchor=\"start\" x=\"0\" y=\"454.4\" transform=\"translate(310.15,0) rotate(30,0,448.4)\" style=\"font-family: 'Open Sans', verdana, arial, sans-serif; font-size: 12px; fill: rgb(42, 63, 95); fill-opacity: 1; white-space: pre;\">d__Archaea</text></g><g class=\"xtick\"><text text-anchor=\"start\" x=\"0\" y=\"454.4\" transform=\"translate(346.25,0) rotate(30,0,448.4)\" style=\"font-family: 'Open Sans', verdana, arial, sans-serif; font-size: 12px; fill: rgb(42, 63, 95); fill-opacity: 1; white-space: pre;\">d__Bacteria;p__Proteobacteria</text></g><g class=\"xtick\"><text text-anchor=\"start\" x=\"0\" y=\"454.4\" transform=\"translate(382.35,0) rotate(30,0,448.4)\" style=\"font-family: 'Open Sans', verdana, arial, sans-serif; font-size: 12px; fill: rgb(42, 63, 95); fill-opacity: 1; white-space: pre;\">d__Bacteria</text></g><g class=\"xtick\"><text text-anchor=\"start\" x=\"0\" y=\"454.4\" transform=\"translate(418.45,0) rotate(30,0,448.4)\" style=\"font-family: 'Open Sans', verdana, arial, sans-serif; font-size: 12px; fill: rgb(42, 63, 95); fill-opacity: 1; white-space: pre;\">d__Bacteria;p__Nitrospinota</text></g><g class=\"xtick\"><text text-anchor=\"start\" x=\"0\" y=\"454.4\" transform=\"translate(454.55,0) rotate(30,0,448.4)\" style=\"font-family: 'Open Sans', verdana, arial, sans-serif; font-size: 12px; fill: rgb(42, 63, 95); fill-opacity: 1; white-space: pre;\">d__Bacteria;p__Planctomycetota</text></g><g class=\"xtick\"><text text-anchor=\"start\" x=\"0\" y=\"454.4\" transform=\"translate(490.65,0) rotate(30,0,448.4)\" style=\"font-family: 'Open Sans', verdana, arial, sans-serif; font-size: 12px; fill: rgb(42, 63, 95); fill-opacity: 1; white-space: pre;\">d__Bacteria;p__Margulisbacteria</text></g><g class=\"xtick\"><text text-anchor=\"start\" x=\"0\" y=\"454.4\" transform=\"translate(526.75,0) rotate(30,0,448.4)\" style=\"font-family: 'Open Sans', verdana, arial, sans-serif; font-size: 12px; fill: rgb(42, 63, 95); fill-opacity: 1; white-space: pre;\">d__Bacteria;p__Bacteroidota</text></g><g class=\"xtick\"><text text-anchor=\"start\" x=\"0\" y=\"454.4\" transform=\"translate(562.85,0) rotate(30,0,448.4)\" style=\"font-family: 'Open Sans', verdana, arial, sans-serif; font-size: 12px; fill: rgb(42, 63, 95); fill-opacity: 1; white-space: pre;\">d__Bacteria;p__Verrucomicrobiota</text></g><g class=\"xtick\"><text text-anchor=\"start\" x=\"0\" y=\"454.4\" transform=\"translate(598.95,0) rotate(30,0,448.4)\" style=\"font-family: 'Open Sans', verdana, arial, sans-serif; font-size: 12px; fill: rgb(42, 63, 95); fill-opacity: 1; white-space: pre;\">d__Bacteria;p__Gemmatimonadota</text></g></g><g class=\"yaxislayer-above\"><g class=\"ytick\"><text text-anchor=\"end\" x=\"252.6\" y=\"4.199999999999999\" transform=\"translate(0,422.05)\" style=\"font-family: 'Open Sans', verdana, arial, sans-serif; font-size: 12px; fill: rgb(42, 63, 95); fill-opacity: 1; white-space: pre;\">d__Bacteria</text></g><g class=\"ytick\"><text text-anchor=\"end\" x=\"252.6\" y=\"4.199999999999999\" transform=\"translate(0,388.15)\" style=\"font-family: 'Open Sans', verdana, arial, sans-serif; font-size: 12px; fill: rgb(42, 63, 95); fill-opacity: 1; white-space: pre;\">d__Archaea</text></g><g class=\"ytick\"><text text-anchor=\"end\" x=\"252.6\" y=\"4.199999999999999\" transform=\"translate(0,354.25)\" style=\"font-family: 'Open Sans', verdana, arial, sans-serif; font-size: 12px; fill: rgb(42, 63, 95); fill-opacity: 1; white-space: pre;\">d__Bacteria;p__Gemmatimonadota</text></g><g class=\"ytick\"><text text-anchor=\"end\" x=\"252.6\" y=\"4.199999999999999\" transform=\"translate(0,320.35)\" style=\"font-family: 'Open Sans', verdana, arial, sans-serif; font-size: 12px; fill: rgb(42, 63, 95); fill-opacity: 1; white-space: pre;\">d__Bacteria;p__Latescibacterota</text></g><g class=\"ytick\"><text text-anchor=\"end\" x=\"252.6\" y=\"4.199999999999999\" transform=\"translate(0,286.45)\" style=\"font-family: 'Open Sans', verdana, arial, sans-serif; font-size: 12px; fill: rgb(42, 63, 95); fill-opacity: 1; white-space: pre;\">d__Bacteria;p__Chloroflexota</text></g><g class=\"ytick\"><text text-anchor=\"end\" x=\"252.6\" y=\"4.199999999999999\" transform=\"translate(0,252.55)\" style=\"font-family: 'Open Sans', verdana, arial, sans-serif; font-size: 12px; fill: rgb(42, 63, 95); fill-opacity: 1; white-space: pre;\">d__Bacteria;p__Bacteroidota</text></g><g class=\"ytick\"><text text-anchor=\"end\" x=\"252.6\" y=\"4.199999999999999\" transform=\"translate(0,218.65)\" style=\"font-family: 'Open Sans', verdana, arial, sans-serif; font-size: 12px; fill: rgb(42, 63, 95); fill-opacity: 1; white-space: pre;\">d__Bacteria;p__Proteobacteria</text></g><g class=\"ytick\"><text text-anchor=\"end\" x=\"252.6\" y=\"4.199999999999999\" transform=\"translate(0,184.75)\" style=\"font-family: 'Open Sans', verdana, arial, sans-serif; font-size: 12px; fill: rgb(42, 63, 95); fill-opacity: 1; white-space: pre;\">d__Bacteria;p__Myxococcota</text></g><g class=\"ytick\"><text text-anchor=\"end\" x=\"252.6\" y=\"4.199999999999999\" transform=\"translate(0,150.85)\" style=\"font-family: 'Open Sans', verdana, arial, sans-serif; font-size: 12px; fill: rgb(42, 63, 95); fill-opacity: 1; white-space: pre;\">d__Bacteria;p__Verrucomicrobiota</text></g><g class=\"ytick\"><text text-anchor=\"end\" x=\"252.6\" y=\"4.199999999999999\" transform=\"translate(0,116.95)\" style=\"font-family: 'Open Sans', verdana, arial, sans-serif; font-size: 12px; fill: rgb(42, 63, 95); fill-opacity: 1; white-space: pre;\">d__Bacteria;p__Planctomycetota</text></g></g><g class=\"overaxes-above\"/></g></g><g class=\"polarlayer\"/><g class=\"ternarylayer\"/><g class=\"geolayer\"/><g class=\"funnelarealayer\"/><g class=\"pielayer\"/><g class=\"treemaplayer\"/><g class=\"sunburstlayer\"/><g class=\"glimages\"/><defs id=\"topdefs-89b142\"><g class=\"clips\"/></defs><g class=\"layer-above\"><g class=\"imagelayer\"/><g class=\"shapelayer\"/></g><g class=\"infolayer\"><g class=\"cbb059ef colorbar\" transform=\"translate(256,100)\"><rect class=\"cbbg\" x=\"367\" y=\"0\" width=\"80.53125\" height=\"339\" style=\"fill: rgb(0, 0, 0); fill-opacity: 0; stroke: rgb(68, 68, 68); stroke-opacity: 1; stroke-width: 0;\"/><g class=\"cbfills\" transform=\"translate(0,10)\"><rect class=\"cbfill\" x=\"377\" width=\"30\" y=\"0\" height=\"319\" style=\"stroke: none; fill: url('#g89b142-cbb059ef');\"/></g><g class=\"cblines\" transform=\"translate(0,10)\"/><g class=\"cbaxis crisp\" transform=\"translate(0,-100)\"><g class=\"ycbb059eftick\"><text text-anchor=\"start\" x=\"409.9\" y=\"4.199999999999999\" transform=\"translate(0,429)\" style=\"font-family: 'Open Sans', verdana, arial, sans-serif; font-size: 12px; fill: rgb(42, 63, 95); fill-opacity: 1; white-space: pre;\">0</text></g><g class=\"ycbb059eftick\"><text text-anchor=\"start\" x=\"409.9\" y=\"4.199999999999999\" transform=\"translate(0,369.75)\" style=\"font-family: 'Open Sans', verdana, arial, sans-serif; font-size: 12px; fill: rgb(42, 63, 95); fill-opacity: 1; white-space: pre;\">500</text></g><g class=\"ycbb059eftick\"><text text-anchor=\"start\" x=\"409.9\" y=\"4.199999999999999\" transform=\"translate(0,310.5)\" style=\"font-family: 'Open Sans', verdana, arial, sans-serif; font-size: 12px; fill: rgb(42, 63, 95); fill-opacity: 1; white-space: pre;\">1000</text></g><g class=\"ycbb059eftick\"><text text-anchor=\"start\" x=\"409.9\" y=\"4.199999999999999\" transform=\"translate(0,251.25)\" style=\"font-family: 'Open Sans', verdana, arial, sans-serif; font-size: 12px; fill: rgb(42, 63, 95); fill-opacity: 1; white-space: pre;\">1500</text></g><g class=\"ycbb059eftick\"><text text-anchor=\"start\" x=\"409.9\" y=\"4.199999999999999\" transform=\"translate(0,192)\" style=\"font-family: 'Open Sans', verdana, arial, sans-serif; font-size: 12px; fill: rgb(42, 63, 95); fill-opacity: 1; white-space: pre;\">2000</text></g><g class=\"ycbb059eftick\"><text text-anchor=\"start\" x=\"409.9\" y=\"4.199999999999999\" transform=\"translate(0,132.75)\" style=\"font-family: 'Open Sans', verdana, arial, sans-serif; font-size: 12px; fill: rgb(42, 63, 95); fill-opacity: 1; white-space: pre;\">2500</text></g></g><g class=\"cbtitleunshift\" transform=\"translate(-256,-100)\"><g class=\"cbtitle\"/></g><rect class=\"cboutline\" x=\"377\" y=\"10\" width=\"30\" height=\"319\" style=\"stroke: rgb(68, 68, 68); stroke-opacity: 1; fill: none; stroke-width: 0;\"/></g><g class=\"g-gtitle\"><text class=\"gtitle\" x=\"40\" y=\"50\" text-anchor=\"start\" dy=\"0em\" style=\"font-family: 'Open Sans', verdana, arial, sans-serif; font-size: 17px; fill: rgb(42, 63, 95); opacity: 1; font-weight: normal; white-space: pre;\">tara-delmont</text></g><g class=\"g-xtitle\"><text class=\"xtitle\" x=\"436.5\" y=\"588.3556640625\" text-anchor=\"middle\" style=\"font-family: 'Open Sans', verdana, arial, sans-serif; font-size: 14px; fill: rgb(42, 63, 95); opacity: 1; font-weight: normal; white-space: pre;\">genome lineage</text></g><g class=\"g-ytitle\" transform=\"translate(1.7841796875,0)\"><text class=\"ytitle\" transform=\"rotate(-90,12.215624999999989,269.5)\" x=\"12.215624999999989\" y=\"269.5\" text-anchor=\"middle\" style=\"font-family: 'Open Sans', verdana, arial, sans-serif; font-size: 14px; fill: rgb(42, 63, 95); opacity: 1; font-weight: normal; white-space: pre;\">contaminant</text></g></g></svg>"
      ]
     },
     "metadata": {},
     "output_type": "display_data"
    }
   ],
   "source": [
    "# make actual plot!\n",
    "fig = go.Figure(data=go.Heatmap(\n",
    "                   z=mat_l,\n",
    "                   x=source_labels,\n",
    "                   y=target_labels,\n",
    "                   hoverongaps = False,\n",
    "                   colorscale=\"Viridis\"))\n",
    "fig.update_layout(xaxis_title='genome lineage', yaxis_title='contaminant',\n",
    "                  title=f'{name[7:]}')\n",
    "fig.show(render_name, width=800, height=600)"
   ]
  },
  {
   "cell_type": "code",
   "execution_count": null,
   "metadata": {},
   "outputs": [],
   "source": []
  }
 ],
 "metadata": {
  "kernelspec": {
   "display_name": "Python (myenv)",
   "language": "python",
   "name": "myenv"
  },
  "language_info": {
   "codemirror_mode": {
    "name": "ipython",
    "version": 3
   },
   "file_extension": ".py",
   "mimetype": "text/x-python",
   "name": "python",
   "nbconvert_exporter": "python",
   "pygments_lexer": "ipython3",
   "version": "3.7.6"
  }
 },
 "nbformat": 4,
 "nbformat_minor": 4
}
