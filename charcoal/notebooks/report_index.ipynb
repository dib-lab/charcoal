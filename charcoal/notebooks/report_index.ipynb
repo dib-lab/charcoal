{
 "cells": [
  {
   "cell_type": "code",
   "execution_count": 6,
   "metadata": {
    "tags": [
     "parameters"
    ]
   },
   "outputs": [],
   "source": [
    "directory = '../../output.demo'"
   ]
  },
  {
   "cell_type": "code",
   "execution_count": 7,
   "metadata": {},
   "outputs": [
    {
     "data": {
      "text/markdown": [
       "# charcoal summary report for `../../output.demo`\n",
       "* [`LoombaR_2017__SID1050_bax__bin.11.fa.gz`](LoombaR_2017__SID1050_bax__bin.11.fa.gz.fig.html)\n",
       "* [`TOBG_NAT-167.fna.gz`](TOBG_NAT-167.fna.gz.fig.html)\n",
       "* [`GCF_000005845-subset.fa.gz`](GCF_000005845-subset.fa.gz.fig.html)\n",
       "* [`TARA_ANE_MAG_00014.fa.gz`](TARA_ANE_MAG_00014.fa.gz.fig.html)\n",
       "* [`TARA_PON_MAG_00084.fa.gz`](TARA_PON_MAG_00084.fa.gz.fig.html)\n",
       "* [`GCA_001593925.1_ASM159392v1_genomic.fna.gz`](GCA_001593925.1_ASM159392v1_genomic.fna.gz.fig.html)"
      ],
      "text/plain": [
       "<IPython.core.display.Markdown object>"
      ]
     },
     "metadata": {},
     "output_type": "display_data"
    }
   ],
   "source": [
    "from charcoal.utils import CSV_DictHelper\n",
    "from IPython.display import display, Markdown\n",
    "\n",
    "summary = CSV_DictHelper(f'{directory}/genome_summary.csv', 'genome')\n",
    "\n",
    "output = []\n",
    "output.append(f\"# charcoal summary report for `{directory}`\")\n",
    "for genome in summary.rows:\n",
    "    output.append(f\"* [`{genome}`]({genome}.fig.html)\")\n",
    "    \n",
    "display(Markdown(\"\\n\".join(output)))\n",
    "    "
   ]
  },
  {
   "cell_type": "code",
   "execution_count": null,
   "metadata": {},
   "outputs": [],
   "source": []
  }
 ],
 "metadata": {
  "kernelspec": {
   "display_name": "Python (myenv)",
   "language": "python",
   "name": "myenv"
  },
  "language_info": {
   "codemirror_mode": {
    "name": "ipython",
    "version": 3
   },
   "file_extension": ".py",
   "mimetype": "text/x-python",
   "name": "python",
   "nbconvert_exporter": "python",
   "pygments_lexer": "ipython3",
   "version": "3.7.6"
  }
 },
 "nbformat": 4,
 "nbformat_minor": 4
}
