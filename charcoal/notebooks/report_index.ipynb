{
 "cells": [
  {
   "cell_type": "code",
   "execution_count": 1,
   "metadata": {
    "tags": [
     "parameters"
    ]
   },
   "outputs": [],
   "source": [
    "directory = '../../output.ibd2'\n",
    "render='svg'\n",
    "name='output.ibd2'"
   ]
  },
  {
   "cell_type": "code",
   "execution_count": 2,
   "metadata": {},
   "outputs": [
    {
     "data": {
      "text/markdown": [
       "# charcoal summary report for `output.ibd2`"
      ],
      "text/plain": [
       "<IPython.core.display.Markdown object>"
      ]
     },
     "metadata": {},
     "output_type": "display_data"
    }
   ],
   "source": [
    "from charcoal.utils import CSV_DictHelper\n",
    "from IPython.display import display, Markdown\n",
    "\n",
    "summary = CSV_DictHelper(f'{directory}/genome_summary.csv', 'genome')\n",
    "display(Markdown(f\"# charcoal summary report for `{name}`\"))\n"
   ]
  },
  {
   "cell_type": "code",
   "execution_count": 3,
   "metadata": {},
   "outputs": [],
   "source": [
    "import plotly.graph_objects as go\n",
    "from charcoal import utils\n",
    "import collections\n",
    "import os"
   ]
  },
  {
   "cell_type": "code",
   "execution_count": 4,
   "metadata": {},
   "outputs": [
    {
     "data": {
      "text/markdown": [
       "\n",
       "# Summary statistics\n",
       "\n",
       "charcoal examined 41 total genomes in `output.ibd2`.\n",
       "\n",
       "3 could not be analyzed for contamination; see Problem Report, below.\n",
       "\n",
       "8 had no observed contamination at any taxonomic level down to genus.\n",
       "\n",
       "Of the remaining 30 genomes,\n",
       "* 0 had their first observed contamination at **superkingdom**;\n",
       "* 19 had their first observed contamination at **phylum**;\n",
       "* 0 had their first observed contamination at **class**;\n",
       "* 7 had their first observed contamination at **order**;\n",
       "* 0 had their first observed contamination at **family**;\n",
       "* 4 had their first observed contamination at **genus**.\n"
      ],
      "text/plain": [
       "<IPython.core.display.Markdown object>"
      ]
     },
     "metadata": {},
     "output_type": "display_data"
    }
   ],
   "source": [
    "# calculate and display some basic statistics\n",
    "summary = utils.CSV_DictHelper(f'{directory}/genome_summary.csv', 'genome')\n",
    "\n",
    "all_genomes = set(summary)\n",
    "\n",
    "n_genomes = len(all_genomes)\n",
    "no_lineage = set([ k for k in all_genomes if not summary[k].lineage ])\n",
    "n_no_lineage = len(no_lineage)\n",
    "all_genomes -= no_lineage\n",
    "\n",
    "no_genus_contam = set([ k for k in all_genomes if int(summary[k].bad_genus_bp) == 0 ])\n",
    "n_no_contam = len(no_genus_contam)\n",
    "all_genomes -= no_genus_contam\n",
    "contaminated_list = set(all_genomes)\n",
    "clean_list = set(no_genus_contam)\n",
    "\n",
    "first_contam = {}\n",
    "ignore = set()\n",
    "\n",
    "for rank in 'superkingdom', 'phylum', 'class', 'order', 'family', 'genus':\n",
    "    n = 0\n",
    "    for genome in all_genomes:\n",
    "        bad_bp = int(summary[genome][f'bad_{rank}_bp'])\n",
    "        if genome in ignore:\n",
    "            continue\n",
    "        if bad_bp:\n",
    "            n += 1\n",
    "            ignore.add(genome)\n",
    "            continue\n",
    "    first_contam[rank] = n\n",
    "    \n",
    "def display_genome_list(names_to_show, order_by=None, reverse=True):\n",
    "    # select only those we want to show\n",
    "    values = [ summary[k] for k in names_to_show ]\n",
    "    \n",
    "    # sort by:\n",
    "    if order_by:\n",
    "        values.sort(key=lambda x: int(x[order_by]))\n",
    "        if reverse: values.reverse()\n",
    "    else:\n",
    "        values.sort(key = lambda x: x.genome)\n",
    "    \n",
    "    output = []\n",
    "    for row in values:\n",
    "        output.append(f\"* [`{row.genome}`]({row.genome}.fig.html)\")\n",
    "    \n",
    "    return \"\\n\".join(output)\n",
    "\n",
    "def display_no_lineage_list():\n",
    "    values = [ summary[k] for k in summary if not summary[k].lineage ]\n",
    "    \n",
    "    x = []\n",
    "    for row in values:\n",
    "        x.append(f\"* `{row.genome}` - {row.comment}\")\n",
    "        \n",
    "    return \"\\n\".join(x)\n",
    "\n",
    "###### do display\n",
    "\n",
    "display(Markdown(f\"\"\"\n",
    "# Summary statistics\n",
    "\n",
    "charcoal examined {n_genomes} total genomes in `{name}`.\n",
    "\n",
    "{n_no_lineage} could not be analyzed for contamination; see Problem Report, below.\n",
    "\n",
    "{n_no_contam} had no observed contamination at any taxonomic level down to genus.\n",
    "\n",
    "Of the remaining {len(contaminated_list)} genomes,\n",
    "* {first_contam['superkingdom']} had their first observed contamination at **superkingdom**;\n",
    "* {first_contam['phylum']} had their first observed contamination at **phylum**;\n",
    "* {first_contam['class']} had their first observed contamination at **class**;\n",
    "* {first_contam['order']} had their first observed contamination at **order**;\n",
    "* {first_contam['family']} had their first observed contamination at **family**;\n",
    "* {first_contam['genus']} had their first observed contamination at **genus**.\n",
    "\"\"\"))\n"
   ]
  },
  {
   "cell_type": "code",
   "execution_count": 5,
   "metadata": {},
   "outputs": [
    {
     "data": {
      "image/svg+xml": [
       "<svg class=\"main-svg\" xmlns=\"http://www.w3.org/2000/svg\" xmlns:xlink=\"http://www.w3.org/1999/xlink\" width=\"700\" height=\"450\" style=\"\" viewBox=\"0 0 700 450\"><rect x=\"0\" y=\"0\" width=\"700\" height=\"450\" style=\"fill: rgb(255, 255, 255); fill-opacity: 1;\"/><defs id=\"defs-9d5cd1\"><g class=\"clips\"><clipPath id=\"clip9d5cd1xyplot\" class=\"plotclip\"><rect width=\"300\" height=\"270\"/></clipPath><clipPath class=\"axesclip\" id=\"clip9d5cd1x\"><rect x=\"251\" y=\"0\" width=\"300\" height=\"450\"/></clipPath><clipPath class=\"axesclip\" id=\"clip9d5cd1y\"><rect x=\"0\" y=\"100\" width=\"700\" height=\"270\"/></clipPath><clipPath class=\"axesclip\" id=\"clip9d5cd1xy\"><rect x=\"251\" y=\"100\" width=\"300\" height=\"270\"/></clipPath></g><g class=\"gradients\"/></defs><g class=\"bglayer\"><rect class=\"bg\" x=\"251\" y=\"100\" width=\"300\" height=\"270\" style=\"fill: rgb(229, 236, 246); fill-opacity: 1; stroke-width: 0;\"/></g><g class=\"layer-below\"><g class=\"imagelayer\"/><g class=\"shapelayer\"/></g><g class=\"cartesianlayer\"><g class=\"subplot xy\"><g class=\"layer-subplot\"><g class=\"shapelayer\"/><g class=\"imagelayer\"/></g><g class=\"gridlayer\"><g class=\"x\"><path class=\"xgrid crisp\" transform=\"translate(366.9,0)\" d=\"M0,100v270\" style=\"stroke: rgb(255, 255, 255); stroke-opacity: 1; stroke-width: 1px;\"/><path class=\"xgrid crisp\" transform=\"translate(482.78999999999996,0)\" d=\"M0,100v270\" style=\"stroke: rgb(255, 255, 255); stroke-opacity: 1; stroke-width: 1px;\"/></g><g class=\"y\"><path class=\"ygrid crisp\" transform=\"translate(0,356.5)\" d=\"M251,0h300\" style=\"stroke: rgb(255, 255, 255); stroke-opacity: 1; stroke-width: 1px;\"/><path class=\"ygrid crisp\" transform=\"translate(0,329.5)\" d=\"M251,0h300\" style=\"stroke: rgb(255, 255, 255); stroke-opacity: 1; stroke-width: 1px;\"/><path class=\"ygrid crisp\" transform=\"translate(0,302.5)\" d=\"M251,0h300\" style=\"stroke: rgb(255, 255, 255); stroke-opacity: 1; stroke-width: 1px;\"/><path class=\"ygrid crisp\" transform=\"translate(0,275.5)\" d=\"M251,0h300\" style=\"stroke: rgb(255, 255, 255); stroke-opacity: 1; stroke-width: 1px;\"/><path class=\"ygrid crisp\" transform=\"translate(0,248.5)\" d=\"M251,0h300\" style=\"stroke: rgb(255, 255, 255); stroke-opacity: 1; stroke-width: 1px;\"/><path class=\"ygrid crisp\" transform=\"translate(0,221.5)\" d=\"M251,0h300\" style=\"stroke: rgb(255, 255, 255); stroke-opacity: 1; stroke-width: 1px;\"/><path class=\"ygrid crisp\" transform=\"translate(0,194.5)\" d=\"M251,0h300\" style=\"stroke: rgb(255, 255, 255); stroke-opacity: 1; stroke-width: 1px;\"/><path class=\"ygrid crisp\" transform=\"translate(0,167.5)\" d=\"M251,0h300\" style=\"stroke: rgb(255, 255, 255); stroke-opacity: 1; stroke-width: 1px;\"/><path class=\"ygrid crisp\" transform=\"translate(0,140.5)\" d=\"M251,0h300\" style=\"stroke: rgb(255, 255, 255); stroke-opacity: 1; stroke-width: 1px;\"/><path class=\"ygrid crisp\" transform=\"translate(0,113.5)\" d=\"M251,0h300\" style=\"stroke: rgb(255, 255, 255); stroke-opacity: 1; stroke-width: 1px;\"/></g></g><g class=\"zerolinelayer\"><path class=\"xzl zl crisp\" transform=\"translate(251,0)\" d=\"M0,100v270\" style=\"stroke: rgb(255, 255, 255); stroke-opacity: 1; stroke-width: 2px;\"/></g><path class=\"xlines-below\"/><path class=\"ylines-below\"/><g class=\"overlines-below\"/><g class=\"xaxislayer-below\"/><g class=\"yaxislayer-below\"/><g class=\"overaxes-below\"/><g class=\"plot\" transform=\"translate(251, 100)\" clip-path=\"url('#clip9d5cd1xyplot')\"><g class=\"barlayer mlayer\"><g class=\"trace bars\" shape-rendering=\"crispEdges\" style=\"opacity: 1;\"><g class=\"points\"><g class=\"point\"><path d=\"M0,267.3V245.7H0V267.3Z\" style=\"vector-effect: non-scaling-stroke; opacity: 1; stroke-width: 0.5px; fill: rgb(99, 110, 250); fill-opacity: 1; stroke: rgb(229, 236, 246); stroke-opacity: 1;\"/></g><g class=\"point\"><path d=\"M0,240.3V218.7H0V240.3Z\" style=\"vector-effect: non-scaling-stroke; opacity: 1; stroke-width: 0.5px; fill: rgb(99, 110, 250); fill-opacity: 1; stroke: rgb(229, 236, 246); stroke-opacity: 1;\"/></g><g class=\"point\"><path d=\"M0,213.3V191.7H0V213.3Z\" style=\"vector-effect: non-scaling-stroke; opacity: 1; stroke-width: 0.5px; fill: rgb(99, 110, 250); fill-opacity: 1; stroke: rgb(229, 236, 246); stroke-opacity: 1;\"/></g><g class=\"point\"><path d=\"M0,186.3V164.7H0V186.3Z\" style=\"vector-effect: non-scaling-stroke; opacity: 1; stroke-width: 0.5px; fill: rgb(99, 110, 250); fill-opacity: 1; stroke: rgb(229, 236, 246); stroke-opacity: 1;\"/></g><g class=\"point\"><path d=\"M0,159.3V137.7H0V159.3Z\" style=\"vector-effect: non-scaling-stroke; opacity: 1; stroke-width: 0.5px; fill: rgb(99, 110, 250); fill-opacity: 1; stroke: rgb(229, 236, 246); stroke-opacity: 1;\"/></g><g class=\"point\"><path d=\"M0,132.3V110.7H0V132.3Z\" style=\"vector-effect: non-scaling-stroke; opacity: 1; stroke-width: 0.5px; fill: rgb(99, 110, 250); fill-opacity: 1; stroke: rgb(229, 236, 246); stroke-opacity: 1;\"/></g><g class=\"point\"><path d=\"M0,105.3V83.7H0V105.3Z\" style=\"vector-effect: non-scaling-stroke; opacity: 1; stroke-width: 0.5px; fill: rgb(99, 110, 250); fill-opacity: 1; stroke: rgb(229, 236, 246); stroke-opacity: 1;\"/></g><g class=\"point\"><path d=\"M0,78.3V56.7H0V78.3Z\" style=\"vector-effect: non-scaling-stroke; opacity: 1; stroke-width: 0.5px; fill: rgb(99, 110, 250); fill-opacity: 1; stroke: rgb(229, 236, 246); stroke-opacity: 1;\"/></g><g class=\"point\"><path d=\"M0,51.3V29.7H0V51.3Z\" style=\"vector-effect: non-scaling-stroke; opacity: 1; stroke-width: 0.5px; fill: rgb(99, 110, 250); fill-opacity: 1; stroke: rgb(229, 236, 246); stroke-opacity: 1;\"/></g><g class=\"point\"><path d=\"M0,24.3V2.7H0V24.3Z\" style=\"vector-effect: non-scaling-stroke; opacity: 1; stroke-width: 0.5px; fill: rgb(99, 110, 250); fill-opacity: 1; stroke: rgb(229, 236, 246); stroke-opacity: 1;\"/></g></g></g><g class=\"trace bars\" shape-rendering=\"crispEdges\" style=\"opacity: 1;\"><g class=\"points\"><g class=\"point\"><path d=\"M0,267.3V245.7H0.62V267.3Z\" style=\"vector-effect: non-scaling-stroke; opacity: 1; stroke-width: 0.5px; fill: rgb(239, 85, 59); fill-opacity: 1; stroke: rgb(229, 236, 246); stroke-opacity: 1;\"/></g><g class=\"point\"><path d=\"M0,240.3V218.7H4.3V240.3Z\" style=\"vector-effect: non-scaling-stroke; opacity: 1; stroke-width: 0.5px; fill: rgb(239, 85, 59); fill-opacity: 1; stroke: rgb(229, 236, 246); stroke-opacity: 1;\"/></g><g class=\"point\"><path d=\"M0,213.3V191.7H6.19V213.3Z\" style=\"vector-effect: non-scaling-stroke; opacity: 1; stroke-width: 0.5px; fill: rgb(239, 85, 59); fill-opacity: 1; stroke: rgb(229, 236, 246); stroke-opacity: 1;\"/></g><g class=\"point\"><path d=\"M0,186.3V164.7H1.94V186.3Z\" style=\"vector-effect: non-scaling-stroke; opacity: 1; stroke-width: 0.5px; fill: rgb(239, 85, 59); fill-opacity: 1; stroke: rgb(229, 236, 246); stroke-opacity: 1;\"/></g><g class=\"point\"><path d=\"M0,159.3V137.7H2.75V159.3Z\" style=\"vector-effect: non-scaling-stroke; opacity: 1; stroke-width: 0.5px; fill: rgb(239, 85, 59); fill-opacity: 1; stroke: rgb(229, 236, 246); stroke-opacity: 1;\"/></g><g class=\"point\"><path d=\"M0,132.3V110.7H66.26V132.3Z\" style=\"vector-effect: non-scaling-stroke; opacity: 1; stroke-width: 0.5px; fill: rgb(239, 85, 59); fill-opacity: 1; stroke: rgb(229, 236, 246); stroke-opacity: 1;\"/></g><g class=\"point\"><path d=\"M0,105.3V83.7H0.47V105.3Z\" style=\"vector-effect: non-scaling-stroke; opacity: 1; stroke-width: 0.5px; fill: rgb(239, 85, 59); fill-opacity: 1; stroke: rgb(229, 236, 246); stroke-opacity: 1;\"/></g><g class=\"point\"><path d=\"M0,78.3V56.7H12.47V78.3Z\" style=\"vector-effect: non-scaling-stroke; opacity: 1; stroke-width: 0.5px; fill: rgb(239, 85, 59); fill-opacity: 1; stroke: rgb(229, 236, 246); stroke-opacity: 1;\"/></g><g class=\"point\"><path d=\"M0,51.3V29.7H55.04V51.3Z\" style=\"vector-effect: non-scaling-stroke; opacity: 1; stroke-width: 0.5px; fill: rgb(239, 85, 59); fill-opacity: 1; stroke: rgb(229, 236, 246); stroke-opacity: 1;\"/></g><g class=\"point\"><path d=\"M0,24.3V2.7H115.84V24.3Z\" style=\"vector-effect: non-scaling-stroke; opacity: 1; stroke-width: 0.5px; fill: rgb(239, 85, 59); fill-opacity: 1; stroke: rgb(229, 236, 246); stroke-opacity: 1;\"/></g></g></g><g class=\"trace bars\" shape-rendering=\"crispEdges\" style=\"opacity: 1;\"><g class=\"points\"><g class=\"point\"><path d=\"M0.62,267.3V245.7H0.62V267.3Z\" style=\"vector-effect: non-scaling-stroke; opacity: 1; stroke-width: 0.5px; fill: rgb(0, 204, 150); fill-opacity: 1; stroke: rgb(229, 236, 246); stroke-opacity: 1;\"/></g><g class=\"point\"><path d=\"M4.3,240.3V218.7H4.3V240.3Z\" style=\"vector-effect: non-scaling-stroke; opacity: 1; stroke-width: 0.5px; fill: rgb(0, 204, 150); fill-opacity: 1; stroke: rgb(229, 236, 246); stroke-opacity: 1;\"/></g><g class=\"point\"><path d=\"M6.19,213.3V191.7H6.19V213.3Z\" style=\"vector-effect: non-scaling-stroke; opacity: 1; stroke-width: 0.5px; fill: rgb(0, 204, 150); fill-opacity: 1; stroke: rgb(229, 236, 246); stroke-opacity: 1;\"/></g><g class=\"point\"><path d=\"M1.94,186.3V164.7H1.94V186.3Z\" style=\"vector-effect: non-scaling-stroke; opacity: 1; stroke-width: 0.5px; fill: rgb(0, 204, 150); fill-opacity: 1; stroke: rgb(229, 236, 246); stroke-opacity: 1;\"/></g><g class=\"point\"><path d=\"M2.75,159.3V137.7H2.75V159.3Z\" style=\"vector-effect: non-scaling-stroke; opacity: 1; stroke-width: 0.5px; fill: rgb(0, 204, 150); fill-opacity: 1; stroke: rgb(229, 236, 246); stroke-opacity: 1;\"/></g><g class=\"point\"><path d=\"M66.26,132.3V110.7H66.26V132.3Z\" style=\"vector-effect: non-scaling-stroke; opacity: 1; stroke-width: 0.5px; fill: rgb(0, 204, 150); fill-opacity: 1; stroke: rgb(229, 236, 246); stroke-opacity: 1;\"/></g><g class=\"point\"><path d=\"M0.47,105.3V83.7H0.47V105.3Z\" style=\"vector-effect: non-scaling-stroke; opacity: 1; stroke-width: 0.5px; fill: rgb(0, 204, 150); fill-opacity: 1; stroke: rgb(229, 236, 246); stroke-opacity: 1;\"/></g><g class=\"point\"><path d=\"M12.47,78.3V56.7H12.47V78.3Z\" style=\"vector-effect: non-scaling-stroke; opacity: 1; stroke-width: 0.5px; fill: rgb(0, 204, 150); fill-opacity: 1; stroke: rgb(229, 236, 246); stroke-opacity: 1;\"/></g><g class=\"point\"><path d=\"M55.04,51.3V29.7H55.04V51.3Z\" style=\"vector-effect: non-scaling-stroke; opacity: 1; stroke-width: 0.5px; fill: rgb(0, 204, 150); fill-opacity: 1; stroke: rgb(229, 236, 246); stroke-opacity: 1;\"/></g><g class=\"point\"><path d=\"M115.84,24.3V2.7H115.84V24.3Z\" style=\"vector-effect: non-scaling-stroke; opacity: 1; stroke-width: 0.5px; fill: rgb(0, 204, 150); fill-opacity: 1; stroke: rgb(229, 236, 246); stroke-opacity: 1;\"/></g></g></g><g class=\"trace bars\" shape-rendering=\"crispEdges\" style=\"opacity: 1;\"><g class=\"points\"><g class=\"point\"><path d=\"M0.62,267.3V245.7H3.34V267.3Z\" style=\"vector-effect: non-scaling-stroke; opacity: 1; stroke-width: 0.5px; fill: rgb(171, 99, 250); fill-opacity: 1; stroke: rgb(229, 236, 246); stroke-opacity: 1;\"/></g><g class=\"point\"><path d=\"M4.3,240.3V218.7H5.61V240.3Z\" style=\"vector-effect: non-scaling-stroke; opacity: 1; stroke-width: 0.5px; fill: rgb(171, 99, 250); fill-opacity: 1; stroke: rgb(229, 236, 246); stroke-opacity: 1;\"/></g><g class=\"point\"><path d=\"M6.19,213.3V191.7H15.71V213.3Z\" style=\"vector-effect: non-scaling-stroke; opacity: 1; stroke-width: 0.5px; fill: rgb(171, 99, 250); fill-opacity: 1; stroke: rgb(229, 236, 246); stroke-opacity: 1;\"/></g><g class=\"point\"><path d=\"M1.94,186.3V164.7H8.38V186.3Z\" style=\"vector-effect: non-scaling-stroke; opacity: 1; stroke-width: 0.5px; fill: rgb(171, 99, 250); fill-opacity: 1; stroke: rgb(229, 236, 246); stroke-opacity: 1;\"/></g><g class=\"point\"><path d=\"M2.75,159.3V137.7H22.78V159.3Z\" style=\"vector-effect: non-scaling-stroke; opacity: 1; stroke-width: 0.5px; fill: rgb(171, 99, 250); fill-opacity: 1; stroke: rgb(229, 236, 246); stroke-opacity: 1;\"/></g><g class=\"point\"><path d=\"M66.26,132.3V110.7H72.41V132.3Z\" style=\"vector-effect: non-scaling-stroke; opacity: 1; stroke-width: 0.5px; fill: rgb(171, 99, 250); fill-opacity: 1; stroke: rgb(229, 236, 246); stroke-opacity: 1;\"/></g><g class=\"point\"><path d=\"M0.47,105.3V83.7H63.96V105.3Z\" style=\"vector-effect: non-scaling-stroke; opacity: 1; stroke-width: 0.5px; fill: rgb(171, 99, 250); fill-opacity: 1; stroke: rgb(229, 236, 246); stroke-opacity: 1;\"/></g><g class=\"point\"><path d=\"M12.47,78.3V56.7H165.11V78.3Z\" style=\"vector-effect: non-scaling-stroke; opacity: 1; stroke-width: 0.5px; fill: rgb(171, 99, 250); fill-opacity: 1; stroke: rgb(229, 236, 246); stroke-opacity: 1;\"/></g><g class=\"point\"><path d=\"M55.04,51.3V29.7H76.6V51.3Z\" style=\"vector-effect: non-scaling-stroke; opacity: 1; stroke-width: 0.5px; fill: rgb(171, 99, 250); fill-opacity: 1; stroke: rgb(229, 236, 246); stroke-opacity: 1;\"/></g><g class=\"point\"><path d=\"M115.84,24.3V2.7H173.62V24.3Z\" style=\"vector-effect: non-scaling-stroke; opacity: 1; stroke-width: 0.5px; fill: rgb(171, 99, 250); fill-opacity: 1; stroke: rgb(229, 236, 246); stroke-opacity: 1;\"/></g></g></g><g class=\"trace bars\" shape-rendering=\"crispEdges\" style=\"opacity: 1;\"><g class=\"points\"><g class=\"point\"><path d=\"M3.34,267.3V245.7H47.53V267.3Z\" style=\"vector-effect: non-scaling-stroke; opacity: 1; stroke-width: 0.5px; fill: rgb(255, 161, 90); fill-opacity: 1; stroke: rgb(229, 236, 246); stroke-opacity: 1;\"/></g><g class=\"point\"><path d=\"M5.61,240.3V218.7H5.61V240.3Z\" style=\"vector-effect: non-scaling-stroke; opacity: 1; stroke-width: 0.5px; fill: rgb(255, 161, 90); fill-opacity: 1; stroke: rgb(229, 236, 246); stroke-opacity: 1;\"/></g><g class=\"point\"><path d=\"M15.71,213.3V191.7H55.08V213.3Z\" style=\"vector-effect: non-scaling-stroke; opacity: 1; stroke-width: 0.5px; fill: rgb(255, 161, 90); fill-opacity: 1; stroke: rgb(229, 236, 246); stroke-opacity: 1;\"/></g><g class=\"point\"><path d=\"M8.38,186.3V164.7H8.38V186.3Z\" style=\"vector-effect: non-scaling-stroke; opacity: 1; stroke-width: 0.5px; fill: rgb(255, 161, 90); fill-opacity: 1; stroke: rgb(229, 236, 246); stroke-opacity: 1;\"/></g><g class=\"point\"><path d=\"M22.78,159.3V137.7H80.52V159.3Z\" style=\"vector-effect: non-scaling-stroke; opacity: 1; stroke-width: 0.5px; fill: rgb(255, 161, 90); fill-opacity: 1; stroke: rgb(229, 236, 246); stroke-opacity: 1;\"/></g><g class=\"point\"><path d=\"M72.41,132.3V110.7H72.41V132.3Z\" style=\"vector-effect: non-scaling-stroke; opacity: 1; stroke-width: 0.5px; fill: rgb(255, 161, 90); fill-opacity: 1; stroke: rgb(229, 236, 246); stroke-opacity: 1;\"/></g><g class=\"point\"><path d=\"M63.96,105.3V83.7H63.96V105.3Z\" style=\"vector-effect: non-scaling-stroke; opacity: 1; stroke-width: 0.5px; fill: rgb(255, 161, 90); fill-opacity: 1; stroke: rgb(229, 236, 246); stroke-opacity: 1;\"/></g><g class=\"point\"><path d=\"M165.11,78.3V56.7H170.08V78.3Z\" style=\"vector-effect: non-scaling-stroke; opacity: 1; stroke-width: 0.5px; fill: rgb(255, 161, 90); fill-opacity: 1; stroke: rgb(229, 236, 246); stroke-opacity: 1;\"/></g><g class=\"point\"><path d=\"M76.6,51.3V29.7H76.6V51.3Z\" style=\"vector-effect: non-scaling-stroke; opacity: 1; stroke-width: 0.5px; fill: rgb(255, 161, 90); fill-opacity: 1; stroke: rgb(229, 236, 246); stroke-opacity: 1;\"/></g><g class=\"point\"><path d=\"M173.62,24.3V2.7H174.31V24.3Z\" style=\"vector-effect: non-scaling-stroke; opacity: 1; stroke-width: 0.5px; fill: rgb(255, 161, 90); fill-opacity: 1; stroke: rgb(229, 236, 246); stroke-opacity: 1;\"/></g></g></g><g class=\"trace bars\" shape-rendering=\"crispEdges\" style=\"opacity: 1;\"><g class=\"points\"><g class=\"point\"><path d=\"M47.53,267.3V245.7H81.26V267.3Z\" style=\"vector-effect: non-scaling-stroke; opacity: 1; stroke-width: 0.5px; fill: rgb(25, 211, 243); fill-opacity: 1; stroke: rgb(229, 236, 246); stroke-opacity: 1;\"/></g><g class=\"point\"><path d=\"M5.61,240.3V218.7H84.17V240.3Z\" style=\"vector-effect: non-scaling-stroke; opacity: 1; stroke-width: 0.5px; fill: rgb(25, 211, 243); fill-opacity: 1; stroke: rgb(229, 236, 246); stroke-opacity: 1;\"/></g><g class=\"point\"><path d=\"M55.08,213.3V191.7H86.27V213.3Z\" style=\"vector-effect: non-scaling-stroke; opacity: 1; stroke-width: 0.5px; fill: rgb(25, 211, 243); fill-opacity: 1; stroke: rgb(229, 236, 246); stroke-opacity: 1;\"/></g><g class=\"point\"><path d=\"M8.38,186.3V164.7H97.48V186.3Z\" style=\"vector-effect: non-scaling-stroke; opacity: 1; stroke-width: 0.5px; fill: rgb(25, 211, 243); fill-opacity: 1; stroke: rgb(229, 236, 246); stroke-opacity: 1;\"/></g><g class=\"point\"><path d=\"M80.52,159.3V137.7H122.68V159.3Z\" style=\"vector-effect: non-scaling-stroke; opacity: 1; stroke-width: 0.5px; fill: rgb(25, 211, 243); fill-opacity: 1; stroke: rgb(229, 236, 246); stroke-opacity: 1;\"/></g><g class=\"point\"><path d=\"M72.41,132.3V110.7H142.18V132.3Z\" style=\"vector-effect: non-scaling-stroke; opacity: 1; stroke-width: 0.5px; fill: rgb(25, 211, 243); fill-opacity: 1; stroke: rgb(229, 236, 246); stroke-opacity: 1;\"/></g><g class=\"point\"><path d=\"M63.96,105.3V83.7H146.47V105.3Z\" style=\"vector-effect: non-scaling-stroke; opacity: 1; stroke-width: 0.5px; fill: rgb(25, 211, 243); fill-opacity: 1; stroke: rgb(229, 236, 246); stroke-opacity: 1;\"/></g><g class=\"point\"><path d=\"M170.08,78.3V56.7H172.9V78.3Z\" style=\"vector-effect: non-scaling-stroke; opacity: 1; stroke-width: 0.5px; fill: rgb(25, 211, 243); fill-opacity: 1; stroke: rgb(229, 236, 246); stroke-opacity: 1;\"/></g><g class=\"point\"><path d=\"M76.6,51.3V29.7H256.48V51.3Z\" style=\"vector-effect: non-scaling-stroke; opacity: 1; stroke-width: 0.5px; fill: rgb(25, 211, 243); fill-opacity: 1; stroke: rgb(229, 236, 246); stroke-opacity: 1;\"/></g><g class=\"point\"><path d=\"M174.31,24.3V2.7H285V24.3Z\" style=\"vector-effect: non-scaling-stroke; opacity: 1; stroke-width: 0.5px; fill: rgb(25, 211, 243); fill-opacity: 1; stroke: rgb(229, 236, 246); stroke-opacity: 1;\"/></g></g></g></g></g><g class=\"overplot\"/><path class=\"xlines-above crisp\" d=\"M250,370.5H551\" style=\"fill: none; stroke-width: 1px; stroke: rgb(255, 255, 255); stroke-opacity: 1;\"/><path class=\"ylines-above crisp\" d=\"M250.5,100V370\" style=\"fill: none; stroke-width: 1px; stroke: rgb(255, 255, 255); stroke-opacity: 1;\"/><g class=\"overlines-above\"/><g class=\"xaxislayer-above\"><g class=\"xtick\"><text text-anchor=\"middle\" x=\"0\" y=\"385.4\" transform=\"translate(251,0)\" style=\"font-family: 'Open Sans', verdana, arial, sans-serif; font-size: 12px; fill: rgb(42, 63, 95); fill-opacity: 1; white-space: pre;\">0</text></g><g class=\"xtick\"><text text-anchor=\"middle\" x=\"0\" y=\"385.4\" transform=\"translate(366.9,0)\" style=\"font-family: 'Open Sans', verdana, arial, sans-serif; font-size: 12px; fill: rgb(42, 63, 95); fill-opacity: 1; white-space: pre;\">1M</text></g><g class=\"xtick\"><text text-anchor=\"middle\" x=\"0\" y=\"385.4\" transform=\"translate(482.78999999999996,0)\" style=\"font-family: 'Open Sans', verdana, arial, sans-serif; font-size: 12px; fill: rgb(42, 63, 95); fill-opacity: 1; white-space: pre;\">2M</text></g></g><g class=\"yaxislayer-above\"><g class=\"ytick\"><text text-anchor=\"end\" x=\"247.6\" y=\"4.199999999999999\" transform=\"translate(0,356.5)\" style=\"font-family: 'Open Sans', verdana, arial, sans-serif; font-size: 12px; fill: rgb(42, 63, 95); fill-opacity: 1; white-space: pre;\">SRS1719112_8</text></g><g class=\"ytick\"><text text-anchor=\"end\" x=\"247.6\" y=\"4.199999999999999\" transform=\"translate(0,329.5)\" style=\"font-family: 'Open Sans', verdana, arial, sans-serif; font-size: 12px; fill: rgb(42, 63, 95); fill-opacity: 1; white-space: pre;\">LeChatelierE_2013__MH0074__bin.19.</text></g><g class=\"ytick\"><text text-anchor=\"end\" x=\"247.6\" y=\"4.199999999999999\" transform=\"translate(0,302.5)\" style=\"font-family: 'Open Sans', verdana, arial, sans-serif; font-size: 12px; fill: rgb(42, 63, 95); fill-opacity: 1; white-space: pre;\">ERS537328_30</text></g><g class=\"ytick\"><text text-anchor=\"end\" x=\"247.6\" y=\"4.199999999999999\" transform=\"translate(0,275.5)\" style=\"font-family: 'Open Sans', verdana, arial, sans-serif; font-size: 12px; fill: rgb(42, 63, 95); fill-opacity: 1; white-space: pre;\">SRR4305229_bin.5.</text></g><g class=\"ytick\"><text text-anchor=\"end\" x=\"247.6\" y=\"4.199999999999999\" transform=\"translate(0,248.5)\" style=\"font-family: 'Open Sans', verdana, arial, sans-serif; font-size: 12px; fill: rgb(42, 63, 95); fill-opacity: 1; white-space: pre;\">ERS396519_11</text></g><g class=\"ytick\"><text text-anchor=\"end\" x=\"247.6\" y=\"4.199999999999999\" transform=\"translate(0,221.5)\" style=\"font-family: 'Open Sans', verdana, arial, sans-serif; font-size: 12px; fill: rgb(42, 63, 95); fill-opacity: 1; white-space: pre;\">ERS396297_11</text></g><g class=\"ytick\"><text text-anchor=\"end\" x=\"247.6\" y=\"4.199999999999999\" transform=\"translate(0,194.5)\" style=\"font-family: 'Open Sans', verdana, arial, sans-serif; font-size: 12px; fill: rgb(42, 63, 95); fill-opacity: 1; white-space: pre;\">SRS1719498_9</text></g><g class=\"ytick\"><text text-anchor=\"end\" x=\"247.6\" y=\"4.199999999999999\" transform=\"translate(0,167.5)\" style=\"font-family: 'Open Sans', verdana, arial, sans-serif; font-size: 12px; fill: rgb(42, 63, 95); fill-opacity: 1; white-space: pre;\">ERS235530_10</text></g><g class=\"ytick\"><text text-anchor=\"end\" x=\"247.6\" y=\"4.199999999999999\" transform=\"translate(0,140.5)\" style=\"font-family: 'Open Sans', verdana, arial, sans-serif; font-size: 12px; fill: rgb(42, 63, 95); fill-opacity: 1; white-space: pre;\">SRS143598_15</text></g><g class=\"ytick\"><text text-anchor=\"end\" x=\"247.6\" y=\"4.199999999999999\" transform=\"translate(0,113.5)\" style=\"font-family: 'Open Sans', verdana, arial, sans-serif; font-size: 12px; fill: rgb(42, 63, 95); fill-opacity: 1; white-space: pre;\">SRS104400_110</text></g></g><g class=\"overaxes-above\"/></g></g><g class=\"polarlayer\"/><g class=\"ternarylayer\"/><g class=\"geolayer\"/><g class=\"funnelarealayer\"/><g class=\"pielayer\"/><g class=\"treemaplayer\"/><g class=\"sunburstlayer\"/><g class=\"glimages\"/><defs id=\"topdefs-9d5cd1\"><g class=\"clips\"/><clipPath id=\"legend9d5cd1\"><rect width=\"131\" height=\"124\" x=\"0\" y=\"0\"/></clipPath></defs><g class=\"layer-above\"><g class=\"imagelayer\"/><g class=\"shapelayer\"/></g><g class=\"infolayer\"><g class=\"legend\" pointer-events=\"all\" transform=\"translate(557, 100)\"><rect class=\"bg\" shape-rendering=\"crispEdges\" style=\"stroke: rgb(68, 68, 68); stroke-opacity: 1; fill: rgb(255, 255, 255); fill-opacity: 1; stroke-width: 0px;\" width=\"131\" height=\"124\" x=\"0\" y=\"0\"/><g class=\"scrollbox\" transform=\"translate(0, 0)\" clip-path=\"url('#legend9d5cd1')\"><g class=\"groups\"><g class=\"traces\" transform=\"translate(0, 14.5)\" style=\"opacity: 1;\"><text class=\"legendtext user-select-none\" text-anchor=\"start\" x=\"40\" y=\"4.680000000000001\" style=\"font-family: 'Open Sans', verdana, arial, sans-serif; font-size: 12px; fill: rgb(42, 63, 95); fill-opacity: 1; white-space: pre;\">genus</text><g class=\"layers\" style=\"opacity: 1;\"><g class=\"legendfill\"/><g class=\"legendlines\"/><g class=\"legendsymbols\"><g class=\"legendpoints\"><path class=\"legendundefined\" d=\"M6,6H-6V-6H6Z\" transform=\"translate(20,0)\" style=\"stroke-width: 0.5px; fill: rgb(25, 211, 243); fill-opacity: 1; stroke: rgb(229, 236, 246); stroke-opacity: 1;\"/></g></g></g><rect class=\"legendtoggle\" pointer-events=\"all\" x=\"0\" y=\"-9.5\" width=\"125.5\" height=\"19\" style=\"cursor: pointer; fill: rgb(0, 0, 0); fill-opacity: 0;\"/></g><g class=\"traces\" transform=\"translate(0, 33.5)\" style=\"opacity: 1;\"><text class=\"legendtext user-select-none\" text-anchor=\"start\" x=\"40\" y=\"4.680000000000001\" style=\"font-family: 'Open Sans', verdana, arial, sans-serif; font-size: 12px; fill: rgb(42, 63, 95); fill-opacity: 1; white-space: pre;\">family</text><g class=\"layers\" style=\"opacity: 1;\"><g class=\"legendfill\"/><g class=\"legendlines\"/><g class=\"legendsymbols\"><g class=\"legendpoints\"><path class=\"legendundefined\" d=\"M6,6H-6V-6H6Z\" transform=\"translate(20,0)\" style=\"stroke-width: 0.5px; fill: rgb(255, 161, 90); fill-opacity: 1; stroke: rgb(229, 236, 246); stroke-opacity: 1;\"/></g></g></g><rect class=\"legendtoggle\" pointer-events=\"all\" x=\"0\" y=\"-9.5\" width=\"125.5\" height=\"19\" style=\"cursor: pointer; fill: rgb(0, 0, 0); fill-opacity: 0;\"/></g><g class=\"traces\" transform=\"translate(0, 52.5)\" style=\"opacity: 1;\"><text class=\"legendtext user-select-none\" text-anchor=\"start\" x=\"40\" y=\"4.680000000000001\" style=\"font-family: 'Open Sans', verdana, arial, sans-serif; font-size: 12px; fill: rgb(42, 63, 95); fill-opacity: 1; white-space: pre;\">order</text><g class=\"layers\" style=\"opacity: 1;\"><g class=\"legendfill\"/><g class=\"legendlines\"/><g class=\"legendsymbols\"><g class=\"legendpoints\"><path class=\"legendundefined\" d=\"M6,6H-6V-6H6Z\" transform=\"translate(20,0)\" style=\"stroke-width: 0.5px; fill: rgb(171, 99, 250); fill-opacity: 1; stroke: rgb(229, 236, 246); stroke-opacity: 1;\"/></g></g></g><rect class=\"legendtoggle\" pointer-events=\"all\" x=\"0\" y=\"-9.5\" width=\"125.5\" height=\"19\" style=\"cursor: pointer; fill: rgb(0, 0, 0); fill-opacity: 0;\"/></g><g class=\"traces\" transform=\"translate(0, 71.5)\" style=\"opacity: 1;\"><text class=\"legendtext user-select-none\" text-anchor=\"start\" x=\"40\" y=\"4.680000000000001\" style=\"font-family: 'Open Sans', verdana, arial, sans-serif; font-size: 12px; fill: rgb(42, 63, 95); fill-opacity: 1; white-space: pre;\">class</text><g class=\"layers\" style=\"opacity: 1;\"><g class=\"legendfill\"/><g class=\"legendlines\"/><g class=\"legendsymbols\"><g class=\"legendpoints\"><path class=\"legendundefined\" d=\"M6,6H-6V-6H6Z\" transform=\"translate(20,0)\" style=\"stroke-width: 0.5px; fill: rgb(0, 204, 150); fill-opacity: 1; stroke: rgb(229, 236, 246); stroke-opacity: 1;\"/></g></g></g><rect class=\"legendtoggle\" pointer-events=\"all\" x=\"0\" y=\"-9.5\" width=\"125.5\" height=\"19\" style=\"cursor: pointer; fill: rgb(0, 0, 0); fill-opacity: 0;\"/></g><g class=\"traces\" transform=\"translate(0, 90.5)\" style=\"opacity: 1;\"><text class=\"legendtext user-select-none\" text-anchor=\"start\" x=\"40\" y=\"4.680000000000001\" style=\"font-family: 'Open Sans', verdana, arial, sans-serif; font-size: 12px; fill: rgb(42, 63, 95); fill-opacity: 1; white-space: pre;\">phylum</text><g class=\"layers\" style=\"opacity: 1;\"><g class=\"legendfill\"/><g class=\"legendlines\"/><g class=\"legendsymbols\"><g class=\"legendpoints\"><path class=\"legendundefined\" d=\"M6,6H-6V-6H6Z\" transform=\"translate(20,0)\" style=\"stroke-width: 0.5px; fill: rgb(239, 85, 59); fill-opacity: 1; stroke: rgb(229, 236, 246); stroke-opacity: 1;\"/></g></g></g><rect class=\"legendtoggle\" pointer-events=\"all\" x=\"0\" y=\"-9.5\" width=\"125.5\" height=\"19\" style=\"cursor: pointer; fill: rgb(0, 0, 0); fill-opacity: 0;\"/></g><g class=\"traces\" transform=\"translate(0, 109.5)\" style=\"opacity: 1;\"><text class=\"legendtext user-select-none\" text-anchor=\"start\" x=\"40\" y=\"4.680000000000001\" style=\"font-family: 'Open Sans', verdana, arial, sans-serif; font-size: 12px; fill: rgb(42, 63, 95); fill-opacity: 1; white-space: pre;\">superkingdom</text><g class=\"layers\" style=\"opacity: 1;\"><g class=\"legendfill\"/><g class=\"legendlines\"/><g class=\"legendsymbols\"><g class=\"legendpoints\"><path class=\"legendundefined\" d=\"M6,6H-6V-6H6Z\" transform=\"translate(20,0)\" style=\"stroke-width: 0.5px; fill: rgb(99, 110, 250); fill-opacity: 1; stroke: rgb(229, 236, 246); stroke-opacity: 1;\"/></g></g></g><rect class=\"legendtoggle\" pointer-events=\"all\" x=\"0\" y=\"-9.5\" width=\"125.5\" height=\"19\" style=\"cursor: pointer; fill: rgb(0, 0, 0); fill-opacity: 0;\"/></g></g></g><rect class=\"scrollbar\" rx=\"20\" ry=\"3\" width=\"0\" height=\"0\" style=\"fill: rgb(128, 139, 164); fill-opacity: 1;\" x=\"0\" y=\"0\"/></g><g class=\"g-gtitle\"><text class=\"gtitle\" x=\"35\" y=\"50\" text-anchor=\"start\" dy=\"0em\" style=\"font-family: 'Open Sans', verdana, arial, sans-serif; font-size: 17px; fill: rgb(42, 63, 95); opacity: 1; font-weight: normal; white-space: pre;\">top genome contamination by taxonomic rank: utput.ibd2</text></g><g class=\"g-xtitle\"><text class=\"xtitle\" x=\"401\" y=\"412.70625\" text-anchor=\"middle\" style=\"font-family: 'Open Sans', verdana, arial, sans-serif; font-size: 14px; fill: rgb(42, 63, 95); opacity: 1; font-weight: normal; white-space: pre;\">Estimated contamination by rank</text></g><g class=\"g-ytitle\"/></g></svg>"
      ]
     },
     "metadata": {},
     "output_type": "display_data"
    }
   ],
   "source": [
    "def make_hitlist_data(hit_list_filename, omit_genus=True, num=10):\n",
    "    hits = utils.CSV_DictHelper(hit_list_filename, 'genome')\n",
    "    \n",
    "    endings = '.fna.gz', 'fa.gz', '.fa', '_genomic'\n",
    "    \n",
    "    # sort by sum of bad bp at specific rank\n",
    "    if omit_genus:\n",
    "        sort_by = 'family_bad_bp'\n",
    "    else:\n",
    "        sort_by = 'genus_bad_bp'\n",
    "    \n",
    "    # pick off the top num items, sorted by given sort_by\n",
    "    items = list(hits.rows.items())\n",
    "    items.sort(key=lambda item: -int(item[1][sort_by]))\n",
    "    items = items[:num]\n",
    "    items.reverse()\n",
    "    \n",
    "    hitlist_data = collections.defaultdict(list)\n",
    "    names = hitlist_data['names']\n",
    "    \n",
    "    # for each item, retrieve all tax rank bp values\n",
    "    for name, row in items:\n",
    "        # clean up names:\n",
    "        for end in endings:\n",
    "            if name.endswith(end): name = name[:-len(end)]\n",
    "        names.append(name)\n",
    "\n",
    "        last_bp = 0\n",
    "        for key in 'superkingdom', 'phylum', 'class', 'order', 'family', 'genus':\n",
    "            bp = row[f'{key}_bad_bp']\n",
    "            bp = int(bp)\n",
    "            values = hitlist_data[key]\n",
    "            values.append(bp - last_bp)\n",
    "            last_bp = bp\n",
    "            \n",
    "    return hitlist_data\n",
    "\n",
    "def plot_hitlist(hit_list_filename, omit_genus=True, num=10):\n",
    "    hitlist_data = make_hitlist_data(hit_list_filename, omit_genus, num)\n",
    "    \n",
    "    names = hitlist_data['names']\n",
    "\n",
    "    barchart_objs = []\n",
    "    for key in 'superkingdom', 'phylum', 'class', 'order', 'family', 'genus':\n",
    "        values = hitlist_data[key]\n",
    "        if omit_genus and key == 'genus': break\n",
    "            \n",
    "        bc_obj = go.Bar(name=key, y=names, x=values, orientation='h')\n",
    "        barchart_objs.append(bc_obj)\n",
    "        \n",
    "    fig = go.Figure(data=barchart_objs)\n",
    "    title = f'top genome contamination by taxonomic rank: {os.path.dirname(hit_list_filename)[7:]}'\n",
    "    fig.update_layout(barmode='stack', template='plotly',\n",
    "                      xaxis_title='Estimated contamination by rank',\n",
    "                      title=title)\n",
    "\n",
    "    return fig\n",
    "\n",
    "fig = plot_hitlist(f'{directory}/hit_list_for_filtering.csv', omit_genus=False)\n",
    "if not render: render_name = None\n",
    "else: render_name = render\n",
    "fig.show(render_name)"
   ]
  },
  {
   "cell_type": "code",
   "execution_count": 6,
   "metadata": {},
   "outputs": [
    {
     "data": {
      "text/markdown": [
       "\n",
       "## Individual contamination reports\n",
       "\n",
       "(Sorted by summed contamination at genus level.)\n",
       "\n",
       "* [`SRS104400_110.fna.gz`](SRS104400_110.fna.gz.fig.html)\n",
       "* [`SRS143598_15.fna.gz`](SRS143598_15.fna.gz.fig.html)\n",
       "* [`ERS235530_10.fna.gz`](ERS235530_10.fna.gz.fig.html)\n",
       "* [`SRS1719498_9.fna.gz`](SRS1719498_9.fna.gz.fig.html)\n",
       "* [`ERS396297_11.fna.gz`](ERS396297_11.fna.gz.fig.html)\n",
       "* [`ERS396519_11.fna.gz`](ERS396519_11.fna.gz.fig.html)\n",
       "* [`SRR4305229_bin.5.fa.gz`](SRR4305229_bin.5.fa.gz.fig.html)\n",
       "* [`ERS537328_30.fna.gz`](ERS537328_30.fna.gz.fig.html)\n",
       "* [`LeChatelierE_2013__MH0074__bin.19.fa.gz`](LeChatelierE_2013__MH0074__bin.19.fa.gz.fig.html)\n",
       "* [`SRS1719112_8.fna.gz`](SRS1719112_8.fna.gz.fig.html)\n",
       "* [`SRR5127401_bin.3.fa.gz`](SRR5127401_bin.3.fa.gz.fig.html)\n",
       "* [`ERS235531_43.fna.gz`](ERS235531_43.fna.gz.fig.html)\n",
       "* [`ERS537353_12.fna.gz`](ERS537353_12.fna.gz.fig.html)\n",
       "* [`ERS537235_19.fna.gz`](ERS537235_19.fna.gz.fig.html)\n",
       "* [`SRS476209_42.fna.gz`](SRS476209_42.fna.gz.fig.html)\n",
       "* [`ERS608576_22.fna.gz`](ERS608576_22.fna.gz.fig.html)\n",
       "* [`ERS608524_37.fna.gz`](ERS608524_37.fna.gz.fig.html)\n",
       "* [`SRS075078_49.fna.gz`](SRS075078_49.fna.gz.fig.html)\n",
       "* [`SRS1735645_19.fna.gz`](SRS1735645_19.fna.gz.fig.html)\n",
       "* [`ERS473255_26.fna.gz`](ERS473255_26.fna.gz.fig.html)\n",
       "* [`GCF_900036035.1_RGNV35913_genomic.fna.gz`](GCF_900036035.1_RGNV35913_genomic.fna.gz.fig.html)\n",
       "* [`ERS235603_16.fna.gz`](ERS235603_16.fna.gz.fig.html)\n",
       "* [`SRS1735506_4.fna.gz`](SRS1735506_4.fna.gz.fig.html)\n",
       "* [`ERS537218_9.fna.gz`](ERS537218_9.fna.gz.fig.html)\n",
       "* [`ZeeviD_2015__PNP_Main_232__bin.27.fa.gz`](ZeeviD_2015__PNP_Main_232__bin.27.fa.gz.fig.html)\n",
       "* [`SRS1719577_6.fna.gz`](SRS1719577_6.fna.gz.fig.html)\n",
       "* [`SRR6028281_bin.3.fa.gz`](SRR6028281_bin.3.fa.gz.fig.html)\n",
       "* [`LoombaR_2017__SID1050_bax__bin.11.fa.gz`](LoombaR_2017__SID1050_bax__bin.11.fa.gz.fig.html)\n",
       "* [`VogtmannE_2016__MMRS43563715ST-27-0-0__bin.70.fa.gz`](VogtmannE_2016__MMRS43563715ST-27-0-0__bin.70.fa.gz.fig.html)\n",
       "* [`SRS294916_20.fna.gz`](SRS294916_20.fna.gz.fig.html)\n",
       "\n",
       "## Problem Report\n",
       "\n",
       "3 genomes could not be analyzed for contamination.\n",
       "\n",
       "* `LiSS_2016__FAT_DON_8-22-0-0__bin.28.fa.gz` - too few hashes in major lineage; f_major < 20%. provide a lineage for this genome.\n",
       "* `GCF_001405615.1_13414_6_47_genomic.fna.gz` - found exact match: GCF_001405615 s__Agathobacter faecis. but no provided lineage! cannot analyze.\n",
       "* `GCF_000508885.1_ASM50888v1_genomic.fna.gz` - found exact match: GCF_000508885 s__Flavonifractor sp000508885. but no provided lineage! cannot analyze.\n",
       "\n",
       "## Analyzed genomes for which no removable contamination was detected\n",
       "\n",
       "8 genomes had no removable contamination at any taxonomic level down to genus.\n",
       "\n",
       "(Some of this could be due to cryptic contamination or chimeric contigs. @CTB document.)\n",
       "\n",
       "* [`GCF_000371685.1_Clos_bolt_90B3_V1_genomic.fna.gz`](GCF_000371685.1_Clos_bolt_90B3_V1_genomic.fna.gz.fig.html)\n",
       "* [`LiJ_2014__O2.UC28-1__bin.61.fa.gz`](LiJ_2014__O2.UC28-1__bin.61.fa.gz.fig.html)\n",
       "* [`NielsenHB_2014__MH0094__bin.44.fa.gz`](NielsenHB_2014__MH0094__bin.44.fa.gz.fig.html)\n",
       "* [`QinJ_2012__CON-091__bin.20.fa.gz`](QinJ_2012__CON-091__bin.20.fa.gz.fig.html)\n",
       "* [`SRR5558047_bin.10.fa.gz`](SRR5558047_bin.10.fa.gz.fig.html)\n",
       "* [`SRS103987_37.fna.gz`](SRS103987_37.fna.gz.fig.html)\n",
       "* [`VatanenT_2016__G80445__bin.9.fa.gz`](VatanenT_2016__G80445__bin.9.fa.gz.fig.html)\n",
       "* [`XieH_2016__YSZC12003_37172__bin.63.fa.gz`](XieH_2016__YSZC12003_37172__bin.63.fa.gz.fig.html)\n",
       "\n"
      ],
      "text/plain": [
       "<IPython.core.display.Markdown object>"
      ]
     },
     "metadata": {},
     "output_type": "display_data"
    }
   ],
   "source": [
    "display(Markdown(f\"\"\"\n",
    "## Individual contamination reports\n",
    "\n",
    "(Sorted by summed contamination at genus level.)\n",
    "\n",
    "{display_genome_list(contaminated_list, 'bad_genus_bp')}\n",
    "\n",
    "## Problem Report\n",
    "\n",
    "{n_no_lineage} genomes could not be analyzed for contamination.\n",
    "\n",
    "{display_no_lineage_list()}\n",
    "\n",
    "## Analyzed genomes for which no removable contamination was detected\n",
    "\n",
    "{n_no_contam} genomes had no removable contamination at any taxonomic level down to genus.\n",
    "\n",
    "(Some of this could be due to cryptic contamination or chimeric contigs. @CTB document.)\n",
    "\n",
    "{display_genome_list(clean_list)}\n",
    "\n",
    "\"\"\"))"
   ]
  },
  {
   "cell_type": "code",
   "execution_count": null,
   "metadata": {},
   "outputs": [],
   "source": []
  },
  {
   "cell_type": "code",
   "execution_count": null,
   "metadata": {},
   "outputs": [],
   "source": []
  }
 ],
 "metadata": {
  "kernelspec": {
   "display_name": "Python (myenv)",
   "language": "python",
   "name": "myenv"
  },
  "language_info": {
   "codemirror_mode": {
    "name": "ipython",
    "version": 3
   },
   "file_extension": ".py",
   "mimetype": "text/x-python",
   "name": "python",
   "nbconvert_exporter": "python",
   "pygments_lexer": "ipython3",
   "version": "3.7.6"
  }
 },
 "nbformat": 4,
 "nbformat_minor": 4
}
